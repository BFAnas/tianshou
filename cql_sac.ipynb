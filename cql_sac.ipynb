{
 "cells": [
  {
   "cell_type": "code",
   "execution_count": 1,
   "metadata": {},
   "outputs": [
    {
     "name": "stderr",
     "output_type": "stream",
     "text": [
      "/data/user/R901105/.conda/envs/dev/lib/python3.11/site-packages/glfw/__init__.py:916: GLFWError: (65544) b'X11: The DISPLAY environment variable is missing'\n",
      "  warnings.warn(message, GLFWError)\n",
      "/data/user/R901105/.conda/envs/dev/lib/python3.11/site-packages/gymnasium/envs/registration.py:596: UserWarning: \u001b[33mWARN: plugin: shimmy.registration:register_gymnasium_envs raised Traceback (most recent call last):\n",
      "  File \"/data/user/R901105/.conda/envs/dev/lib/python3.11/site-packages/gymnasium/envs/registration.py\", line 594, in load_plugin_envs\n",
      "    fn()\n",
      "  File \"/data/user/R901105/.conda/envs/dev/lib/python3.11/site-packages/shimmy/registration.py\", line 262, in register_gymnasium_envs\n",
      "    _register_dm_control_envs()\n",
      "  File \"/data/user/R901105/.conda/envs/dev/lib/python3.11/site-packages/shimmy/registration.py\", line 26, in _register_dm_control_envs\n",
      "    from shimmy.dm_control_compatibility import DmControlCompatibilityV0\n",
      "  File \"/data/user/R901105/.conda/envs/dev/lib/python3.11/site-packages/shimmy/dm_control_compatibility.py\", line 12, in <module>\n",
      "    import dm_env\n",
      "ModuleNotFoundError: No module named 'dm_env'\n",
      "\u001b[0m\n",
      "  logger.warn(f\"plugin: {plugin.value} raised {traceback.format_exc()}\")\n",
      "<frozen importlib._bootstrap>:283: DeprecationWarning: the load_module() method is deprecated and slated for removal in Python 3.12; use exec_module() instead\n",
      "Warning: Mujoco-based envs failed to import. Set the environment variable D4RL_SUPPRESS_IMPORT_ERROR=1 to suppress this message.\n",
      "No module named 'mjrl'\n",
      "Warning: Flow failed to import. Set the environment variable D4RL_SUPPRESS_IMPORT_ERROR=1 to suppress this message.\n",
      "No module named 'flow'\n",
      "Warning: FrankaKitchen failed to import. Set the environment variable D4RL_SUPPRESS_IMPORT_ERROR=1 to suppress this message.\n",
      "No module named 'dm_env'\n",
      "Warning: CARLA failed to import. Set the environment variable D4RL_SUPPRESS_IMPORT_ERROR=1 to suppress this message.\n",
      "No module named 'carla'\n"
     ]
    }
   ],
   "source": [
    "import os\n",
    "import argparse\n",
    "import datetime\n",
    "\n",
    "import torch\n",
    "from torch import nn\n",
    "import numpy as np\n",
    "import gymnasium as gym\n",
    "\n",
    "from tianshou.data import Collector, Batch, to_torch\n",
    "from tianshou.data.types import RolloutBatchProtocol\n",
    "from tianshou.data.buffer.vecbuf import VectorReplayBuffer, ReplayBuffer\n",
    "from tianshou.env import SubprocVectorEnv\n",
    "from tianshou.policy import SACPolicy, BasePolicy\n",
    "from tianshou.utils.net.common import Net\n",
    "from tianshou.utils.net.continuous import ActorProb, Critic\n",
    "from examples.offline.utils import load_buffer_d4rl\n",
    "from torch.utils.tensorboard import SummaryWriter\n",
    "from tianshou.utils import TensorboardLogger\n",
    "from tianshou.trainer import OffpolicyTrainer"
   ]
  },
  {
   "cell_type": "code",
   "execution_count": 2,
   "metadata": {},
   "outputs": [],
   "source": [
    "device = \"cuda:3\""
   ]
  },
  {
   "cell_type": "code",
   "execution_count": 3,
   "metadata": {},
   "outputs": [
    {
     "data": {
      "text/plain": [
       "{'CartPole-v0': EnvSpec(id='CartPole-v0', entry_point='gymnasium.envs.classic_control.cartpole:CartPoleEnv', reward_threshold=195.0, nondeterministic=False, max_episode_steps=200, order_enforce=True, autoreset=False, disable_env_checker=False, apply_api_compatibility=False, kwargs={}, namespace=None, name='CartPole', version=0, additional_wrappers=(), vector_entry_point='gymnasium.envs.classic_control.cartpole:CartPoleVectorEnv'),\n",
       " 'CartPole-v1': EnvSpec(id='CartPole-v1', entry_point='gymnasium.envs.classic_control.cartpole:CartPoleEnv', reward_threshold=475.0, nondeterministic=False, max_episode_steps=500, order_enforce=True, autoreset=False, disable_env_checker=False, apply_api_compatibility=False, kwargs={}, namespace=None, name='CartPole', version=1, additional_wrappers=(), vector_entry_point='gymnasium.envs.classic_control.cartpole:CartPoleVectorEnv'),\n",
       " 'MountainCar-v0': EnvSpec(id='MountainCar-v0', entry_point='gymnasium.envs.classic_control.mountain_car:MountainCarEnv', reward_threshold=-110.0, nondeterministic=False, max_episode_steps=200, order_enforce=True, autoreset=False, disable_env_checker=False, apply_api_compatibility=False, kwargs={}, namespace=None, name='MountainCar', version=0, additional_wrappers=(), vector_entry_point=None),\n",
       " 'MountainCarContinuous-v0': EnvSpec(id='MountainCarContinuous-v0', entry_point='gymnasium.envs.classic_control.continuous_mountain_car:Continuous_MountainCarEnv', reward_threshold=90.0, nondeterministic=False, max_episode_steps=999, order_enforce=True, autoreset=False, disable_env_checker=False, apply_api_compatibility=False, kwargs={}, namespace=None, name='MountainCarContinuous', version=0, additional_wrappers=(), vector_entry_point=None),\n",
       " 'Pendulum-v1': EnvSpec(id='Pendulum-v1', entry_point='gymnasium.envs.classic_control.pendulum:PendulumEnv', reward_threshold=None, nondeterministic=False, max_episode_steps=200, order_enforce=True, autoreset=False, disable_env_checker=False, apply_api_compatibility=False, kwargs={}, namespace=None, name='Pendulum', version=1, additional_wrappers=(), vector_entry_point=None),\n",
       " 'Acrobot-v1': EnvSpec(id='Acrobot-v1', entry_point='gymnasium.envs.classic_control.acrobot:AcrobotEnv', reward_threshold=-100.0, nondeterministic=False, max_episode_steps=500, order_enforce=True, autoreset=False, disable_env_checker=False, apply_api_compatibility=False, kwargs={}, namespace=None, name='Acrobot', version=1, additional_wrappers=(), vector_entry_point=None),\n",
       " 'phys2d/CartPole-v0': EnvSpec(id='phys2d/CartPole-v0', entry_point='gymnasium.envs.phys2d.cartpole:CartPoleJaxEnv', reward_threshold=195.0, nondeterministic=False, max_episode_steps=200, order_enforce=True, autoreset=False, disable_env_checker=False, apply_api_compatibility=False, kwargs={}, namespace='phys2d', name='CartPole', version=0, additional_wrappers=(), vector_entry_point='gymnasium.envs.phys2d.cartpole:CartPoleJaxVectorEnv'),\n",
       " 'phys2d/CartPole-v1': EnvSpec(id='phys2d/CartPole-v1', entry_point='gymnasium.envs.phys2d.cartpole:CartPoleJaxEnv', reward_threshold=475.0, nondeterministic=False, max_episode_steps=500, order_enforce=True, autoreset=False, disable_env_checker=False, apply_api_compatibility=False, kwargs={}, namespace='phys2d', name='CartPole', version=1, additional_wrappers=(), vector_entry_point='gymnasium.envs.phys2d.cartpole:CartPoleJaxVectorEnv'),\n",
       " 'phys2d/Pendulum-v0': EnvSpec(id='phys2d/Pendulum-v0', entry_point='gymnasium.envs.phys2d.pendulum:PendulumJaxEnv', reward_threshold=None, nondeterministic=False, max_episode_steps=200, order_enforce=True, autoreset=False, disable_env_checker=False, apply_api_compatibility=False, kwargs={}, namespace='phys2d', name='Pendulum', version=0, additional_wrappers=(), vector_entry_point='gymnasium.envs.phys2d.pendulum:PendulumJaxVectorEnv'),\n",
       " 'LunarLander-v2': EnvSpec(id='LunarLander-v2', entry_point='gymnasium.envs.box2d.lunar_lander:LunarLander', reward_threshold=200, nondeterministic=False, max_episode_steps=1000, order_enforce=True, autoreset=False, disable_env_checker=False, apply_api_compatibility=False, kwargs={}, namespace=None, name='LunarLander', version=2, additional_wrappers=(), vector_entry_point=None),\n",
       " 'LunarLanderContinuous-v2': EnvSpec(id='LunarLanderContinuous-v2', entry_point='gymnasium.envs.box2d.lunar_lander:LunarLander', reward_threshold=200, nondeterministic=False, max_episode_steps=1000, order_enforce=True, autoreset=False, disable_env_checker=False, apply_api_compatibility=False, kwargs={'continuous': True}, namespace=None, name='LunarLanderContinuous', version=2, additional_wrappers=(), vector_entry_point=None),\n",
       " 'BipedalWalker-v3': EnvSpec(id='BipedalWalker-v3', entry_point='gymnasium.envs.box2d.bipedal_walker:BipedalWalker', reward_threshold=300, nondeterministic=False, max_episode_steps=1600, order_enforce=True, autoreset=False, disable_env_checker=False, apply_api_compatibility=False, kwargs={}, namespace=None, name='BipedalWalker', version=3, additional_wrappers=(), vector_entry_point=None),\n",
       " 'BipedalWalkerHardcore-v3': EnvSpec(id='BipedalWalkerHardcore-v3', entry_point='gymnasium.envs.box2d.bipedal_walker:BipedalWalker', reward_threshold=300, nondeterministic=False, max_episode_steps=2000, order_enforce=True, autoreset=False, disable_env_checker=False, apply_api_compatibility=False, kwargs={'hardcore': True}, namespace=None, name='BipedalWalkerHardcore', version=3, additional_wrappers=(), vector_entry_point=None),\n",
       " 'CarRacing-v2': EnvSpec(id='CarRacing-v2', entry_point='gymnasium.envs.box2d.car_racing:CarRacing', reward_threshold=900, nondeterministic=False, max_episode_steps=1000, order_enforce=True, autoreset=False, disable_env_checker=False, apply_api_compatibility=False, kwargs={}, namespace=None, name='CarRacing', version=2, additional_wrappers=(), vector_entry_point=None),\n",
       " 'Blackjack-v1': EnvSpec(id='Blackjack-v1', entry_point='gymnasium.envs.toy_text.blackjack:BlackjackEnv', reward_threshold=None, nondeterministic=False, max_episode_steps=None, order_enforce=True, autoreset=False, disable_env_checker=False, apply_api_compatibility=False, kwargs={'sab': True, 'natural': False}, namespace=None, name='Blackjack', version=1, additional_wrappers=(), vector_entry_point=None),\n",
       " 'FrozenLake-v1': EnvSpec(id='FrozenLake-v1', entry_point='gymnasium.envs.toy_text.frozen_lake:FrozenLakeEnv', reward_threshold=0.7, nondeterministic=False, max_episode_steps=100, order_enforce=True, autoreset=False, disable_env_checker=False, apply_api_compatibility=False, kwargs={'map_name': '4x4'}, namespace=None, name='FrozenLake', version=1, additional_wrappers=(), vector_entry_point=None),\n",
       " 'FrozenLake8x8-v1': EnvSpec(id='FrozenLake8x8-v1', entry_point='gymnasium.envs.toy_text.frozen_lake:FrozenLakeEnv', reward_threshold=0.85, nondeterministic=False, max_episode_steps=200, order_enforce=True, autoreset=False, disable_env_checker=False, apply_api_compatibility=False, kwargs={'map_name': '8x8'}, namespace=None, name='FrozenLake8x8', version=1, additional_wrappers=(), vector_entry_point=None),\n",
       " 'CliffWalking-v0': EnvSpec(id='CliffWalking-v0', entry_point='gymnasium.envs.toy_text.cliffwalking:CliffWalkingEnv', reward_threshold=None, nondeterministic=False, max_episode_steps=None, order_enforce=True, autoreset=False, disable_env_checker=False, apply_api_compatibility=False, kwargs={}, namespace=None, name='CliffWalking', version=0, additional_wrappers=(), vector_entry_point=None),\n",
       " 'Taxi-v3': EnvSpec(id='Taxi-v3', entry_point='gymnasium.envs.toy_text.taxi:TaxiEnv', reward_threshold=8, nondeterministic=False, max_episode_steps=200, order_enforce=True, autoreset=False, disable_env_checker=False, apply_api_compatibility=False, kwargs={}, namespace=None, name='Taxi', version=3, additional_wrappers=(), vector_entry_point=None),\n",
       " 'tabular/Blackjack-v0': EnvSpec(id='tabular/Blackjack-v0', entry_point='gymnasium.envs.tabular.blackjack:BlackJackJaxEnv', reward_threshold=None, nondeterministic=False, max_episode_steps=None, order_enforce=True, autoreset=False, disable_env_checker=False, apply_api_compatibility=False, kwargs={'sutton_and_barto': True, 'natural': False}, namespace='tabular', name='Blackjack', version=0, additional_wrappers=(), vector_entry_point=None),\n",
       " 'tabular/CliffWalking-v0': EnvSpec(id='tabular/CliffWalking-v0', entry_point='gymnasium.envs.tabular.cliffwalking:CliffWalkingJaxEnv', reward_threshold=None, nondeterministic=False, max_episode_steps=None, order_enforce=True, autoreset=False, disable_env_checker=False, apply_api_compatibility=False, kwargs={}, namespace='tabular', name='CliffWalking', version=0, additional_wrappers=(), vector_entry_point=None),\n",
       " 'Reacher-v2': EnvSpec(id='Reacher-v2', entry_point='gymnasium.envs.mujoco:ReacherEnv', reward_threshold=-3.75, nondeterministic=False, max_episode_steps=50, order_enforce=True, autoreset=False, disable_env_checker=False, apply_api_compatibility=False, kwargs={}, namespace=None, name='Reacher', version=2, additional_wrappers=(), vector_entry_point=None),\n",
       " 'Reacher-v4': EnvSpec(id='Reacher-v4', entry_point='gymnasium.envs.mujoco.reacher_v4:ReacherEnv', reward_threshold=-3.75, nondeterministic=False, max_episode_steps=50, order_enforce=True, autoreset=False, disable_env_checker=False, apply_api_compatibility=False, kwargs={}, namespace=None, name='Reacher', version=4, additional_wrappers=(), vector_entry_point=None),\n",
       " 'Pusher-v2': EnvSpec(id='Pusher-v2', entry_point='gymnasium.envs.mujoco:PusherEnv', reward_threshold=0.0, nondeterministic=False, max_episode_steps=100, order_enforce=True, autoreset=False, disable_env_checker=False, apply_api_compatibility=False, kwargs={}, namespace=None, name='Pusher', version=2, additional_wrappers=(), vector_entry_point=None),\n",
       " 'Pusher-v4': EnvSpec(id='Pusher-v4', entry_point='gymnasium.envs.mujoco.pusher_v4:PusherEnv', reward_threshold=0.0, nondeterministic=False, max_episode_steps=100, order_enforce=True, autoreset=False, disable_env_checker=False, apply_api_compatibility=False, kwargs={}, namespace=None, name='Pusher', version=4, additional_wrappers=(), vector_entry_point=None),\n",
       " 'InvertedPendulum-v2': EnvSpec(id='InvertedPendulum-v2', entry_point='gymnasium.envs.mujoco:InvertedPendulumEnv', reward_threshold=950.0, nondeterministic=False, max_episode_steps=1000, order_enforce=True, autoreset=False, disable_env_checker=False, apply_api_compatibility=False, kwargs={}, namespace=None, name='InvertedPendulum', version=2, additional_wrappers=(), vector_entry_point=None),\n",
       " 'InvertedPendulum-v4': EnvSpec(id='InvertedPendulum-v4', entry_point='gymnasium.envs.mujoco.inverted_pendulum_v4:InvertedPendulumEnv', reward_threshold=950.0, nondeterministic=False, max_episode_steps=1000, order_enforce=True, autoreset=False, disable_env_checker=False, apply_api_compatibility=False, kwargs={}, namespace=None, name='InvertedPendulum', version=4, additional_wrappers=(), vector_entry_point=None),\n",
       " 'InvertedDoublePendulum-v2': EnvSpec(id='InvertedDoublePendulum-v2', entry_point='gymnasium.envs.mujoco:InvertedDoublePendulumEnv', reward_threshold=9100.0, nondeterministic=False, max_episode_steps=1000, order_enforce=True, autoreset=False, disable_env_checker=False, apply_api_compatibility=False, kwargs={}, namespace=None, name='InvertedDoublePendulum', version=2, additional_wrappers=(), vector_entry_point=None),\n",
       " 'InvertedDoublePendulum-v4': EnvSpec(id='InvertedDoublePendulum-v4', entry_point='gymnasium.envs.mujoco.inverted_double_pendulum_v4:InvertedDoublePendulumEnv', reward_threshold=9100.0, nondeterministic=False, max_episode_steps=1000, order_enforce=True, autoreset=False, disable_env_checker=False, apply_api_compatibility=False, kwargs={}, namespace=None, name='InvertedDoublePendulum', version=4, additional_wrappers=(), vector_entry_point=None),\n",
       " 'HalfCheetah-v2': EnvSpec(id='HalfCheetah-v2', entry_point='gymnasium.envs.mujoco:HalfCheetahEnv', reward_threshold=4800.0, nondeterministic=False, max_episode_steps=1000, order_enforce=True, autoreset=False, disable_env_checker=False, apply_api_compatibility=False, kwargs={}, namespace=None, name='HalfCheetah', version=2, additional_wrappers=(), vector_entry_point=None),\n",
       " 'HalfCheetah-v3': EnvSpec(id='HalfCheetah-v3', entry_point='gymnasium.envs.mujoco.half_cheetah_v3:HalfCheetahEnv', reward_threshold=4800.0, nondeterministic=False, max_episode_steps=1000, order_enforce=True, autoreset=False, disable_env_checker=False, apply_api_compatibility=False, kwargs={}, namespace=None, name='HalfCheetah', version=3, additional_wrappers=(), vector_entry_point=None),\n",
       " 'HalfCheetah-v4': EnvSpec(id='HalfCheetah-v4', entry_point='gymnasium.envs.mujoco.half_cheetah_v4:HalfCheetahEnv', reward_threshold=4800.0, nondeterministic=False, max_episode_steps=1000, order_enforce=True, autoreset=False, disable_env_checker=False, apply_api_compatibility=False, kwargs={}, namespace=None, name='HalfCheetah', version=4, additional_wrappers=(), vector_entry_point=None),\n",
       " 'Hopper-v2': EnvSpec(id='Hopper-v2', entry_point='gymnasium.envs.mujoco:HopperEnv', reward_threshold=3800.0, nondeterministic=False, max_episode_steps=1000, order_enforce=True, autoreset=False, disable_env_checker=False, apply_api_compatibility=False, kwargs={}, namespace=None, name='Hopper', version=2, additional_wrappers=(), vector_entry_point=None),\n",
       " 'Hopper-v3': EnvSpec(id='Hopper-v3', entry_point='gymnasium.envs.mujoco.hopper_v3:HopperEnv', reward_threshold=3800.0, nondeterministic=False, max_episode_steps=1000, order_enforce=True, autoreset=False, disable_env_checker=False, apply_api_compatibility=False, kwargs={}, namespace=None, name='Hopper', version=3, additional_wrappers=(), vector_entry_point=None),\n",
       " 'Hopper-v4': EnvSpec(id='Hopper-v4', entry_point='gymnasium.envs.mujoco.hopper_v4:HopperEnv', reward_threshold=3800.0, nondeterministic=False, max_episode_steps=1000, order_enforce=True, autoreset=False, disable_env_checker=False, apply_api_compatibility=False, kwargs={}, namespace=None, name='Hopper', version=4, additional_wrappers=(), vector_entry_point=None),\n",
       " 'Swimmer-v2': EnvSpec(id='Swimmer-v2', entry_point='gymnasium.envs.mujoco:SwimmerEnv', reward_threshold=360.0, nondeterministic=False, max_episode_steps=1000, order_enforce=True, autoreset=False, disable_env_checker=False, apply_api_compatibility=False, kwargs={}, namespace=None, name='Swimmer', version=2, additional_wrappers=(), vector_entry_point=None),\n",
       " 'Swimmer-v3': EnvSpec(id='Swimmer-v3', entry_point='gymnasium.envs.mujoco.swimmer_v3:SwimmerEnv', reward_threshold=360.0, nondeterministic=False, max_episode_steps=1000, order_enforce=True, autoreset=False, disable_env_checker=False, apply_api_compatibility=False, kwargs={}, namespace=None, name='Swimmer', version=3, additional_wrappers=(), vector_entry_point=None),\n",
       " 'Swimmer-v4': EnvSpec(id='Swimmer-v4', entry_point='gymnasium.envs.mujoco.swimmer_v4:SwimmerEnv', reward_threshold=360.0, nondeterministic=False, max_episode_steps=1000, order_enforce=True, autoreset=False, disable_env_checker=False, apply_api_compatibility=False, kwargs={}, namespace=None, name='Swimmer', version=4, additional_wrappers=(), vector_entry_point=None),\n",
       " 'Walker2d-v2': EnvSpec(id='Walker2d-v2', entry_point='gymnasium.envs.mujoco:Walker2dEnv', reward_threshold=None, nondeterministic=False, max_episode_steps=1000, order_enforce=True, autoreset=False, disable_env_checker=False, apply_api_compatibility=False, kwargs={}, namespace=None, name='Walker2d', version=2, additional_wrappers=(), vector_entry_point=None),\n",
       " 'Walker2d-v3': EnvSpec(id='Walker2d-v3', entry_point='gymnasium.envs.mujoco.walker2d_v3:Walker2dEnv', reward_threshold=None, nondeterministic=False, max_episode_steps=1000, order_enforce=True, autoreset=False, disable_env_checker=False, apply_api_compatibility=False, kwargs={}, namespace=None, name='Walker2d', version=3, additional_wrappers=(), vector_entry_point=None),\n",
       " 'Walker2d-v4': EnvSpec(id='Walker2d-v4', entry_point='gymnasium.envs.mujoco.walker2d_v4:Walker2dEnv', reward_threshold=None, nondeterministic=False, max_episode_steps=1000, order_enforce=True, autoreset=False, disable_env_checker=False, apply_api_compatibility=False, kwargs={}, namespace=None, name='Walker2d', version=4, additional_wrappers=(), vector_entry_point=None),\n",
       " 'Ant-v2': EnvSpec(id='Ant-v2', entry_point='gymnasium.envs.mujoco:AntEnv', reward_threshold=6000.0, nondeterministic=False, max_episode_steps=1000, order_enforce=True, autoreset=False, disable_env_checker=False, apply_api_compatibility=False, kwargs={}, namespace=None, name='Ant', version=2, additional_wrappers=(), vector_entry_point=None),\n",
       " 'Ant-v3': EnvSpec(id='Ant-v3', entry_point='gymnasium.envs.mujoco.ant_v3:AntEnv', reward_threshold=6000.0, nondeterministic=False, max_episode_steps=1000, order_enforce=True, autoreset=False, disable_env_checker=False, apply_api_compatibility=False, kwargs={}, namespace=None, name='Ant', version=3, additional_wrappers=(), vector_entry_point=None),\n",
       " 'Ant-v4': EnvSpec(id='Ant-v4', entry_point='gymnasium.envs.mujoco.ant_v4:AntEnv', reward_threshold=6000.0, nondeterministic=False, max_episode_steps=1000, order_enforce=True, autoreset=False, disable_env_checker=False, apply_api_compatibility=False, kwargs={}, namespace=None, name='Ant', version=4, additional_wrappers=(), vector_entry_point=None),\n",
       " 'Humanoid-v2': EnvSpec(id='Humanoid-v2', entry_point='gymnasium.envs.mujoco:HumanoidEnv', reward_threshold=None, nondeterministic=False, max_episode_steps=1000, order_enforce=True, autoreset=False, disable_env_checker=False, apply_api_compatibility=False, kwargs={}, namespace=None, name='Humanoid', version=2, additional_wrappers=(), vector_entry_point=None),\n",
       " 'Humanoid-v3': EnvSpec(id='Humanoid-v3', entry_point='gymnasium.envs.mujoco.humanoid_v3:HumanoidEnv', reward_threshold=None, nondeterministic=False, max_episode_steps=1000, order_enforce=True, autoreset=False, disable_env_checker=False, apply_api_compatibility=False, kwargs={}, namespace=None, name='Humanoid', version=3, additional_wrappers=(), vector_entry_point=None),\n",
       " 'Humanoid-v4': EnvSpec(id='Humanoid-v4', entry_point='gymnasium.envs.mujoco.humanoid_v4:HumanoidEnv', reward_threshold=None, nondeterministic=False, max_episode_steps=1000, order_enforce=True, autoreset=False, disable_env_checker=False, apply_api_compatibility=False, kwargs={}, namespace=None, name='Humanoid', version=4, additional_wrappers=(), vector_entry_point=None),\n",
       " 'HumanoidStandup-v2': EnvSpec(id='HumanoidStandup-v2', entry_point='gymnasium.envs.mujoco:HumanoidStandupEnv', reward_threshold=None, nondeterministic=False, max_episode_steps=1000, order_enforce=True, autoreset=False, disable_env_checker=False, apply_api_compatibility=False, kwargs={}, namespace=None, name='HumanoidStandup', version=2, additional_wrappers=(), vector_entry_point=None),\n",
       " 'HumanoidStandup-v4': EnvSpec(id='HumanoidStandup-v4', entry_point='gymnasium.envs.mujoco.humanoidstandup_v4:HumanoidStandupEnv', reward_threshold=None, nondeterministic=False, max_episode_steps=1000, order_enforce=True, autoreset=False, disable_env_checker=False, apply_api_compatibility=False, kwargs={}, namespace=None, name='HumanoidStandup', version=4, additional_wrappers=(), vector_entry_point=None),\n",
       " 'GymV26Environment-v0': EnvSpec(id='GymV26Environment-v0', entry_point='shimmy.openai_gym_compatibility:GymV26CompatibilityV0', reward_threshold=None, nondeterministic=False, max_episode_steps=None, order_enforce=True, autoreset=False, disable_env_checker=False, apply_api_compatibility=False, kwargs={}, namespace=None, name='GymV26Environment', version=0, additional_wrappers=(), vector_entry_point=None),\n",
       " 'GymV21Environment-v0': EnvSpec(id='GymV21Environment-v0', entry_point='shimmy.openai_gym_compatibility:GymV21CompatibilityV0', reward_threshold=None, nondeterministic=False, max_episode_steps=None, order_enforce=True, autoreset=False, disable_env_checker=False, apply_api_compatibility=False, kwargs={}, namespace=None, name='GymV21Environment', version=0, additional_wrappers=(), vector_entry_point=None)}"
      ]
     },
     "execution_count": 3,
     "metadata": {},
     "output_type": "execute_result"
    }
   ],
   "source": [
    "gym.envs.registry"
   ]
  },
  {
   "cell_type": "code",
   "execution_count": 3,
   "metadata": {},
   "outputs": [],
   "source": [
    "def get_sac_args():\n",
    "    args = argparse.Namespace(\n",
    "        task=\"Hopper-v2\",\n",
    "        buffer_size=1000000,\n",
    "        hidden_sizes=[256, 256, 256],\n",
    "        actor_lr=1e-4,\n",
    "        critic_lr=3e-4,\n",
    "        gamma=0.99,\n",
    "        tau=0.005,\n",
    "        alpha_lr=1e-4,\n",
    "        alpha=0.36,\n",
    "        start_timesteps=1,\n",
    "        epoch=200,\n",
    "        step_per_epoch=5000,\n",
    "        step_per_collect=1,\n",
    "        update_per_step=1,\n",
    "        batch_size=256,\n",
    "        training_num=1,\n",
    "        test_num=10,\n",
    "        device=device,\n",
    "        norm_layer=True,\n",
    "    )\n",
    "    return args"
   ]
  },
  {
   "cell_type": "code",
   "execution_count": 4,
   "metadata": {},
   "outputs": [
    {
     "name": "stderr",
     "output_type": "stream",
     "text": [
      "/data/user/R901105/.conda/envs/dev/lib/python3.11/site-packages/gymnasium/envs/registration.py:513: DeprecationWarning: \u001b[33mWARN: The environment Hopper-v2 is out of date. You should consider upgrading to version `v4`.\u001b[0m\n",
      "  logger.deprecation(\n",
      "/data/user/R901105/.conda/envs/dev/lib/python3.11/site-packages/gymnasium/envs/mujoco/mujoco_env.py:211: DeprecationWarning: \u001b[33mWARN: This version of the mujoco environments depends on the mujoco-py bindings, which are no longer maintained and may stop working. Please upgrade to the v4 versions of the environments (which depend on the mujoco python bindings instead), unless you are trying to precisely replicate previous works).\u001b[0m\n",
      "  logger.deprecation(\n"
     ]
    }
   ],
   "source": [
    "args = get_sac_args()\n",
    "env = gym.make(args.task)"
   ]
  },
  {
   "cell_type": "code",
   "execution_count": 5,
   "metadata": {},
   "outputs": [],
   "source": [
    "def load_policy(path):\n",
    "    args = get_sac_args()\n",
    "    env = gym.make(args.task)\n",
    "    args.state_shape = env.observation_space.shape or env.observation_space.n\n",
    "    args.action_shape = env.action_space.shape or env.action_space.n\n",
    "    args.max_action = env.action_space.high[0]\n",
    "    # model\n",
    "    net_a = Net(args.state_shape, hidden_sizes=args.hidden_sizes, device=args.device)\n",
    "    actor = ActorProb(\n",
    "        net_a,\n",
    "        args.action_shape,\n",
    "        device=args.device,\n",
    "        unbounded=True,\n",
    "        conditioned_sigma=True,\n",
    "    ).to(args.device)\n",
    "    actor_optim = torch.optim.Adam(actor.parameters(), lr=args.actor_lr)\n",
    "    net_c1 = Net(\n",
    "        args.state_shape,\n",
    "        args.action_shape,\n",
    "        hidden_sizes=args.hidden_sizes,\n",
    "        concat=True,\n",
    "        device=args.device,\n",
    "        norm_layer=nn.LayerNorm if args.norm_layer else None\n",
    "    )\n",
    "    net_c2 = Net(\n",
    "        args.state_shape,\n",
    "        args.action_shape,\n",
    "        hidden_sizes=args.hidden_sizes,\n",
    "        concat=True,\n",
    "        device=args.device,\n",
    "        norm_layer=nn.LayerNorm if args.norm_layer else None\n",
    "    )\n",
    "    critic1 = Critic(net_c1, device=args.device).to(args.device)\n",
    "    critic1_optim = torch.optim.Adam(critic1.parameters(), lr=args.critic_lr)\n",
    "    critic2 = Critic(net_c2, device=args.device).to(args.device)\n",
    "    critic2_optim = torch.optim.Adam(critic2.parameters(), lr=args.critic_lr)\n",
    "    target_entropy = -np.prod(env.action_space.shape)\n",
    "    log_alpha = torch.tensor([np.log(args.alpha)], requires_grad=True, device=device)\n",
    "    alpha_optim = torch.optim.Adam([log_alpha], lr=args.alpha_lr)\n",
    "    alpha = (target_entropy, log_alpha, alpha_optim)\n",
    "    policy = SACPolicy(\n",
    "        actor,\n",
    "        actor_optim,\n",
    "        critic1,\n",
    "        critic1_optim,\n",
    "        critic2,\n",
    "        critic2_optim,\n",
    "        tau=args.tau,\n",
    "        gamma=args.gamma,\n",
    "        alpha=alpha,\n",
    "        action_space=env.action_space,\n",
    "    )\n",
    "    policy.load_state_dict(torch.load(path, map_location=args.device))\n",
    "    print(\"Loaded agent from: \", path)\n",
    "    return policy"
   ]
  },
  {
   "cell_type": "code",
   "execution_count": 58,
   "metadata": {},
   "outputs": [
    {
     "name": "stdout",
     "output_type": "stream",
     "text": [
      "Loaded agent from:  /data/user/R901105/dev/log/Hopper-v2/cql/0/231220-111219/policy.pth\n"
     ]
    }
   ],
   "source": [
    "cql_policy = load_policy(\"/data/user/R901105/dev/log/Hopper-v2/cql/0/231220-111219/policy.pth\")"
   ]
  },
  {
   "cell_type": "code",
   "execution_count": 6,
   "metadata": {},
   "outputs": [
    {
     "name": "stdout",
     "output_type": "stream",
     "text": [
      "Loaded agent from:  /data/user/R901105/dev/log/Hopper-v2/sac/0/231219-163624/policy.pth\n"
     ]
    }
   ],
   "source": [
    "sac_policy = load_policy(\"/data/user/R901105/dev/log/Hopper-v2/sac/0/231219-163624/policy.pth\")"
   ]
  },
  {
   "cell_type": "code",
   "execution_count": 82,
   "metadata": {},
   "outputs": [
    {
     "name": "stderr",
     "output_type": "stream",
     "text": [
      "/data/user/R901105/.conda/envs/dev/lib/python3.11/site-packages/gymnasium/envs/registration.py:513: DeprecationWarning: \u001b[33mWARN: The environment Hopper-v2 is out of date. You should consider upgrading to version `v4`.\u001b[0m\n",
      "  logger.deprecation(\n",
      "/data/user/R901105/.conda/envs/dev/lib/python3.11/site-packages/gymnasium/envs/mujoco/mujoco_env.py:211: DeprecationWarning: \u001b[33mWARN: This version of the mujoco environments depends on the mujoco-py bindings, which are no longer maintained and may stop working. Please upgrade to the v4 versions of the environments (which depend on the mujoco python bindings instead), unless you are trying to precisely replicate previous works).\u001b[0m\n",
      "  logger.deprecation(\n",
      "/data/user/R901105/.conda/envs/dev/lib/python3.11/site-packages/gymnasium/envs/registration.py:513: DeprecationWarning: \u001b[33mWARN: The environment Hopper-v2 is out of date. You should consider upgrading to version `v4`.\u001b[0m\n",
      "  logger.deprecation(\n",
      "/data/user/R901105/.conda/envs/dev/lib/python3.11/site-packages/gymnasium/envs/mujoco/mujoco_env.py:211: DeprecationWarning: \u001b[33mWARN: This version of the mujoco environments depends on the mujoco-py bindings, which are no longer maintained and may stop working. Please upgrade to the v4 versions of the environments (which depend on the mujoco python bindings instead), unless you are trying to precisely replicate previous works).\u001b[0m\n",
      "  logger.deprecation(\n",
      "/data/user/R901105/.conda/envs/dev/lib/python3.11/site-packages/gymnasium/envs/registration.py:513: DeprecationWarning: \u001b[33mWARN: The environment Hopper-v2 is out of date. You should consider upgrading to version `v4`.\u001b[0m\n",
      "  logger.deprecation(\n",
      "/data/user/R901105/.conda/envs/dev/lib/python3.11/site-packages/gymnasium/envs/mujoco/mujoco_env.py:211: DeprecationWarning: \u001b[33mWARN: This version of the mujoco environments depends on the mujoco-py bindings, which are no longer maintained and may stop working. Please upgrade to the v4 versions of the environments (which depend on the mujoco python bindings instead), unless you are trying to precisely replicate previous works).\u001b[0m\n",
      "  logger.deprecation(\n",
      "/data/user/R901105/.conda/envs/dev/lib/python3.11/site-packages/gymnasium/envs/registration.py:513: DeprecationWarning: \u001b[33mWARN: The environment Hopper-v2 is out of date. You should consider upgrading to version `v4`.\u001b[0m\n",
      "  logger.deprecation(\n",
      "/data/user/R901105/.conda/envs/dev/lib/python3.11/site-packages/gymnasium/envs/mujoco/mujoco_env.py:211: DeprecationWarning: \u001b[33mWARN: This version of the mujoco environments depends on the mujoco-py bindings, which are no longer maintained and may stop working. Please upgrade to the v4 versions of the environments (which depend on the mujoco python bindings instead), unless you are trying to precisely replicate previous works).\u001b[0m\n",
      "  logger.deprecation(\n",
      "/data/user/R901105/.conda/envs/dev/lib/python3.11/site-packages/gymnasium/envs/registration.py:513: DeprecationWarning: \u001b[33mWARN: The environment Hopper-v2 is out of date. You should consider upgrading to version `v4`.\u001b[0m\n",
      "  logger.deprecation(\n",
      "/data/user/R901105/.conda/envs/dev/lib/python3.11/site-packages/gymnasium/envs/mujoco/mujoco_env.py:211: DeprecationWarning: \u001b[33mWARN: This version of the mujoco environments depends on the mujoco-py bindings, which are no longer maintained and may stop working. Please upgrade to the v4 versions of the environments (which depend on the mujoco python bindings instead), unless you are trying to precisely replicate previous works).\u001b[0m\n",
      "  logger.deprecation(\n",
      "/data/user/R901105/.conda/envs/dev/lib/python3.11/site-packages/gymnasium/envs/registration.py:513: DeprecationWarning: \u001b[33mWARN: The environment Hopper-v2 is out of date. You should consider upgrading to version `v4`.\u001b[0m\n",
      "  logger.deprecation(\n",
      "/data/user/R901105/.conda/envs/dev/lib/python3.11/site-packages/gymnasium/envs/mujoco/mujoco_env.py:211: DeprecationWarning: \u001b[33mWARN: This version of the mujoco environments depends on the mujoco-py bindings, which are no longer maintained and may stop working. Please upgrade to the v4 versions of the environments (which depend on the mujoco python bindings instead), unless you are trying to precisely replicate previous works).\u001b[0m\n",
      "  logger.deprecation(\n",
      "/data/user/R901105/.conda/envs/dev/lib/python3.11/site-packages/gymnasium/envs/registration.py:513: DeprecationWarning: \u001b[33mWARN: The environment Hopper-v2 is out of date. You should consider upgrading to version `v4`.\u001b[0m\n",
      "  logger.deprecation(\n",
      "/data/user/R901105/.conda/envs/dev/lib/python3.11/site-packages/gymnasium/envs/mujoco/mujoco_env.py:211: DeprecationWarning: \u001b[33mWARN: This version of the mujoco environments depends on the mujoco-py bindings, which are no longer maintained and may stop working. Please upgrade to the v4 versions of the environments (which depend on the mujoco python bindings instead), unless you are trying to precisely replicate previous works).\u001b[0m\n",
      "  logger.deprecation(\n",
      "/data/user/R901105/.conda/envs/dev/lib/python3.11/site-packages/gymnasium/envs/registration.py:513: DeprecationWarning: \u001b[33mWARN: The environment Hopper-v2 is out of date. You should consider upgrading to version `v4`.\u001b[0m\n",
      "  logger.deprecation(\n",
      "/data/user/R901105/.conda/envs/dev/lib/python3.11/site-packages/gymnasium/envs/mujoco/mujoco_env.py:211: DeprecationWarning: \u001b[33mWARN: This version of the mujoco environments depends on the mujoco-py bindings, which are no longer maintained and may stop working. Please upgrade to the v4 versions of the environments (which depend on the mujoco python bindings instead), unless you are trying to precisely replicate previous works).\u001b[0m\n",
      "  logger.deprecation(\n",
      "/data/user/R901105/.conda/envs/dev/lib/python3.11/site-packages/gymnasium/envs/registration.py:513: DeprecationWarning: \u001b[33mWARN: The environment Hopper-v2 is out of date. You should consider upgrading to version `v4`.\u001b[0m\n",
      "  logger.deprecation(\n",
      "/data/user/R901105/.conda/envs/dev/lib/python3.11/site-packages/gymnasium/envs/mujoco/mujoco_env.py:211: DeprecationWarning: \u001b[33mWARN: This version of the mujoco environments depends on the mujoco-py bindings, which are no longer maintained and may stop working. Please upgrade to the v4 versions of the environments (which depend on the mujoco python bindings instead), unless you are trying to precisely replicate previous works).\u001b[0m\n",
      "  logger.deprecation(\n",
      "/data/user/R901105/.conda/envs/dev/lib/python3.11/site-packages/gymnasium/envs/registration.py:513: DeprecationWarning: \u001b[33mWARN: The environment Hopper-v2 is out of date. You should consider upgrading to version `v4`.\u001b[0m\n",
      "  logger.deprecation(\n",
      "/data/user/R901105/.conda/envs/dev/lib/python3.11/site-packages/gymnasium/envs/mujoco/mujoco_env.py:211: DeprecationWarning: \u001b[33mWARN: This version of the mujoco environments depends on the mujoco-py bindings, which are no longer maintained and may stop working. Please upgrade to the v4 versions of the environments (which depend on the mujoco python bindings instead), unless you are trying to precisely replicate previous works).\u001b[0m\n",
      "  logger.deprecation(\n",
      "/data/user/R901105/.conda/envs/dev/lib/python3.11/site-packages/gymnasium/envs/registration.py:513: DeprecationWarning: \u001b[33mWARN: The environment Hopper-v2 is out of date. You should consider upgrading to version `v4`.\u001b[0m\n",
      "  logger.deprecation(\n",
      "/data/user/R901105/.conda/envs/dev/lib/python3.11/site-packages/gymnasium/envs/mujoco/mujoco_env.py:211: DeprecationWarning: \u001b[33mWARN: This version of the mujoco environments depends on the mujoco-py bindings, which are no longer maintained and may stop working. Please upgrade to the v4 versions of the environments (which depend on the mujoco python bindings instead), unless you are trying to precisely replicate previous works).\u001b[0m\n",
      "  logger.deprecation(\n",
      "/data/user/R901105/.conda/envs/dev/lib/python3.11/site-packages/gymnasium/envs/registration.py:513: DeprecationWarning: \u001b[33mWARN: The environment Hopper-v2 is out of date. You should consider upgrading to version `v4`.\u001b[0m\n",
      "  logger.deprecation(\n",
      "/data/user/R901105/.conda/envs/dev/lib/python3.11/site-packages/gymnasium/envs/mujoco/mujoco_env.py:211: DeprecationWarning: \u001b[33mWARN: This version of the mujoco environments depends on the mujoco-py bindings, which are no longer maintained and may stop working. Please upgrade to the v4 versions of the environments (which depend on the mujoco python bindings instead), unless you are trying to precisely replicate previous works).\u001b[0m\n",
      "  logger.deprecation(\n",
      "/data/user/R901105/.conda/envs/dev/lib/python3.11/site-packages/gymnasium/envs/registration.py:513: DeprecationWarning: \u001b[33mWARN: The environment Hopper-v2 is out of date. You should consider upgrading to version `v4`.\u001b[0m\n",
      "  logger.deprecation(\n",
      "/data/user/R901105/.conda/envs/dev/lib/python3.11/site-packages/gymnasium/envs/mujoco/mujoco_env.py:211: DeprecationWarning: \u001b[33mWARN: This version of the mujoco environments depends on the mujoco-py bindings, which are no longer maintained and may stop working. Please upgrade to the v4 versions of the environments (which depend on the mujoco python bindings instead), unless you are trying to precisely replicate previous works).\u001b[0m\n",
      "  logger.deprecation(\n",
      "/data/user/R901105/.conda/envs/dev/lib/python3.11/site-packages/gymnasium/envs/registration.py:513: DeprecationWarning: \u001b[33mWARN: The environment Hopper-v2 is out of date. You should consider upgrading to version `v4`.\u001b[0m\n",
      "  logger.deprecation(\n",
      "/data/user/R901105/.conda/envs/dev/lib/python3.11/site-packages/gymnasium/envs/mujoco/mujoco_env.py:211: DeprecationWarning: \u001b[33mWARN: This version of the mujoco environments depends on the mujoco-py bindings, which are no longer maintained and may stop working. Please upgrade to the v4 versions of the environments (which depend on the mujoco python bindings instead), unless you are trying to precisely replicate previous works).\u001b[0m\n",
      "  logger.deprecation(\n",
      "/data/user/R901105/.conda/envs/dev/lib/python3.11/site-packages/gymnasium/envs/registration.py:513: DeprecationWarning: \u001b[33mWARN: The environment Hopper-v2 is out of date. You should consider upgrading to version `v4`.\u001b[0m\n",
      "  logger.deprecation(\n",
      "/data/user/R901105/.conda/envs/dev/lib/python3.11/site-packages/gymnasium/envs/mujoco/mujoco_env.py:211: DeprecationWarning: \u001b[33mWARN: This version of the mujoco environments depends on the mujoco-py bindings, which are no longer maintained and may stop working. Please upgrade to the v4 versions of the environments (which depend on the mujoco python bindings instead), unless you are trying to precisely replicate previous works).\u001b[0m\n",
      "  logger.deprecation(\n",
      "/data/user/R901105/.conda/envs/dev/lib/python3.11/site-packages/gymnasium/envs/registration.py:513: DeprecationWarning: \u001b[33mWARN: The environment Hopper-v2 is out of date. You should consider upgrading to version `v4`.\u001b[0m\n",
      "  logger.deprecation(\n",
      "/data/user/R901105/.conda/envs/dev/lib/python3.11/site-packages/gymnasium/envs/mujoco/mujoco_env.py:211: DeprecationWarning: \u001b[33mWARN: This version of the mujoco environments depends on the mujoco-py bindings, which are no longer maintained and may stop working. Please upgrade to the v4 versions of the environments (which depend on the mujoco python bindings instead), unless you are trying to precisely replicate previous works).\u001b[0m\n",
      "  logger.deprecation(\n",
      "/data/user/R901105/.conda/envs/dev/lib/python3.11/site-packages/gymnasium/envs/registration.py:513: DeprecationWarning: \u001b[33mWARN: The environment Hopper-v2 is out of date. You should consider upgrading to version `v4`.\u001b[0m\n",
      "  logger.deprecation(\n",
      "/data/user/R901105/.conda/envs/dev/lib/python3.11/site-packages/gymnasium/envs/mujoco/mujoco_env.py:211: DeprecationWarning: \u001b[33mWARN: This version of the mujoco environments depends on the mujoco-py bindings, which are no longer maintained and may stop working. Please upgrade to the v4 versions of the environments (which depend on the mujoco python bindings instead), unless you are trying to precisely replicate previous works).\u001b[0m\n",
      "  logger.deprecation(\n",
      "/data/user/R901105/.conda/envs/dev/lib/python3.11/site-packages/gymnasium/envs/registration.py:513: DeprecationWarning: \u001b[33mWARN: The environment Hopper-v2 is out of date. You should consider upgrading to version `v4`.\u001b[0m\n",
      "  logger.deprecation(\n",
      "/data/user/R901105/.conda/envs/dev/lib/python3.11/site-packages/gymnasium/envs/mujoco/mujoco_env.py:211: DeprecationWarning: \u001b[33mWARN: This version of the mujoco environments depends on the mujoco-py bindings, which are no longer maintained and may stop working. Please upgrade to the v4 versions of the environments (which depend on the mujoco python bindings instead), unless you are trying to precisely replicate previous works).\u001b[0m\n",
      "  logger.deprecation(\n",
      "/data/user/R901105/.conda/envs/dev/lib/python3.11/site-packages/gymnasium/envs/registration.py:513: DeprecationWarning: \u001b[33mWARN: The environment Hopper-v2 is out of date. You should consider upgrading to version `v4`.\u001b[0m\n",
      "  logger.deprecation(\n",
      "/data/user/R901105/.conda/envs/dev/lib/python3.11/site-packages/gymnasium/envs/mujoco/mujoco_env.py:211: DeprecationWarning: \u001b[33mWARN: This version of the mujoco environments depends on the mujoco-py bindings, which are no longer maintained and may stop working. Please upgrade to the v4 versions of the environments (which depend on the mujoco python bindings instead), unless you are trying to precisely replicate previous works).\u001b[0m\n",
      "  logger.deprecation(\n",
      "/data/user/R901105/.conda/envs/dev/lib/python3.11/site-packages/gymnasium/envs/registration.py:513: DeprecationWarning: \u001b[33mWARN: The environment Hopper-v2 is out of date. You should consider upgrading to version `v4`.\u001b[0m\n",
      "  logger.deprecation(\n",
      "/data/user/R901105/.conda/envs/dev/lib/python3.11/site-packages/gymnasium/envs/mujoco/mujoco_env.py:211: DeprecationWarning: \u001b[33mWARN: This version of the mujoco environments depends on the mujoco-py bindings, which are no longer maintained and may stop working. Please upgrade to the v4 versions of the environments (which depend on the mujoco python bindings instead), unless you are trying to precisely replicate previous works).\u001b[0m\n",
      "  logger.deprecation(\n"
     ]
    }
   ],
   "source": [
    "from tianshou.env.gym_wrappers import ContinuousToDiscrete\n",
    "num_actions = 10\n",
    "\n",
    "env = SubprocVectorEnv([lambda: ContinuousToDiscrete(gym.make(args.task), num_actions) for _ in range(20)])"
   ]
  },
  {
   "cell_type": "code",
   "execution_count": 83,
   "metadata": {},
   "outputs": [],
   "source": [
    "def reverse_action(act: np.ndarray) -> np.ndarray:\n",
    "    _env = gym.make(args.task)\n",
    "    low, high = _env.action_space.low, _env.action_space.high\n",
    "    action_per_dim = [num_actions] * _env.action_space.shape[0]\n",
    "    mesh = np.array(\n",
    "        [np.linspace(lo, hi, a) for lo, hi, a in zip(low, high, action_per_dim)],\n",
    "        dtype=object\n",
    "    )\n",
    "    # If act is a PyTorch tensor, convert it to a numpy array\n",
    "    if torch.is_tensor(act):\n",
    "        act = act.cpu().numpy()\n",
    "    # modify act\n",
    "    assert len(act.shape) <= 2, f\"Unknown action format with shape {act.shape}.\"\n",
    "    if len(act.shape) == 1:\n",
    "        return np.array([np.argmin(np.abs(mesh[i] - a)) for i, a in enumerate(act)])\n",
    "    return np.array([[np.argmin(np.abs(mesh[i] - a)) for i, a in enumerate(a_)] for a_ in act])"
   ]
  },
  {
   "cell_type": "code",
   "execution_count": 84,
   "metadata": {},
   "outputs": [],
   "source": [
    "class SPIPolicy(BasePolicy):\n",
    "    def __init__(self, sac_policy, num_actions, random_p=0.25):\n",
    "        super().__init__() \n",
    "        self.sac_policy = sac_policy\n",
    "        self.num_actions = num_actions\n",
    "        self.random_p = random_p\n",
    "\n",
    "    def forward(self, batch, state=None, **kwargs):\n",
    "        sac_act = self.sac_policy(batch, state, **kwargs).act\n",
    "        sac_act = reverse_action(sac_act)\n",
    "        # random action\n",
    "        act = np.zeros_like(sac_act)\n",
    "        for i in range(len(act)):\n",
    "            act[i] = np.random.choice(self.num_actions)\n",
    "        for i in range(len(act)):\n",
    "            if np.random.rand() > self.random_p:\n",
    "                act[i] = sac_act[i]\n",
    "        return Batch(act=act)\n",
    "    \n",
    "    def learn(self, batch, **kwargs):\n",
    "        return {}\n",
    "    \n",
    "    def train(self, mode: bool = True) -> \"SPIPolicy\":\n",
    "        self.sac_policy.train(mode)\n",
    "        return self"
   ]
  },
  {
   "cell_type": "code",
   "execution_count": 90,
   "metadata": {},
   "outputs": [],
   "source": [
    "spi_policy = SPIPolicy(sac_policy, num_actions, random_p=0.05)"
   ]
  },
  {
   "cell_type": "code",
   "execution_count": 93,
   "metadata": {},
   "outputs": [],
   "source": [
    "spi_buffer = VectorReplayBuffer(100000, 20)"
   ]
  },
  {
   "cell_type": "code",
   "execution_count": 94,
   "metadata": {},
   "outputs": [
    {
     "data": {
      "text/plain": [
       "{'n/ep': 1000,\n",
       " 'n/st': 454727,\n",
       " 'rews': array([ 466.29402436,  534.00083536,  787.97912797,  751.56875933,\n",
       "         829.85546261,  835.00265311,  967.63967629,  992.2478825 ,\n",
       "        1007.60279812, 1300.96996581, 1334.51360064, 1320.56080531,\n",
       "        1598.8445459 , 1636.69301338,  764.02490777, 1827.89017545,\n",
       "        2018.69810302, 2013.78579056, 1097.94501355,  766.42761231,\n",
       "        1017.996668  , 1398.07446859,  975.86828863, 1778.72981464,\n",
       "        1978.67753744,  686.91904831, 1548.51003024,  746.29481742,\n",
       "        1347.98738655, 3145.07010841, 3175.88056512, 2536.24148643,\n",
       "        1730.43598641, 2165.30080499, 1956.68293232, 3524.01153751,\n",
       "         730.58407188, 2644.70760943, 1736.08733795, 1977.63401709,\n",
       "        1023.80944575, 1936.1691252 ,  843.53111992, 1676.21517354,\n",
       "         690.46404973, 3549.79481835,  940.82862075, 1071.6732077 ,\n",
       "         739.77473389,  834.6719128 , 2734.53733099, 3011.41920937,\n",
       "        1585.02261023, 2827.40720643, 2388.54765838, 1934.41877052,\n",
       "        2711.01334934, 1661.79346514, 1348.69143568, 1041.92397186,\n",
       "        1714.32238213, 2592.54588934, 1112.16164109, 1567.73167967,\n",
       "        3569.98360612, 1431.93232217, 1134.55795661, 2845.1672907 ,\n",
       "        1266.03929319,  573.03715795, 2829.12370626, 2874.90595754,\n",
       "         782.5885523 , 1063.96446683, 1426.09856739, 3691.42744395,\n",
       "        1747.8332351 , 1026.16095264, 1029.53124682, 1026.31025249,\n",
       "        1196.52176835,  907.62888759, 2078.98041002, 3461.74168836,\n",
       "         661.49055622,  947.64897533, 1988.79482618, 1499.04266734,\n",
       "        3722.27110262, 1060.24474348, 1900.98514725,  998.34331173,\n",
       "        1248.10180545, 1460.80149824, 1370.28174319, 1039.2889616 ,\n",
       "        2510.18568583, 2217.17535518, 1038.25357437,  840.07987462,\n",
       "        1593.08755211, 1762.65947739, 3657.94008819, 1256.8276314 ,\n",
       "        1672.11559953, 3187.6076506 , 1223.32883397, 1919.35218273,\n",
       "         730.90700752, 1638.34715225,  832.94993341,  664.85190878,\n",
       "         638.2743582 , 1215.37210619, 3103.97773257, 2624.33957225,\n",
       "         928.26496083, 3496.49262582, 1886.24288059,  985.59021326,\n",
       "         726.57538716, 1171.73421046, 3600.11102123, 3587.74657337,\n",
       "        1256.16383613,  857.9169683 ,  939.82014555, 1458.38596857,\n",
       "        3424.22909129,  648.53898042, 3508.31626814, 1690.60062367,\n",
       "        1960.76286838, 2225.19929048,  545.50425028,  557.57895387,\n",
       "        2839.68810087,  789.51869461, 2709.58861523, 1194.78724297,\n",
       "         986.90445564, 1490.92101207,  822.0597628 ,  992.48275763,\n",
       "        3105.37639154, 2190.53974428, 1797.71878841, 1724.0535192 ,\n",
       "        3391.63119362, 1708.9630529 ,  942.48321741, 2297.67505942,\n",
       "        1252.64328857,  686.23210154, 2006.76243443,  634.65758526,\n",
       "         783.16007311, 1046.69747326, 2581.77815884, 1319.68071881,\n",
       "        2110.9937677 ,  959.20081859,  829.41491133,  900.3866804 ,\n",
       "         934.75176559, 1231.3933914 , 1624.32402827, 1568.11902476,\n",
       "         952.19855801, 1301.67175053, 3546.48788346, 2014.55925309,\n",
       "        2780.87266369, 3600.42188259, 2176.83544921,  611.09492209,\n",
       "        1421.08415063, 1010.85235601,  987.12387329, 2762.32757871,\n",
       "        1140.10865114, 1053.21640522, 1165.09542979, 1243.54548407,\n",
       "        1472.98859416, 1220.80371588, 3532.87031502, 2009.49988156,\n",
       "         845.94189401,  630.82490886, 2006.17301982, 1627.29364217,\n",
       "        1247.56299203, 1519.72198035,  874.26375814,  715.04076805,\n",
       "        1393.39799592,  890.08881643, 3365.73877081, 1043.99966207,\n",
       "        1991.68940082,  959.81812646,  797.92511334,  849.49698729,\n",
       "        1012.18004088, 2347.19822922,  781.33996332,  892.70840091,\n",
       "        1561.29650513,  834.58574322, 1070.2080804 , 1153.02073363,\n",
       "        1060.98085608, 1426.56166544, 1212.98086467,  986.81578244,\n",
       "         982.19257647, 1363.86979431, 1170.67109605, 1583.87724277,\n",
       "         458.36183394, 1433.35799422, 1354.11231097, 1084.45836145,\n",
       "         990.36460382, 2017.30976399,  981.69207369, 1287.07034072,\n",
       "        1051.5018244 ,  973.20463875, 1798.80023673, 1259.99691303,\n",
       "         152.46057847, 1053.59333758,  664.07517077, 3546.36494488,\n",
       "         714.9401842 , 3484.49199339,  643.39848752, 2203.05034287,\n",
       "         772.18580302, 2349.2794419 , 1084.50008801, 1057.93897718,\n",
       "        1439.73743086,  985.71509219, 1824.3628821 , 2175.12152076,\n",
       "        1323.21002745,  643.02128633,  464.58870187, 1048.0457265 ,\n",
       "        1382.52087515, 3685.00579386, 3152.08646892, 3692.6783998 ,\n",
       "         765.34839608, 2211.00905346, 3129.10829549,  597.31284968,\n",
       "        1169.99104042, 2571.13523807, 3604.22892716,  723.51224622,\n",
       "         760.72260557,  515.05366899, 2297.72064552,  931.95832967,\n",
       "        1717.26594569, 1266.63384131, 2236.47476498,  963.85618772,\n",
       "         984.7108251 , 1270.15241119, 1378.14173993, 3067.18841241,\n",
       "        1497.41134463, 1395.11665048,  629.30917639, 1314.96507259,\n",
       "        1005.877829  , 2871.26593047,  480.9963667 , 3125.05062141,\n",
       "        1038.56055543, 3536.11975267, 1675.64887608, 1018.47331771,\n",
       "         638.87160194, 1676.05234905,  877.40136782, 1088.56427841,\n",
       "        2722.62699562, 1022.75895044, 1007.88977341, 2016.02443917,\n",
       "         961.3237173 , 1011.92059597,  749.68187853, 3588.33743202,\n",
       "        1957.3725176 ,  609.24976099, 1180.6366334 , 3282.111716  ,\n",
       "        2723.16715339, 1355.99749426,  993.75627359, 2520.71722649,\n",
       "        2812.94867107, 2744.65924259, 2622.51755979, 3145.47651524,\n",
       "         966.90804724, 1257.79069042, 2279.91870059, 1774.89141629,\n",
       "         752.39892743, 1286.33259576,  798.62864849, 2265.87823409,\n",
       "        1057.94475965, 3591.08084618, 1020.66032486, 1318.7976375 ,\n",
       "        3550.49392325, 2035.68897477, 1121.24439265, 1561.60629494,\n",
       "        2774.89594883,  726.21499886, 1073.22121315, 3602.00701259,\n",
       "        1215.26146935, 2434.60019842,  900.57288166, 3505.57253895,\n",
       "        1982.02410096, 3552.70514238, 3288.39083004, 1155.44087748,\n",
       "        2525.93551475, 1957.05466758, 1361.94081858, 1914.24791831,\n",
       "         797.22789867, 1326.41078712, 1472.49226189, 1085.16677869,\n",
       "        1051.99271267, 1001.27055625, 1393.46327747, 1221.07754604,\n",
       "        1707.66778764, 3785.74490003, 1924.72282992, 1416.31024881,\n",
       "         929.75564637,  861.44293599, 1969.94469654, 1090.34591484,\n",
       "        3520.76993059,  440.40496584, 3623.39988849, 1095.20230801,\n",
       "        1060.02110885,  976.82043247, 1341.83610128, 1205.23074439,\n",
       "        2284.75959038, 1107.31448356, 2837.51524516,  880.83925604,\n",
       "        1046.91977518,  501.97223852, 1812.23004651, 1696.25581193,\n",
       "        1872.29285843, 1454.65246612, 3511.36017591,  943.01683699,\n",
       "        1323.59361931,  989.32564481,  887.58776255, 1357.12725023,\n",
       "        1579.59461484,  548.37609159, 2607.86585937, 1224.21665815,\n",
       "        1051.50307841, 3531.1680008 , 3592.12296576, 2223.26443861,\n",
       "        1641.81445247, 2693.65489038, 1321.58741551, 1274.81446895,\n",
       "        1547.67237761, 1091.81155785, 1433.6488334 , 1002.82253567,\n",
       "        1007.2351119 ,  925.83153609, 1177.00376261, 1039.81945725,\n",
       "        3311.92696035, 2233.24403059, 1066.3267567 , 1044.3765534 ,\n",
       "         983.8545659 , 1971.77935698,  648.32851394, 2430.65156001,\n",
       "        1965.96840392, 1351.14319582, 1874.79333787,  640.00857496,\n",
       "        1013.29727233, 1004.00002484, 1335.82403036, 1305.1436344 ,\n",
       "        1155.23015754, 1767.2307437 ,  953.35778761, 1891.83727392,\n",
       "         492.76260769, 1031.58925278, 1613.33974488, 1258.26829058,\n",
       "         840.47698135,  484.63699235, 2706.5704811 , 1148.33915554,\n",
       "        1157.35930223,  994.04228523,  914.24850372, 1195.39218286,\n",
       "         938.22605954, 1037.89177515, 1345.53410172, 1040.16472155,\n",
       "        1142.53075695, 1866.28648164,  958.14539485, 1043.69601183,\n",
       "        2991.54729195, 1897.83446529,  932.54931626, 1921.77842   ,\n",
       "        1922.73338192,  929.87945076, 3510.93154216, 1002.22001013,\n",
       "        1122.47243542,  945.60645266, 2695.98467273, 2108.74941252,\n",
       "         754.09414607, 1202.77979134, 1291.55770316, 3527.98247235,\n",
       "         855.87234467, 1416.97513863, 2364.26723238,  646.08477093,\n",
       "        1110.45856141, 2035.14246735, 1242.00487334, 2170.83420123,\n",
       "         871.44719585, 2088.00046881, 1420.54078785, 1086.70343898,\n",
       "         994.59788008,  848.31460189,  930.18717749, 1385.67455366,\n",
       "        1123.80472388, 1504.26641562, 1041.12592509,  918.71612934,\n",
       "        1671.04039727, 2787.32954074, 2183.34129907, 3568.80814277,\n",
       "        3246.09811065, 1024.5739744 , 1303.49435821, 1065.47276382,\n",
       "        1381.52205919, 1295.7285929 , 2854.81755666, 1163.82781737,\n",
       "        2755.4106152 , 1573.95032644,  857.36584163, 1112.97607213,\n",
       "        3550.62823251, 1238.85650758,  955.25468616, 1117.98310753,\n",
       "        1376.98299102, 3055.62397607, 1774.55850463, 3245.65823444,\n",
       "         895.32732598, 1147.08514055, 2503.34718607,  650.48347641,\n",
       "         986.6179203 , 3598.04235939, 2615.57743153, 1903.56909615,\n",
       "        1054.18526571,  637.81888081, 1346.7079998 , 1800.92850926,\n",
       "        1495.51231946, 2437.42222678, 1013.11020183, 1478.77086817,\n",
       "        2605.78981419,  647.97582326,  668.69241361,  829.95739464,\n",
       "        3723.057363  , 1081.16262745, 3591.95123464, 1866.21330409,\n",
       "         760.04406374, 2501.81902074, 2010.73785571,  771.57354504,\n",
       "        1044.3399126 , 2798.30116473, 2766.08181668, 1598.60833666,\n",
       "        2385.86503464, 1949.27743535, 1840.71715015,  632.47642599,\n",
       "        3488.32668237,  599.23598744, 1088.50449198,  805.87061609,\n",
       "        2259.67255717, 1109.44904275, 1828.0286163 , 3573.52362954,\n",
       "        3421.50228018,  903.61428778, 1013.15750531, 3082.6288152 ,\n",
       "        1552.77707454, 3684.06458208, 3633.68169461, 1796.60445283,\n",
       "        1154.33095856,  944.9039599 ,  870.71665411, 3102.96187448,\n",
       "        1246.24046574, 1363.26674557, 1475.75025472, 2073.60745407,\n",
       "        1102.95649989, 2007.2615086 , 1067.97623914, 1351.00627371,\n",
       "        2072.88800279,  775.45848553, 1120.60441621,  664.09629829,\n",
       "        1007.39738097, 1262.90856899,  477.5831939 , 1939.7608414 ,\n",
       "        1116.42927569, 1997.96460916, 2326.71628784, 1245.04634177,\n",
       "        1436.60090669, 1731.63624556, 1085.43565034, 1739.06387928,\n",
       "         997.35143128, 1119.08388119, 1062.46332246, 2216.5047466 ,\n",
       "        1299.60233864, 1086.12478918, 1197.24562897, 2903.14096525,\n",
       "        3599.81184278, 1323.70816968, 1366.5842178 , 1297.54907167,\n",
       "        2034.12121844, 1898.03632138,  638.36619954,  716.99036202,\n",
       "        1341.11571378,  688.73994121, 1642.8999785 ,  787.84290412,\n",
       "         899.59225362, 2081.69081018, 2158.86443629,  657.13980501,\n",
       "        3295.60831284, 1000.70510119, 1929.59298859, 1628.83432759,\n",
       "        1021.16421787,  841.1215845 , 2647.35238865, 1960.92861387,\n",
       "        1316.65592882, 1616.37619675, 1527.9974063 ,  784.63674975,\n",
       "        3325.62252451, 1495.9229718 , 1024.10522892,  921.67485652,\n",
       "        1928.30977816,  992.39544787, 1268.37861709,  661.85694964,\n",
       "        1353.92539208, 1331.66260148,  936.15263531, 1027.43418514,\n",
       "        1356.72646827, 3482.49608033, 1856.46338887,  816.97259374,\n",
       "         884.44272323, 1338.4951043 ,  696.56842526, 1746.04705137,\n",
       "         749.84821895, 2211.30950887, 1049.71953764,  849.98590817,\n",
       "        3041.93465868, 3020.49776028,  545.71710414, 2471.34460508,\n",
       "        1164.83615681, 3204.25000592,  722.90995141, 1656.00414194,\n",
       "        1780.65772764, 3569.66988452,   43.75529844, 1106.11795614,\n",
       "         608.35047279, 2144.90873643,  823.92771174, 1410.84867684,\n",
       "        1698.44232623, 1347.54301626, 1507.68579728, 2446.73867432,\n",
       "         822.02447911, 1387.10717812, 2055.53725645,  636.98279151,\n",
       "         698.16938851, 2508.72863812,  976.44234278, 1301.39553042,\n",
       "        1440.23208401, 1122.5550231 ,  723.98270125, 2169.83806125,\n",
       "        2041.28710595, 1740.83717865,  744.46397364,  785.38612289,\n",
       "         169.74336194, 3565.43807025, 1293.01765192, 1930.13744328,\n",
       "        3186.12685994, 2077.43032422, 2508.2980206 , 2420.83080867,\n",
       "         562.54539121, 3611.35341151,  910.92594947,  546.37007965,\n",
       "        1430.2852603 , 1968.5460878 ,  929.50314826,  964.65860769,\n",
       "        2337.30143822, 2639.06808656, 3013.41611552, 1513.19492396,\n",
       "        1257.88253773,  770.3060692 , 3608.51671419,  898.1658667 ,\n",
       "        1667.7532772 , 1050.90462039,  696.87750488,  680.75914224,\n",
       "         704.73667331, 1779.87065734, 3630.63679514, 1066.8747695 ,\n",
       "        2188.23829331,  743.10095269, 3221.22989858, 1383.07202601,\n",
       "        1076.15448378,  768.72385089, 1785.51590616,  986.37048598,\n",
       "         617.3051515 , 2195.46052561, 2995.77025503, 2477.4810165 ,\n",
       "         880.88373608, 2619.17470128, 1675.05331681, 1234.07261281,\n",
       "        1279.80972666,  856.20386163, 1461.55615327,  594.04986671,\n",
       "        3355.61958867, 1216.5322253 , 1059.42352389,  826.11267044,\n",
       "        1554.21848425, 2862.18155463, 1190.67455186, 2460.17586017,\n",
       "         910.41564269, 1200.57636344,  548.7215171 ,  764.07828726,\n",
       "        1005.73267269, 1145.48070855, 2481.24301179, 3540.813405  ,\n",
       "        1074.77965102, 1105.77518044, 1205.30379938, 1456.8244323 ,\n",
       "        1475.32116087, 1673.71896968, 1169.96259415, 1035.02814219,\n",
       "        2226.87808823,  938.31116592, 1606.89523363, 2572.1038077 ,\n",
       "         677.10168755, 1214.26024551, 2121.21185833, 1507.34566755,\n",
       "        1040.14381934, 3395.14048707, 2160.95232057, 2130.46843924,\n",
       "        1664.08663588, 1600.31311631, 1846.86201026,  966.74567924,\n",
       "         531.93546011, 1793.79749203, 1480.63244946,  943.54998832,\n",
       "        1066.83976986, 1260.53145471, 3578.60495976, 3238.83936495,\n",
       "         944.86086438,  553.91013714, 1809.73490428, 1041.66758132,\n",
       "        1222.74651068, 1874.39620452, 1043.61273987, 1703.4466064 ,\n",
       "        2246.43660465,  755.31621018, 3727.605614  , 3527.62653454,\n",
       "        1232.76544916, 1324.09596275, 1408.30436091, 1330.62663101,\n",
       "         935.82907526, 1969.90203475, 1085.88709053, 1604.11344596,\n",
       "        2972.83561957, 1616.01285374, 1330.81695391, 2294.62091563,\n",
       "        1070.45735929,  870.10269851, 1716.79816642,  677.46887415,\n",
       "        1796.32133459, 1349.61228139,  839.41466676, 1878.80311016,\n",
       "        1406.84982336, 1295.72750709, 1139.35687734,  941.01571657,\n",
       "        3556.23641809, 3651.46423181, 1351.21810374, 3258.69198916,\n",
       "         959.73541252, 1372.72819928, 1126.09190572, 1145.00119802,\n",
       "        1167.00823015, 1329.50052401, 2148.9966061 , 1929.15853045,\n",
       "        2122.352975  , 1649.66149899, 3320.11638496, 1128.56353033,\n",
       "        1372.71092678, 3555.61813606, 1688.26365673, 1335.45539757,\n",
       "        1070.32059743, 2136.05975528, 2512.00315744, 2482.88409146,\n",
       "        1981.42480793, 1252.77619967, 1749.35621044, 1145.83944411,\n",
       "        2205.49418014, 1763.57194597,  941.36653781, 3558.95894723,\n",
       "        1369.29488493, 3609.48676214, 1948.10157565, 1490.43028049,\n",
       "         549.59313474, 3444.88675855, 2001.0444463 , 2588.48547175,\n",
       "         678.51821468, 1667.82233048,  882.45465111,  658.33445968,\n",
       "        1838.32478339, 1384.97280818, 2133.5650001 , 3351.38966923,\n",
       "         998.10328435,  920.54710518,  748.61746543, 1632.49473618,\n",
       "        1202.03516157, 3226.50795276, 2341.77622364, 1075.03391293,\n",
       "         893.05482918, 1812.08304386, 1908.1069143 , 1064.85560816,\n",
       "         732.52638878, 1349.18517044, 1478.19885724, 1234.39150951,\n",
       "         883.22625795, 3419.08136818, 1199.70630064, 3173.2615731 ,\n",
       "        1260.78311693,  903.33635359, 1019.95578174, 3541.81314459,\n",
       "        2202.08559894, 1963.24382659,  680.59532536,  865.95797577,\n",
       "        1891.45491142, 1264.92981344,  698.14854942, 1075.4306182 ,\n",
       "        3499.47398055, 3578.30914685, 1067.98494849, 2792.11443763,\n",
       "         998.99070935, 2261.89331887, 1716.56285964, 3646.48269384,\n",
       "        1056.24621307,  752.0933828 , 2295.78533354, 1545.61947148,\n",
       "        1300.68453923, 3596.3105866 , 2512.77981823, 1958.39443244,\n",
       "        1084.702539  ,  337.53442541,  951.22879105, 1257.99909023,\n",
       "         656.46849355,  207.74617361, 1637.49451081,  761.48459486,\n",
       "         844.22016372, 1530.96557269, 1913.14571234, 2739.53856699,\n",
       "        2266.55016783, 2494.7388535 , 3620.85341495,  944.24270125,\n",
       "        3700.82089761, 3509.90489971, 3575.00212195,  793.24466481,\n",
       "        1546.255024  , 1347.10374514, 1573.87906844, 1657.37081025,\n",
       "        1608.73207696, 2469.65957011, 1006.79538776, 3528.41674407,\n",
       "        1240.88697357, 1088.47741397, 2294.72157693, 1054.21103579,\n",
       "        2537.27590694, 1375.69001057, 1341.94792913, 2785.86278272,\n",
       "         185.75486174, 2100.59642265, 1535.44551195, 1270.49757825,\n",
       "        3635.26762258,  668.15833818,  966.90225925, 1069.24315656,\n",
       "        2734.5251367 , 1045.61001991, 1313.67090754, 2898.28755793,\n",
       "        1715.04604076, 1454.41706676,  908.74419938, 3109.3431932 ,\n",
       "        2330.43096213, 1381.34706036, 2237.58709267, 1054.17359458,\n",
       "        2524.8618115 ,  992.44937566, 1332.06195529,  691.94332833,\n",
       "        2928.35864412, 1054.25764836, 1025.77032902, 1185.46640338,\n",
       "        1300.39723828, 1327.12552119, 1724.43231301, 1328.10373021,\n",
       "        1579.93331615,  856.2833373 , 1382.90676193, 2071.38340053,\n",
       "         666.75900873, 2671.02515261, 1064.51943673, 2291.3849111 ,\n",
       "         989.35078311, 1329.91398225, 1598.3366197 , 1401.69266297,\n",
       "        2821.96322466, 1633.51561494, 1763.77943422, 1849.5575125 ,\n",
       "        1866.97350003, 3241.04135143, 3607.99167976, 3506.19672136]),\n",
       " 'lens': array([ 165,  170,  224,  237,  249,  250,  278,  281,  293,  347,  356,\n",
       "         364,  428,  439,  241,  514,  534,  537,  313,  219,  295,  375,\n",
       "         274,  504,  542,  202,  422,  214,  368,  869,  881,  686,  459,\n",
       "         561,  557, 1000,  235,  712,  474,  526,  291,  539,  253,  457,\n",
       "         200, 1000,  257,  305,  245,  234,  738,  837,  431,  760,  675,\n",
       "         557,  729,  493,  371,  290,  442,  696,  312,  409, 1000,  399,\n",
       "         329,  758,  356,  192,  756,  803,  219,  298,  400, 1000,  449,\n",
       "         295,  290,  282,  319,  254,  559, 1000,  204,  267,  541,  429,\n",
       "        1000,  294,  549,  270,  356,  422,  353,  291,  685,  602,  290,\n",
       "         250,  452,  482,  963,  357,  488,  887,  322,  523,  241,  437,\n",
       "         234,  203,  191,  333,  860,  724,  268, 1000,  540,  283,  209,\n",
       "         318, 1000, 1000,  355,  239,  269,  423,  947,  196,  932,  466,\n",
       "         558,  606,  170,  178,  780,  221,  739,  321,  275,  422,  245,\n",
       "         262,  837,  610,  507,  456,  923,  479,  269,  644,  341,  201,\n",
       "         539,  196,  239,  300,  723,  351,  566,  273,  247,  262,  266,\n",
       "         330,  441,  438,  262,  341, 1000,  565,  764, 1000,  606,  204,\n",
       "         382,  270,  286,  761,  308,  296,  307,  332,  406,  328, 1000,\n",
       "         550,  233,  192,  557,  434,  351,  432,  252,  210,  376,  258,\n",
       "         912,  286,  555,  275,  245,  239,  279,  648,  237,  246,  417,\n",
       "         248,  294,  334,  306,  387,  346,  281,  275,  375,  321,  420,\n",
       "         154,  387,  393,  321,  267,  566,  273,  381,  316,  271,  499,\n",
       "         335,   74,  322,  195, 1000,  205, 1000,  211,  630,  249,  674,\n",
       "         313,  315,  376,  278,  516,  591,  349,  191,  168,  277,  368,\n",
       "        1000,  852, 1000,  236,  622,  858,  193,  342,  694, 1000,  221,\n",
       "         241,  177,  625,  268,  487,  349,  623,  289,  263,  336,  389,\n",
       "         839,  395,  378,  191,  371,  299,  765,  159,  837,  289, 1000,\n",
       "         449,  292,  195,  457,  257,  313,  746,  282,  285,  564,  262,\n",
       "         282,  232, 1000,  566,  188,  319,  895,  735,  371,  288,  692,\n",
       "         760,  744,  686,  884,  273,  332,  646,  495,  231,  348,  231,\n",
       "         605,  295, 1000,  294,  368, 1000,  567,  307,  439,  750,  211,\n",
       "         325, 1000,  338,  666,  260, 1000,  532, 1000,  901,  301,  677,\n",
       "         546,  371,  528,  227,  355,  403,  325,  285,  270,  403,  327,\n",
       "         489, 1000,  510,  392,  259,  243,  572,  288, 1000,  151, 1000,\n",
       "         317,  297,  271,  355,  322,  632,  306,  811,  262,  294,  175,\n",
       "         490,  467,  520,  419, 1000,  270,  391,  281,  259,  363,  454,\n",
       "         185,  687,  328,  292, 1000,  992,  611,  476,  722,  349,  342,\n",
       "         411,  305,  385,  306,  284,  267,  327,  273,  887,  627,  310,\n",
       "         312,  283,  533,  201,  653,  574,  369,  520,  209,  285,  283,\n",
       "         371,  358,  333,  481,  252,  522,  169,  280,  471,  338,  238,\n",
       "         160,  740,  312,  324,  282,  266,  316,  270,  275,  370,  274,\n",
       "         314,  519,  258,  299,  819,  528,  270,  533,  515,  268, 1000,\n",
       "         270,  308,  274,  742,  597,  216,  337,  355, 1000,  235,  413,\n",
       "         628,  196,  321,  552,  356,  586,  261,  600,  403,  324,  271,\n",
       "         256,  268,  378,  307,  430,  311,  246,  445,  795,  602, 1000,\n",
       "         899,  303,  342,  317,  381,  395,  792,  315,  733,  463,  255,\n",
       "         306, 1000,  330,  276,  327,  397,  823,  490,  889,  260,  310,\n",
       "         715,  215,  279, 1000,  721,  532,  318,  194,  377,  489,  416,\n",
       "         683,  285,  399,  737,  195,  197,  230, 1000,  301, 1000,  514,\n",
       "         238,  707,  543,  236,  286,  758,  745,  446,  640,  554,  511,\n",
       "         191,  962,  186,  320,  230,  617,  323,  501, 1000,  917,  269,\n",
       "         292,  843,  408, 1000,  975,  502,  337,  274,  255,  828,  336,\n",
       "         399,  423,  562,  305,  546,  319,  393,  564,  238,  315,  193,\n",
       "         307,  341,  169,  559,  324,  543,  633,  333,  408,  475,  318,\n",
       "         454,  290,  306,  325,  606,  343,  325,  341,  802, 1000,  395,\n",
       "         357,  347,  554,  516,  191,  212,  359,  223,  445,  220,  260,\n",
       "         579,  590,  194,  915,  285,  518,  472,  295,  249,  729,  555,\n",
       "         392,  471,  426,  239,  918,  401,  273,  270,  531,  282,  343,\n",
       "         195,  359,  364,  257,  291,  368, 1000,  518,  230,  260,  361,\n",
       "         204,  469,  245,  600,  316,  250,  820,  839,  177,  686,  336,\n",
       "         852,  215,  462,  481,  985,   29,  316,  185,  618,  236,  379,\n",
       "         487,  380,  425,  663,  246,  400,  588,  185,  201,  691,  278,\n",
       "         340,  383,  308,  209,  596,  581,  490,  231,  232,   79, 1000,\n",
       "         350,  511,  888,  574,  694,  659,  173,  988,  261,  172,  386,\n",
       "         533,  248,  277,  644,  741,  809,  394,  337,  226, 1000,  259,\n",
       "         483,  321,  205,  205,  202,  498, 1000,  314,  592,  226,  870,\n",
       "         377,  282,  225,  511,  285,  185,  645,  798,  715,  258,  688,\n",
       "         466,  340,  362,  234,  398,  184,  918,  338,  296,  226,  410,\n",
       "         766,  339,  659,  256,  328,  173,  214,  269,  354,  700, 1000,\n",
       "         320,  308,  325,  391,  429,  446,  341,  313,  637,  271,  473,\n",
       "         686,  202,  341,  610,  410,  304,  907,  596,  575,  484,  450,\n",
       "         516,  279,  168,  489,  390,  278,  320,  341, 1000,  915,  266,\n",
       "         175,  496,  313,  350,  505,  316,  450,  633,  212, 1000, 1000,\n",
       "         333,  369,  409,  345,  274,  566,  302,  461,  795,  442,  367,\n",
       "         623,  297,  244,  485,  198,  471,  368,  238,  506,  383,  346,\n",
       "         319,  269, 1000, 1000,  364,  897,  277,  364,  306,  314,  333,\n",
       "         366,  603,  518,  562,  423,  888,  309,  368, 1000,  447,  380,\n",
       "         296,  594,  677,  675,  544,  345,  462,  307,  597,  470,  259,\n",
       "        1000,  369, 1000,  528,  405,  172,  935,  535,  694,  199,  465,\n",
       "         259,  198,  527,  360,  580,  896,  282,  261,  214,  484,  326,\n",
       "         895,  653,  302,  260,  510,  533,  297,  208,  392,  416,  333,\n",
       "         244,  931,  351,  889,  336,  260,  291, 1000,  611,  517,  201,\n",
       "         257,  526,  340,  224,  319,  939, 1000,  285,  750,  266,  618,\n",
       "         472, 1000,  297,  213,  625,  410,  371, 1000,  676,  540,  320,\n",
       "         128,  263,  342,  200,   90,  484,  221,  249,  435,  554,  755,\n",
       "         614,  660, 1000,  276, 1000,  996, 1000,  243,  429,  395,  450,\n",
       "         481,  468,  661,  285, 1000,  350,  322,  627,  292,  693,  398,\n",
       "         365,  751,   83,  589,  434,  359, 1000,  201,  277,  317,  754,\n",
       "         289,  370,  777,  492,  407,  267,  846,  626,  376,  623,  296,\n",
       "         675,  281,  370,  201,  806,  295,  287,  337,  340,  365,  488,\n",
       "         360,  442,  252,  369,  561,  198,  744,  298,  639,  280,  355,\n",
       "         455,  382,  765,  432,  479,  518,  520,  882, 1000, 1000]),\n",
       " 'idxs': array([80000,     0, 30000, 20000, 40000, 65000, 90000, 35000, 50000,\n",
       "        85000,  5000, 60000, 95000, 70000, 20237, 15000, 75000, 10000,\n",
       "        65250,  5356, 35281, 30224, 60364, 80165,   170, 75534, 85347,\n",
       "        30599, 20478, 25000, 55000, 90278, 15514, 95428, 70439, 45000,\n",
       "        85769, 50293, 35576, 10537, 30813,  5575, 25869, 80669, 15973,\n",
       "        40249, 70996, 95989, 11063,  6114, 60638, 65563, 51005,   712,\n",
       "        20846, 46000, 55881, 81126, 96294, 61376, 71253, 86004, 66400,\n",
       "        11308, 75736,  6348, 51436, 36050,  1472, 96665, 26122, 31104,\n",
       "        71695, 81619, 46557, 90964, 21521, 86700, 76736, 51765,  6747,\n",
       "        26878, 56610, 16173, 21970, 31907, 61666, 36808, 41249, 46957,\n",
       "        11717, 52047, 91964, 81917, 86995, 27132,  1828, 71914, 47251,\n",
       "        82339, 22174, 32174, 66712, 92320, 42249, 96857, 27423, 37237,\n",
       "        47541, 87348, 82589, 22626, 32656, 72516,  7066, 62207, 92677,\n",
       "        77026,  2513, 32847,  7926, 72849, 57169, 17173, 22829, 92945,\n",
       "        62931, 87785, 12266,  3053, 52317, 82823, 42737, 27745, 23184,\n",
       "         3249, 67675, 53249, 97744, 58169, 43295, 18173, 28351, 23354,\n",
       "        47782, 78026, 33130, 13213, 37760, 88208, 98483,  8135, 68455,\n",
       "        48619, 83289, 33637, 18595, 43570, 93184, 28596, 53470, 68796,\n",
       "        83828, 18834, 33833,  8779, 38683, 88687, 43870, 48820, 73167,\n",
       "        23616,  3427, 63200, 13669, 84075, 93907,  9109, 34099, 78636,\n",
       "        19096, 89125, 44132, 39124, 69069, 49161, 58490, 28947, 94289,\n",
       "         9379, 54036,  4191, 84279, 64200, 34385, 44439, 14275, 79397,\n",
       "        98752, 89421, 74167, 39456, 59490, 29497, 69475, 24181,  4625,\n",
       "        14651, 49489, 99664, 84630, 54593, 34637,  9571, 44649, 39731,\n",
       "        69754, 79655, 74722, 64632, 99912, 59735, 29736,  4862, 84924,\n",
       "        89707, 65029, 54927, 44995, 60052, 24829, 35012, 85273, 75030,\n",
       "          183, 19404, 50308, 94522, 60323, 49906, 75352, 34943, 20328,\n",
       "        35347, 65302, 15404, 80191, 55122,   378, 30617, 15682, 75601,\n",
       "        50513, 14897, 95066,  9958,   727, 85347, 25129, 30808, 35662,\n",
       "        40311, 70043, 15850, 50881,  5958, 60534, 10897, 55713, 75878,\n",
       "        20641, 31001, 16071, 36004, 85969, 90522, 25987, 41005, 56200,\n",
       "        71043, 61159, 80707, 36340, 65678, 76227, 45536, 51122, 31290,\n",
       "        56391, 11165, 26382, 86358,   963, 66515, 46536, 21264, 56586,\n",
       "        51571, 11622, 95918, 41383, 66797, 86671,  6135, 16334,  1709,\n",
       "        11854, 81472, 71414, 61458, 76516, 91361, 86990, 41949, 26639,\n",
       "        21828, 12142,  2080, 77202, 51853, 82164, 36499, 92245, 62202,\n",
       "        31582, 17069, 12373, 27285, 66985, 62570, 82459, 46821, 37499,\n",
       "        72174, 32582, 56848, 22323, 96918,  7030, 17636, 87263, 77433,\n",
       "        12680, 92539, 32842, 67735, 27724, 47821, 97918, 17937, 57848,\n",
       "        87940, 82784, 42281, 62781,  7931, 93067, 68090, 72840, 28127,\n",
       "         2428, 63291, 52458, 48146, 18207, 58251, 98203, 43281, 77979,\n",
       "        68333, 37837,  3428, 73412, 98558, 88267,  8323, 83273, 28415,\n",
       "        22855, 43603, 18504, 68639,  3690, 78611, 58522, 83793, 93326,\n",
       "        73706, 88757, 13051, 33069, 48463, 38648, 63442, 28834, 23855,\n",
       "         8790,  3949, 18895, 78974, 94013, 74034, 83978, 34061, 53458,\n",
       "        98733, 14051, 39124, 64164, 68920, 79280, 43873, 58976, 29183,\n",
       "        89049, 14361, 54345, 99360, 19280, 94297, 34334,  9201, 64447,\n",
       "        24197, 59550, 79481, 74301, 39436, 89569, 19651, 49074, 44526,\n",
       "        29552, 99643, 24719, 64699, 79761, 74772,  9682, 89807, 39774,\n",
       "        14570, 44838, 19811, 84305, 54630, 99925, 34667, 59719, 24985,\n",
       "         4254, 70047, 60015, 85081, 94655, 49814, 95195, 15110, 40096,\n",
       "        69453,   254, 35088, 29876, 70317, 30200, 75031, 55234, 10089,\n",
       "        65453, 80124, 60323, 95411,   489, 70513, 25504, 45411, 35501,\n",
       "        40451, 75583, 25772, 55590, 20253, 15447,  5052, 50158,   760,\n",
       "        60726, 45789, 95735, 70769, 90397, 75894, 30521, 35808, 16049,\n",
       "        21048, 85355,  6052, 96116, 46106, 51057, 65714, 61068, 10675,\n",
       "        16304, 31254, 40881, 96392, 21354, 80724, 26018, 76209, 46433,\n",
       "        61558,  6382, 36271, 86355, 71164, 11564, 51454, 91189, 36760,\n",
       "        86771,  6759, 56035, 61752,  1063, 96607,  6989, 31564, 46751,\n",
       "         2063, 57035, 16564, 41596, 91926, 26739, 51853, 36955, 47294,\n",
       "        66537, 17322,  7227, 57321, 86968, 32271, 97121, 21633, 81724,\n",
       "        27379, 92372, 71847,  2299, 76741, 11849, 42341, 17508, 32594,\n",
       "        97622, 62053,  7547, 67499, 47485, 52407, 92664, 37466,  2707,\n",
       "        22633, 57551, 67898, 12824, 52969, 32868, 42843, 23026, 82641,\n",
       "        62881, 72690, 27648, 92969, 47908, 17845, 38012, 97877, 58115,\n",
       "        68136, 53162,  7883, 33175, 83200, 23195, 77741, 87585, 63205,\n",
       "        28281, 48316, 13139, 43184, 83525, 33518, 58405, 78543, 38330,\n",
       "        28638, 63600, 18320, 98331, 33730,  3026, 43700, 53487, 23536,\n",
       "        83716, 58764, 93302,  8489, 48663, 88585, 13693, 18899, 73233,\n",
       "        78766, 33924, 84011, 38775,  9044, 54005, 79167, 24008, 94031,\n",
       "        74151, 14119, 89056, 68442, 43985, 39306, 84281, 34197, 24367,\n",
       "        19138, 79362, 59013,  9326, 94395, 63860, 28858, 84541, 49055,\n",
       "        69442,  3941, 59613, 89424, 14410, 98921, 14891, 94645, 69778,\n",
       "        54348, 49741, 19607, 44503,  9642, 79607, 74408, 59828, 64680,\n",
       "        34558, 49977,  5022, 39536, 94961, 14920, 99906, 19986, 45162,\n",
       "         4793, 89886, 44990, 95289, 15294, 85467, 24571, 35227, 70071,\n",
       "        29697, 55074, 54966, 75032, 15526, 84718, 40480, 20571, 45371,\n",
       "        10260, 25585, 35577, 90239, 30146, 60080, 95520, 70582, 80706,\n",
       "        69963, 20743, 85546, 40741, 30887, 60889, 80932, 15699,  5223,\n",
       "        70919, 55648, 86029,   389, 90883, 21002, 81134, 35854, 61094,\n",
       "        71233, 10793, 50660, 45757, 86255, 25833, 31092, 56240,  6223,\n",
       "        81359, 16197, 71418, 75691, 21284, 36365, 11438,  1259, 95914,\n",
       "        61379, 41062, 86513, 51458, 21622,  6585, 16595, 81593, 91260,\n",
       "        65963, 36661, 96680, 11664, 71602, 56580, 76609, 61718, 21795,\n",
       "        26521, 66963, 86769, 31558, 22108, 96988, 41721, 81947, 62059,\n",
       "        46472,  6799, 16864, 91960, 57009, 11989, 32244, 62363, 77055,\n",
       "        27158, 82357, 97329, 22310,  1669, 51786, 17439, 62531, 67234,\n",
       "        92444, 57459, 42331, 32523,  7395, 87242, 62706, 36981, 71993,\n",
       "         2669, 97649, 82635, 67730, 57809, 27548, 42836, 52701, 47379,\n",
       "        92757,  7845, 22651, 72993, 68075, 32839, 43138, 87875, 98018,\n",
       "        53162, 62918, 83044, 58083, 28114, 48174, 12505, 77544, 93199,\n",
       "        17705, 88346, 23274, 43336, 53400, 58429, 63424,  8212, 33324,\n",
       "        73290, 48443,  3002, 88623, 18602, 37981, 78544, 43642, 58762,\n",
       "        13505, 83427, 28433, 23638, 48866,  8815, 18970, 53714, 33842,\n",
       "        59058, 68319, 38981, 98386,  3890, 44022,  9277, 93563, 78991,\n",
       "        73852, 39350, 84104, 59317, 44427, 29108, 34312, 14099, 63790,\n",
       "         4418, 79526, 59576, 54311, 94498, 88932, 24182, 39549, 44625,\n",
       "        99386,  9449, 64686, 79787, 34672, 14679, 59790, 99896, 49211,\n",
       "        89827, 69319, 44885,  9982, 64983, 19277,  4700, 54795, 55123,\n",
       "        10095, 39851, 30064, 40221, 95140, 84569, 74546, 60274, 94824,\n",
       "          311, 79995, 45142, 29635, 10352, 80508, 85178, 30404, 40445,\n",
       "        24835, 65208, 35377, 45614, 20835, 80721, 10649, 85803, 45934,\n",
       "        70546, 40816, 30814, 25635,   577, 95459, 75613, 90574,  5242,\n",
       "        80984, 15277, 50312, 55324,  1131, 20963, 31063, 46024, 41037,\n",
       "        26070, 65884, 81260, 60559, 16277, 56324, 71030, 21392, 86003,\n",
       "        51308,  1374, 10991, 21684, 76227, 31458, 66545, 35917,  1739,\n",
       "        86696, 71657, 91234, 51706, 56646,  6242, 26538, 16627, 21767,\n",
       "        96214, 46474, 11742, 81545, 31892, 61559, 86973,  1940, 12118,\n",
       "        41518, 22034, 97060, 57016,  7019, 51995, 66904, 17034, 71974,\n",
       "        32188, 47100, 36917, 12319, 76816,  2310, 27030, 67392, 97347,\n",
       "        87254,  7359, 91988, 52360, 57353, 42324, 17394, 82168, 62234,\n",
       "        22329]),\n",
       " 'rew': 1632.6233041283347,\n",
       " 'len': 454.727,\n",
       " 'rew_std': 865.4503875407383,\n",
       " 'len_std': 234.3574331464654}"
      ]
     },
     "execution_count": 94,
     "metadata": {},
     "output_type": "execute_result"
    }
   ],
   "source": [
    "spi_policy.eval()\n",
    "spi_collector = Collector(spi_policy, env, spi_buffer)\n",
    "spi_result = spi_collector.collect(n_episode=1000)\n",
    "spi_result"
   ]
  },
  {
   "cell_type": "code",
   "execution_count": 96,
   "metadata": {},
   "outputs": [],
   "source": [
    "spi_buffer.save_hdf5(\"spi_buffer.hdf5\")"
   ]
  },
  {
   "cell_type": "code",
   "execution_count": 49,
   "metadata": {},
   "outputs": [],
   "source": [
    "envs = SubprocVectorEnv([lambda: gym.make(args.task) for _ in range(10)])"
   ]
  },
  {
   "cell_type": "code",
   "execution_count": 50,
   "metadata": {},
   "outputs": [
    {
     "data": {
      "text/plain": [
       "{'n/ep': 40,\n",
       " 'n/st': 28438,\n",
       " 'rews': array([1875.527446  , 1985.02329145, 2076.8943044 , 2169.54324235,\n",
       "        2220.29535078, 2354.63864142, 2632.09455398, 2773.12230279,\n",
       "        2846.51336189, 3324.07538659, 1513.33676209, 1412.20228822,\n",
       "        2114.93811745, 2183.43096061, 2097.08056415, 2691.77921814,\n",
       "        1813.60546139, 2448.4467662 , 2040.81795527, 2051.75918271,\n",
       "        3283.1869963 , 3282.86971813, 1459.23786367, 1888.89257348,\n",
       "        2685.39992789, 1867.88289683, 2976.89779533, 3031.58666299,\n",
       "        2150.55391171, 2744.34696107, 2319.66226352, 3271.27851469,\n",
       "        1871.13751454, 2172.16562337, 2238.02661416, 2573.74728189,\n",
       "        1605.1772629 , 2721.9337948 , 3075.98032085, 2501.72036928]),\n",
       " 'lens': array([ 566,  605,  630,  653,  669,  709,  790,  832,  851, 1000,  460,\n",
       "         439,  627,  648,  638,  809,  552,  738,  613,  618, 1000, 1000,\n",
       "         446,  574,  807,  563,  890,  904,  645,  818,  690, 1000,  563,\n",
       "         656,  673,  776,  491,  818,  919,  758]),\n",
       " 'idxs': array([0, 1, 9, 4, 3, 6, 5, 8, 2, 7, 0, 4, 1, 9, 3, 6, 7, 8, 0, 4, 5, 2,\n",
       "        0, 6, 3, 7, 1, 9, 5, 4, 2, 8, 7, 6, 9, 3, 5, 1, 0, 4]),\n",
       " 'rew': 2358.670250631345,\n",
       " 'len': 710.95,\n",
       " 'rew_std': 520.091209752453,\n",
       " 'len_std': 155.50690499138616}"
      ]
     },
     "execution_count": 50,
     "metadata": {},
     "output_type": "execute_result"
    }
   ],
   "source": [
    "cql_policy.eval()\n",
    "cql_collector = Collector(cql_policy, envs)\n",
    "cql_result = cql_collector.collect(n_episode=40)\n",
    "cql_result"
   ]
  },
  {
   "cell_type": "code",
   "execution_count": 51,
   "metadata": {},
   "outputs": [
    {
     "data": {
      "text/plain": [
       "{'n/ep': 40,\n",
       " 'n/st': 39312,\n",
       " 'rews': array([3490.20986974, 3684.70606198, 3591.47819272, 3597.37233087,\n",
       "        3538.29855872, 3591.69464872, 3520.78922286, 3586.09690681,\n",
       "        3588.96709079, 3575.0735309 , 2592.20752796, 3528.43318319,\n",
       "        3657.0264336 , 3555.0225114 , 3555.33762397, 3567.77300397,\n",
       "        3541.87593344, 3712.8363668 , 3585.36534082, 3566.03740618,\n",
       "        3596.09974697, 3376.00707725, 3588.74366652, 3560.44204471,\n",
       "        3554.94183537, 3548.74198787, 3578.99220746, 3556.44991665,\n",
       "        3535.1903398 , 3556.28216648, 3566.60430196, 2529.72685258,\n",
       "        3524.95554888, 3556.10858374, 3562.88478265, 3559.90796793,\n",
       "        3591.3873296 , 3551.17067614, 3513.85777727, 3563.2662359 ]),\n",
       " 'lens': array([1000, 1000, 1000, 1000, 1000, 1000, 1000, 1000, 1000, 1000,  701,\n",
       "        1000, 1000, 1000, 1000, 1000, 1000, 1000, 1000, 1000, 1000,  898,\n",
       "        1000, 1000, 1000, 1000, 1000, 1000, 1000, 1000, 1000,  713, 1000,\n",
       "        1000, 1000, 1000, 1000, 1000, 1000, 1000]),\n",
       " 'idxs': array([0, 1, 2, 3, 4, 5, 6, 7, 8, 9, 3, 0, 1, 2, 4, 5, 6, 7, 8, 9, 3, 5,\n",
       "        0, 1, 2, 4, 6, 7, 8, 9, 3, 7, 5, 0, 1, 2, 4, 6, 8, 9]),\n",
       " 'rew': 3514.9590697794347,\n",
       " 'len': 982.8,\n",
       " 'rew_std': 224.77926132580131,\n",
       " 'len_std': 65.25726013249407}"
      ]
     },
     "execution_count": 51,
     "metadata": {},
     "output_type": "execute_result"
    }
   ],
   "source": [
    "sac_policy.eval()\n",
    "sac_collector = Collector(sac_policy, envs)\n",
    "sac_result = sac_collector.collect(n_episode=40)\n",
    "sac_result"
   ]
  },
  {
   "cell_type": "code",
   "execution_count": 81,
   "metadata": {},
   "outputs": [],
   "source": [
    "from tianshou.data import ReplayBuffer\n",
    "from tianshou.data.types import RolloutBatchProtocol\n",
    "\n",
    "\n",
    "class MixedPolicy(BasePolicy):\n",
    "    def __init__(self, base_policy: BasePolicy, expert_policy: BasePolicy, action_space, buffer):\n",
    "        super().__init__(action_space=action_space, action_scaling=True)\n",
    "        self.base_policy = base_policy\n",
    "        self.expert_policy = expert_policy\n",
    "        self.device = device\n",
    "        self.buffer = buffer\n",
    "\n",
    "    def forward(self, batch: RolloutBatchProtocol, state=None, **kwargs):\n",
    "        bsz = len(batch.obs)\n",
    "        batch = to_torch(batch, dtype=torch.float32, device=self.device)\n",
    "        self.base_policy.eval()\n",
    "        self.expert_policy.eval()\n",
    "        with torch.no_grad():\n",
    "            expert_result = self.expert_policy(batch)\n",
    "            base_result = self.base_policy(batch)\n",
    "            expert_qvalues1 = self.expert_policy.critic1(batch.obs, expert_result.act)\n",
    "            expert_qvalues2 = self.expert_policy.critic2(batch.obs, expert_result.act)\n",
    "            expert_qvalues = torch.minimum(expert_qvalues1, expert_qvalues2)\n",
    "            base_qvalues1 = self.base_policy.critic1(batch.obs, base_result.act)\n",
    "            base_qvalues2 = self.base_policy.critic2(batch.obs, base_result.act)\n",
    "            base_qvalues = torch.minimum(base_qvalues1, base_qvalues2)\n",
    "        cede_ctrl = base_qvalues < expert_qvalues\n",
    "        actions = torch.where(cede_ctrl, expert_result.act, base_result.act)\n",
    "        return Batch(**{'act': actions, 'policy': Batch({'cede_ctrl': cede_ctrl})})\n",
    "\n",
    "    def train(self, mode: bool = True) -> \"MixedPolicy\":\n",
    "        self.base_policy.train(mode)\n",
    "        return self\n",
    "    \n",
    "    def process_fn(self, batch: RolloutBatchProtocol, buffer: ReplayBuffer, indices: np.ndarray) -> RolloutBatchProtocol:\n",
    "        return self.base_policy.process_fn(batch, buffer, indices)\n",
    "\n",
    "    def learn(self, batch, **kwargs):\n",
    "        # cede_ctrl = batch.policy.cede_ctrl.cpu().squeeze()\n",
    "        # train_batch = batch[~cede_ctrl]\n",
    "        # info = self.base_policy.learn(train_batch)\n",
    "        info = self.base_policy.learn(batch)\n",
    "        return info"
   ]
  },
  {
   "cell_type": "code",
   "execution_count": 11,
   "metadata": {},
   "outputs": [],
   "source": [
    "test_buffer = VectorReplayBuffer(5000, 5)"
   ]
  },
  {
   "cell_type": "code",
   "execution_count": 82,
   "metadata": {},
   "outputs": [],
   "source": [
    "mixed_policy = MixedPolicy(cql_policy, sac_policy, env.action_space, test_buffer)"
   ]
  },
  {
   "cell_type": "code",
   "execution_count": 12,
   "metadata": {},
   "outputs": [
    {
     "data": {
      "text/plain": [
       "{'n/ep': 40,\n",
       " 'n/st': 39442,\n",
       " 'rews': array([2877.85420345, 3579.38976417, 3566.2887685 , 3612.26257751,\n",
       "        3648.73333248, 3655.45149677, 3559.89113674, 3552.6419363 ,\n",
       "        3588.0665408 , 3578.10143437, 3576.98877615, 3561.46943533,\n",
       "        3558.70658515, 3598.58161738, 3558.16991895, 3525.51417879,\n",
       "        3579.98865515, 3558.74737203, 3518.58784384, 3641.33416581,\n",
       "        3563.76800552, 3231.92112228, 3558.71492095, 3535.73037386,\n",
       "        3558.96929922, 3583.61728139, 3556.20513785, 3542.30987626,\n",
       "        3584.5683532 , 3573.77252436, 2903.35971768, 3574.50541953,\n",
       "        3551.28549583, 3540.74278544, 3513.75433021, 3546.94601085,\n",
       "        3569.82593565, 3520.37927402, 3546.47417846, 3562.03266267]),\n",
       " 'lens': array([ 798, 1000, 1000, 1000, 1000, 1000, 1000, 1000, 1000, 1000, 1000,\n",
       "        1000, 1000, 1000, 1000, 1000, 1000, 1000, 1000, 1000, 1000,  869,\n",
       "        1000, 1000, 1000, 1000, 1000, 1000, 1000, 1000,  775, 1000, 1000,\n",
       "        1000, 1000, 1000, 1000, 1000, 1000, 1000]),\n",
       " 'idxs': array([8, 0, 1, 2, 3, 4, 5, 6, 7, 9, 8, 0, 1, 2, 3, 4, 5, 6, 7, 9, 8, 0,\n",
       "        1, 2, 3, 4, 5, 6, 7, 9, 4, 8, 0, 1, 2, 3, 5, 6, 7, 9]),\n",
       " 'rew': 3525.391311123465,\n",
       " 'len': 986.05,\n",
       " 'rew_std': 157.82384420468222,\n",
       " 'len_std': 50.20107070571304}"
      ]
     },
     "execution_count": 12,
     "metadata": {},
     "output_type": "execute_result"
    }
   ],
   "source": [
    "mixed_collector = Collector(mixed_policy, envs)\n",
    "mixed_result = mixed_collector.collect(n_episode=40)\n",
    "mixed_result"
   ]
  },
  {
   "cell_type": "code",
   "execution_count": 59,
   "metadata": {},
   "outputs": [],
   "source": [
    "class DeterministicPolicy(BasePolicy):\n",
    "    def __init__(self, policy, action_space):\n",
    "        super().__init__(action_space=action_space, action_scaling=True)\n",
    "        self.policy = policy\n",
    "\n",
    "    def train(self, mode: bool = True) -> \"DeterministicPolicy\":\n",
    "        self.policy.train(mode)\n",
    "        return self\n",
    "    \n",
    "    def forward(self, batch, state=None, **kwargs):\n",
    "        self.policy.eval()\n",
    "        return self.policy(batch)\n",
    "    \n",
    "    def learn(self, batch, **kwargs):\n",
    "        info = self.policy.learn(batch)\n",
    "        return info\n",
    "    \n",
    "    def process_fn(self, batch: RolloutBatchProtocol, buffer: ReplayBuffer, indices: np.ndarray) -> RolloutBatchProtocol:\n",
    "        return self.policy.process_fn(batch, buffer, indices)"
   ]
  },
  {
   "cell_type": "code",
   "execution_count": 60,
   "metadata": {},
   "outputs": [],
   "source": [
    "det_cql = DeterministicPolicy(cql_policy, env.action_space)"
   ]
  },
  {
   "cell_type": "code",
   "execution_count": null,
   "metadata": {},
   "outputs": [],
   "source": [
    "det_cql_collector = Collector(cql_policy, envs)\n",
    "cql_result = cql_collector.collect(n_episode=40)\n",
    "cql_result"
   ]
  },
  {
   "cell_type": "code",
   "execution_count": 52,
   "metadata": {},
   "outputs": [],
   "source": [
    "test_envs = SubprocVectorEnv([lambda: gym.make(args.task) for _ in range(5)])"
   ]
  },
  {
   "cell_type": "code",
   "execution_count": 13,
   "metadata": {},
   "outputs": [
    {
     "name": "stderr",
     "output_type": "stream",
     "text": [
      "/data/user/R901105/.conda/envs/dev/lib/python3.11/site-packages/gym/envs/mujoco/mujoco_env.py:190: UserWarning: \u001b[33mWARN: This version of the mujoco environments depends on the mujoco-py bindings, which are no longer maintained and may stop working. Please upgrade to the v4 versions of the environments (which depend on the mujoco python bindings instead), unless you are trying to precisely replicate previous works).\u001b[0m\n",
      "  logger.warn(\n",
      "/data/user/R901105/.conda/envs/dev/lib/python3.11/site-packages/gym/spaces/box.py:127: UserWarning: \u001b[33mWARN: Box bound precision lowered by casting to float32\u001b[0m\n",
      "  logger.warn(f\"Box bound precision lowered by casting to {self.dtype}\")\n",
      "load datafile: 100%|██████████| 21/21 [00:01<00:00, 16.48it/s]\n"
     ]
    }
   ],
   "source": [
    "offline_data = load_buffer_d4rl(\"hopper-medium-v2\")"
   ]
  },
  {
   "cell_type": "code",
   "execution_count": 53,
   "metadata": {},
   "outputs": [],
   "source": [
    "policy = cql_policy"
   ]
  },
  {
   "cell_type": "code",
   "execution_count": 54,
   "metadata": {},
   "outputs": [
    {
     "name": "stderr",
     "output_type": "stream",
     "text": [
      "/data/user/R901105/dev/my_fork/tianshou/tianshou/data/collector.py:70: UserWarning: Single environment detected, wrap to DummyVectorEnv.\n",
      "  warnings.warn(\"Single environment detected, wrap to DummyVectorEnv.\")\n"
     ]
    }
   ],
   "source": [
    "test_buffer = VectorReplayBuffer(5000, 5)\n",
    "train_collector = Collector(policy, env, offline_data)\n",
    "test_collector = Collector(policy, test_envs, test_buffer)"
   ]
  },
  {
   "cell_type": "code",
   "execution_count": 55,
   "metadata": {},
   "outputs": [
    {
     "name": "stdout",
     "output_type": "stream",
     "text": [
      "/data/user/R901105/dev/log/Hopper-v2/SACPolicy/240410-124843\n"
     ]
    }
   ],
   "source": [
    "# log\n",
    "now = datetime.datetime.now().strftime(\"%y%m%d-%H%M%S\")\n",
    "log_name = os.path.join(args.task, policy.__class__.__name__, now)\n",
    "log_path = os.path.join(\"/data/user/R901105/dev/log\", log_name)\n",
    "writer = SummaryWriter(log_path)\n",
    "logger = TensorboardLogger(writer)\n",
    "print(log_path)"
   ]
  },
  {
   "cell_type": "code",
   "execution_count": 15,
   "metadata": {},
   "outputs": [],
   "source": [
    "def get_returns(policy, return_cede_ctrl=False):\n",
    "    policy.eval()\n",
    "    returns = []\n",
    "    cede_ctrl = []\n",
    "    for _ in range(5):\n",
    "        obs, info = env.reset()\n",
    "        done = False\n",
    "        cum_reward = 0\n",
    "        actions = []\n",
    "        if return_cede_ctrl:\n",
    "            cctrl_ep = []\n",
    "        while not done:\n",
    "            batch = Batch(obs=torch.from_numpy(np.expand_dims(obs, 0)).to(device), info=info)\n",
    "            with torch.no_grad():\n",
    "                result = policy(batch)\n",
    "            act = result.act.cpu().squeeze().numpy()\n",
    "            act = policy.map_action(act)\n",
    "            if return_cede_ctrl:\n",
    "                cctrl_ep.append(result.policy.cede_ctrl.cpu().squeeze().numpy())\n",
    "            obs, reward, terminated, truncated, info = env.step(act)\n",
    "            actions.append(act)\n",
    "            cum_reward += reward\n",
    "            done = terminated or truncated\n",
    "        returns.append(cum_reward)\n",
    "        if return_cede_ctrl:\n",
    "            cede_ctrl.append(np.array(cctrl_ep).mean())\n",
    "    if return_cede_ctrl:\n",
    "        return np.array(returns),  np.array(cede_ctrl).mean()\n",
    "    return np.array(returns), _"
   ]
  },
  {
   "cell_type": "code",
   "execution_count": 16,
   "metadata": {},
   "outputs": [],
   "source": [
    "def test_fn(num_epoch: int, step_idx: int):\n",
    "    returns, cede_ctrl = get_returns(policy, True)\n",
    "    print(returns.mean(), cede_ctrl.mean())"
   ]
  },
  {
   "cell_type": "code",
   "execution_count": 56,
   "metadata": {},
   "outputs": [
    {
     "name": "stderr",
     "output_type": "stream",
     "text": [
      "Epoch #1: 1001it [00:15, 65.10it/s, alpha=0.322, env_step=1000, gradient_step=1000, len=886, loss/actor=-265.550, loss/alpha=-1.427, loss/critic1=10.221, loss/critic2=10.537, n/ep=0, n/st=1, rew=2811.60]                          \n"
     ]
    },
    {
     "name": "stdout",
     "output_type": "stream",
     "text": [
      "Epoch #1: test_reward: 3260.866312 ± 0.000000, best_reward: 3260.866312 ± 0.000000 in #1\n"
     ]
    },
    {
     "name": "stderr",
     "output_type": "stream",
     "text": [
      "Epoch #2: 1001it [00:15, 65.87it/s, alpha=0.289, env_step=2000, gradient_step=2000, len=611, loss/actor=-262.574, loss/alpha=-1.800, loss/critic1=5.124, loss/critic2=5.014, n/ep=0, n/st=1, rew=2081.29]                           \n"
     ]
    },
    {
     "name": "stdout",
     "output_type": "stream",
     "text": [
      "Epoch #2: test_reward: 1326.888789 ± 0.000000, best_reward: 3260.866312 ± 0.000000 in #1\n"
     ]
    },
    {
     "name": "stderr",
     "output_type": "stream",
     "text": [
      "Epoch #3: 1001it [00:15, 65.20it/s, alpha=0.260, env_step=3000, gradient_step=3000, len=480, loss/actor=-260.373, loss/alpha=-2.026, loss/critic1=3.925, loss/critic2=3.763, n/ep=0, n/st=1, rew=1496.70]                            \n"
     ]
    },
    {
     "name": "stdout",
     "output_type": "stream",
     "text": [
      "Epoch #3: test_reward: 1898.176050 ± 0.000000, best_reward: 3260.866312 ± 0.000000 in #1\n"
     ]
    },
    {
     "name": "stderr",
     "output_type": "stream",
     "text": [
      "Epoch #4: 1001it [00:15, 65.43it/s, alpha=0.235, env_step=4000, gradient_step=4000, len=1000, loss/actor=-260.371, loss/alpha=-2.095, loss/critic1=3.593, loss/critic2=3.786, n/ep=0, n/st=1, rew=3148.02]                          \n"
     ]
    },
    {
     "name": "stdout",
     "output_type": "stream",
     "text": [
      "Epoch #4: test_reward: 3177.207976 ± 0.000000, best_reward: 3260.866312 ± 0.000000 in #1\n"
     ]
    },
    {
     "name": "stderr",
     "output_type": "stream",
     "text": [
      "Epoch #5: 1001it [00:15, 66.35it/s, alpha=0.213, env_step=5000, gradient_step=5000, len=1000, loss/actor=-260.375, loss/alpha=-2.271, loss/critic1=10.044, loss/critic2=9.954, n/ep=0, n/st=1, rew=3121.00]                          \n"
     ]
    },
    {
     "name": "stdout",
     "output_type": "stream",
     "text": [
      "Epoch #5: test_reward: 53.812679 ± 0.000000, best_reward: 3260.866312 ± 0.000000 in #1\n"
     ]
    },
    {
     "name": "stderr",
     "output_type": "stream",
     "text": [
      "Epoch #6: 1001it [00:15, 65.27it/s, alpha=0.193, env_step=6000, gradient_step=6000, len=40, loss/actor=-259.185, loss/alpha=-2.268, loss/critic1=3.691, loss/critic2=3.877, n/ep=0, n/st=1, rew=61.01]                               \n"
     ]
    },
    {
     "name": "stdout",
     "output_type": "stream",
     "text": [
      "Epoch #6: test_reward: 3190.796839 ± 0.000000, best_reward: 3260.866312 ± 0.000000 in #1\n"
     ]
    },
    {
     "name": "stderr",
     "output_type": "stream",
     "text": [
      "Epoch #7: 1001it [00:15, 65.12it/s, alpha=0.175, env_step=7000, gradient_step=7000, len=40, loss/actor=-259.779, loss/alpha=-2.382, loss/critic1=9.204, loss/critic2=9.187, n/ep=0, n/st=1, rew=60.68]                             \n"
     ]
    },
    {
     "name": "stdout",
     "output_type": "stream",
     "text": [
      "Epoch #7: test_reward: 2818.174612 ± 0.000000, best_reward: 3260.866312 ± 0.000000 in #1\n"
     ]
    },
    {
     "name": "stderr",
     "output_type": "stream",
     "text": [
      "Epoch #8: 1001it [00:15, 65.13it/s, alpha=0.159, env_step=8000, gradient_step=8000, len=15, loss/actor=-259.874, loss/alpha=-2.250, loss/critic1=6.532, loss/critic2=6.595, n/ep=0, n/st=1, rew=15.43]                              \n"
     ]
    },
    {
     "name": "stdout",
     "output_type": "stream",
     "text": [
      "Epoch #8: test_reward: 3205.285848 ± 0.000000, best_reward: 3260.866312 ± 0.000000 in #1\n"
     ]
    },
    {
     "name": "stderr",
     "output_type": "stream",
     "text": [
      "Epoch #9: 1001it [00:15, 63.57it/s, alpha=0.145, env_step=9000, gradient_step=9000, len=1000, loss/actor=-260.603, loss/alpha=-2.286, loss/critic1=8.661, loss/critic2=8.682, n/ep=0, n/st=1, rew=3099.25]                           \n"
     ]
    },
    {
     "name": "stdout",
     "output_type": "stream",
     "text": [
      "Epoch #9: test_reward: 93.568444 ± 0.000000, best_reward: 3260.866312 ± 0.000000 in #1\n"
     ]
    },
    {
     "name": "stderr",
     "output_type": "stream",
     "text": [
      "Epoch #10: 1001it [00:16, 62.49it/s, alpha=0.133, env_step=10000, gradient_step=10000, len=1000, loss/actor=-260.871, loss/alpha=-2.051, loss/critic1=10.982, loss/critic2=11.041, n/ep=0, n/st=1, rew=3106.07]                          \n"
     ]
    },
    {
     "name": "stdout",
     "output_type": "stream",
     "text": [
      "Epoch #10: test_reward: 3200.761240 ± 0.000000, best_reward: 3260.866312 ± 0.000000 in #1\n"
     ]
    },
    {
     "name": "stderr",
     "output_type": "stream",
     "text": [
      "Epoch #11: 1001it [00:15, 63.87it/s, alpha=0.120, env_step=11000, gradient_step=11000, len=545, loss/actor=-260.761, loss/alpha=-2.331, loss/critic1=8.719, loss/critic2=8.689, n/ep=0, n/st=1, rew=1809.51]                            \n"
     ]
    },
    {
     "name": "stdout",
     "output_type": "stream",
     "text": [
      "Epoch #11: test_reward: 3225.247934 ± 0.000000, best_reward: 3260.866312 ± 0.000000 in #1\n"
     ]
    },
    {
     "name": "stderr",
     "output_type": "stream",
     "text": [
      "Epoch #12: 1001it [00:15, 62.82it/s, alpha=0.109, env_step=12000, gradient_step=12000, len=1000, loss/actor=-260.911, loss/alpha=-2.420, loss/critic1=5.742, loss/critic2=5.691, n/ep=0, n/st=1, rew=3177.16]                           \n"
     ]
    },
    {
     "name": "stdout",
     "output_type": "stream",
     "text": [
      "Epoch #12: test_reward: 3307.211307 ± 0.000000, best_reward: 3307.211307 ± 0.000000 in #12\n"
     ]
    },
    {
     "name": "stderr",
     "output_type": "stream",
     "text": [
      "Epoch #13: 1001it [00:15, 63.60it/s, alpha=0.099, env_step=13000, gradient_step=13000, len=1000, loss/actor=-261.820, loss/alpha=-2.305, loss/critic1=1.885, loss/critic2=1.850, n/ep=0, n/st=1, rew=3242.19]                           \n"
     ]
    },
    {
     "name": "stdout",
     "output_type": "stream",
     "text": [
      "Epoch #13: test_reward: 3260.383498 ± 0.000000, best_reward: 3307.211307 ± 0.000000 in #12\n"
     ]
    },
    {
     "name": "stderr",
     "output_type": "stream",
     "text": [
      "Epoch #14: 1001it [00:15, 62.88it/s, alpha=0.091, env_step=14000, gradient_step=14000, len=48, loss/actor=-262.184, loss/alpha=-1.918, loss/critic1=10.660, loss/critic2=10.623, n/ep=0, n/st=1, rew=80.59]                             \n"
     ]
    },
    {
     "name": "stdout",
     "output_type": "stream",
     "text": [
      "Epoch #14: test_reward: 3329.365953 ± 0.000000, best_reward: 3329.365953 ± 0.000000 in #14\n"
     ]
    },
    {
     "name": "stderr",
     "output_type": "stream",
     "text": [
      "Epoch #15: 1001it [00:15, 66.00it/s, alpha=0.083, env_step=15000, gradient_step=15000, len=487, loss/actor=-263.310, loss/alpha=-2.172, loss/critic1=4.752, loss/critic2=4.590, n/ep=0, n/st=1, rew=1583.51]                           \n"
     ]
    },
    {
     "name": "stdout",
     "output_type": "stream",
     "text": [
      "Epoch #15: test_reward: 1176.842563 ± 0.000000, best_reward: 3329.365953 ± 0.000000 in #14\n"
     ]
    },
    {
     "name": "stderr",
     "output_type": "stream",
     "text": [
      "Epoch #16: 1001it [00:15, 65.61it/s, alpha=0.076, env_step=16000, gradient_step=16000, len=728, loss/actor=-263.784, loss/alpha=-2.006, loss/critic1=9.437, loss/critic2=9.470, n/ep=0, n/st=1, rew=2457.94]                           \n"
     ]
    },
    {
     "name": "stdout",
     "output_type": "stream",
     "text": [
      "Epoch #16: test_reward: 3183.859747 ± 0.000000, best_reward: 3329.365953 ± 0.000000 in #14\n"
     ]
    },
    {
     "name": "stderr",
     "output_type": "stream",
     "text": [
      "Epoch #17: 1001it [00:15, 63.97it/s, alpha=0.069, env_step=17000, gradient_step=17000, len=322, loss/actor=-264.162, loss/alpha=-2.270, loss/critic1=11.497, loss/critic2=11.672, n/ep=0, n/st=1, rew=1026.24]                          \n"
     ]
    },
    {
     "name": "stdout",
     "output_type": "stream",
     "text": [
      "Epoch #17: test_reward: 1424.680497 ± 0.000000, best_reward: 3329.365953 ± 0.000000 in #14\n"
     ]
    },
    {
     "name": "stderr",
     "output_type": "stream",
     "text": [
      "Epoch #18: 1001it [00:15, 65.54it/s, alpha=0.063, env_step=18000, gradient_step=18000, len=381, loss/actor=-264.941, loss/alpha=-1.701, loss/critic1=8.659, loss/critic2=8.703, n/ep=0, n/st=1, rew=1294.72]                           \n"
     ]
    },
    {
     "name": "stdout",
     "output_type": "stream",
     "text": [
      "Epoch #18: test_reward: 1171.396532 ± 0.000000, best_reward: 3329.365953 ± 0.000000 in #14\n"
     ]
    },
    {
     "name": "stderr",
     "output_type": "stream",
     "text": [
      "Epoch #19: 1001it [00:15, 63.09it/s, alpha=0.059, env_step=19000, gradient_step=19000, len=393, loss/actor=-265.134, loss/alpha=-1.658, loss/critic1=8.378, loss/critic2=8.404, n/ep=0, n/st=1, rew=1324.98]                           \n"
     ]
    },
    {
     "name": "stdout",
     "output_type": "stream",
     "text": [
      "Epoch #19: test_reward: 3300.828020 ± 0.000000, best_reward: 3329.365953 ± 0.000000 in #14\n"
     ]
    },
    {
     "name": "stderr",
     "output_type": "stream",
     "text": [
      "Epoch #20: 1001it [00:16, 59.31it/s, alpha=0.054, env_step=20000, gradient_step=20000, len=282, loss/actor=-265.586, loss/alpha=-1.247, loss/critic1=1.485, loss/critic2=1.415, n/ep=0, n/st=1, rew=904.67]                            \n"
     ]
    },
    {
     "name": "stdout",
     "output_type": "stream",
     "text": [
      "Epoch #20: test_reward: 3273.845159 ± 0.000000, best_reward: 3329.365953 ± 0.000000 in #14\n"
     ]
    },
    {
     "name": "stderr",
     "output_type": "stream",
     "text": [
      "Epoch #21: 1001it [00:16, 61.61it/s, alpha=0.050, env_step=21000, gradient_step=21000, len=893, loss/actor=-266.560, loss/alpha=-1.436, loss/critic1=5.132, loss/critic2=5.044, n/ep=0, n/st=1, rew=2993.57]                           \n"
     ]
    },
    {
     "name": "stdout",
     "output_type": "stream",
     "text": [
      "Epoch #21: test_reward: 3312.367075 ± 0.000000, best_reward: 3329.365953 ± 0.000000 in #14\n"
     ]
    },
    {
     "name": "stderr",
     "output_type": "stream",
     "text": [
      "Epoch #22: 1001it [00:15, 64.61it/s, alpha=0.047, env_step=22000, gradient_step=22000, len=1000, loss/actor=-267.117, loss/alpha=-0.441, loss/critic1=15.037, loss/critic2=15.056, n/ep=0, n/st=1, rew=3281.39]                          \n"
     ]
    },
    {
     "name": "stdout",
     "output_type": "stream",
     "text": [
      "Epoch #22: test_reward: 3217.425750 ± 0.000000, best_reward: 3329.365953 ± 0.000000 in #14\n"
     ]
    },
    {
     "name": "stderr",
     "output_type": "stream",
     "text": [
      "Epoch #23: 1001it [00:15, 64.85it/s, alpha=0.045, env_step=23000, gradient_step=23000, len=398, loss/actor=-268.530, loss/alpha=-0.625, loss/critic1=1.309, loss/critic2=1.254, n/ep=0, n/st=1, rew=1298.35]                           \n"
     ]
    },
    {
     "name": "stdout",
     "output_type": "stream",
     "text": [
      "Epoch #23: test_reward: 3200.088950 ± 0.000000, best_reward: 3329.365953 ± 0.000000 in #14\n"
     ]
    },
    {
     "name": "stderr",
     "output_type": "stream",
     "text": [
      "Epoch #24: 1001it [00:15, 64.13it/s, alpha=0.045, env_step=24000, gradient_step=24000, len=410, loss/actor=-269.780, loss/alpha=-0.206, loss/critic1=7.336, loss/critic2=7.449, n/ep=0, n/st=1, rew=1340.57]                           \n"
     ]
    },
    {
     "name": "stdout",
     "output_type": "stream",
     "text": [
      "Epoch #24: test_reward: 732.123650 ± 0.000000, best_reward: 3329.365953 ± 0.000000 in #14\n"
     ]
    },
    {
     "name": "stderr",
     "output_type": "stream",
     "text": [
      "Epoch #25: 1001it [00:15, 64.68it/s, alpha=0.042, env_step=25000, gradient_step=25000, len=487, loss/actor=-270.895, loss/alpha=-0.280, loss/critic1=1.390, loss/critic2=1.472, n/ep=0, n/st=1, rew=1639.17]                           \n"
     ]
    },
    {
     "name": "stdout",
     "output_type": "stream",
     "text": [
      "Epoch #25: test_reward: 2438.450644 ± 0.000000, best_reward: 3329.365953 ± 0.000000 in #14\n"
     ]
    },
    {
     "name": "stderr",
     "output_type": "stream",
     "text": [
      "Epoch #26: 1001it [00:15, 62.87it/s, alpha=0.040, env_step=26000, gradient_step=26000, len=473, loss/actor=-271.565, loss/alpha=0.088, loss/critic1=1.906, loss/critic2=2.006, n/ep=0, n/st=1, rew=1552.92]                            \n"
     ]
    },
    {
     "name": "stdout",
     "output_type": "stream",
     "text": [
      "Epoch #26: test_reward: 1262.026932 ± 0.000000, best_reward: 3329.365953 ± 0.000000 in #14\n"
     ]
    },
    {
     "name": "stderr",
     "output_type": "stream",
     "text": [
      "Epoch #27: 1001it [00:15, 64.69it/s, alpha=0.039, env_step=27000, gradient_step=27000, len=149, loss/actor=-271.593, loss/alpha=0.456, loss/critic1=7.759, loss/critic2=7.688, n/ep=0, n/st=1, rew=357.85]                             \n"
     ]
    },
    {
     "name": "stdout",
     "output_type": "stream",
     "text": [
      "Epoch #27: test_reward: 3273.691890 ± 0.000000, best_reward: 3329.365953 ± 0.000000 in #14\n"
     ]
    },
    {
     "name": "stderr",
     "output_type": "stream",
     "text": [
      "Epoch #28: 1001it [00:15, 63.13it/s, alpha=0.039, env_step=28000, gradient_step=28000, len=769, loss/actor=-273.016, loss/alpha=-0.258, loss/critic1=5.192, loss/critic2=5.241, n/ep=0, n/st=1, rew=2522.71]                           \n"
     ]
    },
    {
     "name": "stdout",
     "output_type": "stream",
     "text": [
      "Epoch #28: test_reward: 3240.383346 ± 0.000000, best_reward: 3329.365953 ± 0.000000 in #14\n"
     ]
    },
    {
     "name": "stderr",
     "output_type": "stream",
     "text": [
      "Epoch #29: 1001it [00:15, 65.11it/s, alpha=0.039, env_step=29000, gradient_step=29000, len=347, loss/actor=-274.026, loss/alpha=0.828, loss/critic1=5.917, loss/critic2=5.727, n/ep=0, n/st=1, rew=1094.30]                            \n"
     ]
    },
    {
     "name": "stdout",
     "output_type": "stream",
     "text": [
      "Epoch #29: test_reward: 1415.249577 ± 0.000000, best_reward: 3329.365953 ± 0.000000 in #14\n"
     ]
    },
    {
     "name": "stderr",
     "output_type": "stream",
     "text": [
      "Epoch #30: 1001it [00:15, 64.50it/s, alpha=0.039, env_step=30000, gradient_step=30000, len=682, loss/actor=-274.763, loss/alpha=-0.195, loss/critic1=3.668, loss/critic2=3.385, n/ep=0, n/st=1, rew=2226.31]                          \n"
     ]
    },
    {
     "name": "stdout",
     "output_type": "stream",
     "text": [
      "Epoch #30: test_reward: 3144.218099 ± 0.000000, best_reward: 3329.365953 ± 0.000000 in #14\n"
     ]
    },
    {
     "name": "stderr",
     "output_type": "stream",
     "text": [
      "Epoch #31: 1001it [00:15, 65.39it/s, alpha=0.039, env_step=31000, gradient_step=31000, len=415, loss/actor=-276.024, loss/alpha=-0.080, loss/critic1=12.008, loss/critic2=12.094, n/ep=0, n/st=1, rew=1257.26]                          \n"
     ]
    },
    {
     "name": "stdout",
     "output_type": "stream",
     "text": [
      "Epoch #31: test_reward: 845.686400 ± 0.000000, best_reward: 3329.365953 ± 0.000000 in #14\n"
     ]
    },
    {
     "name": "stderr",
     "output_type": "stream",
     "text": [
      "Epoch #32: 1001it [00:15, 64.41it/s, alpha=0.037, env_step=32000, gradient_step=32000, len=256, loss/actor=-275.299, loss/alpha=-0.339, loss/critic1=8.891, loss/critic2=9.168, n/ep=0, n/st=1, rew=739.51]                            \n"
     ]
    },
    {
     "name": "stdout",
     "output_type": "stream",
     "text": [
      "Epoch #32: test_reward: 1338.828161 ± 0.000000, best_reward: 3329.365953 ± 0.000000 in #14\n"
     ]
    },
    {
     "name": "stderr",
     "output_type": "stream",
     "text": [
      "Epoch #33: 1001it [00:15, 65.09it/s, alpha=0.037, env_step=33000, gradient_step=33000, len=234, loss/actor=-276.460, loss/alpha=-0.438, loss/critic1=2.755, loss/critic2=2.798, n/ep=0, n/st=1, rew=658.83]                            \n"
     ]
    },
    {
     "name": "stdout",
     "output_type": "stream",
     "text": [
      "Epoch #33: test_reward: 487.291959 ± 0.000000, best_reward: 3329.365953 ± 0.000000 in #14\n"
     ]
    },
    {
     "name": "stderr",
     "output_type": "stream",
     "text": [
      "Epoch #34: 1001it [00:15, 64.59it/s, alpha=0.036, env_step=34000, gradient_step=34000, len=315, loss/actor=-276.764, loss/alpha=-0.594, loss/critic1=1.260, loss/critic2=1.232, n/ep=0, n/st=1, rew=1030.06]                           \n"
     ]
    },
    {
     "name": "stdout",
     "output_type": "stream",
     "text": [
      "Epoch #34: test_reward: 1292.134359 ± 0.000000, best_reward: 3329.365953 ± 0.000000 in #14\n"
     ]
    },
    {
     "name": "stderr",
     "output_type": "stream",
     "text": [
      "Epoch #35: 1001it [00:15, 64.69it/s, alpha=0.035, env_step=35000, gradient_step=35000, len=177, loss/actor=-277.023, loss/alpha=-0.319, loss/critic1=1.433, loss/critic2=1.318, n/ep=0, n/st=1, rew=447.28]                            \n"
     ]
    },
    {
     "name": "stdout",
     "output_type": "stream",
     "text": [
      "Epoch #35: test_reward: 1299.054152 ± 0.000000, best_reward: 3329.365953 ± 0.000000 in #14\n"
     ]
    },
    {
     "name": "stderr",
     "output_type": "stream",
     "text": [
      "Epoch #36: 1001it [00:15, 64.16it/s, alpha=0.034, env_step=36000, gradient_step=36000, len=408, loss/actor=-278.689, loss/alpha=0.449, loss/critic1=10.685, loss/critic2=10.821, n/ep=0, n/st=1, rew=1387.07]                          \n"
     ]
    },
    {
     "name": "stdout",
     "output_type": "stream",
     "text": [
      "Epoch #36: test_reward: 1043.972100 ± 0.000000, best_reward: 3329.365953 ± 0.000000 in #14\n"
     ]
    },
    {
     "name": "stderr",
     "output_type": "stream",
     "text": [
      "Epoch #37: 1001it [00:15, 65.97it/s, alpha=0.033, env_step=37000, gradient_step=37000, len=555, loss/actor=-277.856, loss/alpha=-0.600, loss/critic1=4.822, loss/critic2=4.600, n/ep=0, n/st=1, rew=1813.91]                           \n"
     ]
    },
    {
     "name": "stdout",
     "output_type": "stream",
     "text": [
      "Epoch #37: test_reward: 2093.490821 ± 0.000000, best_reward: 3329.365953 ± 0.000000 in #14\n"
     ]
    },
    {
     "name": "stderr",
     "output_type": "stream",
     "text": [
      "Epoch #38: 1001it [00:15, 65.59it/s, alpha=0.032, env_step=38000, gradient_step=38000, len=645, loss/actor=-279.103, loss/alpha=-0.622, loss/critic1=4.356, loss/critic2=4.405, n/ep=0, n/st=1, rew=2143.51]                           \n"
     ]
    },
    {
     "name": "stdout",
     "output_type": "stream",
     "text": [
      "Epoch #38: test_reward: 442.078345 ± 0.000000, best_reward: 3329.365953 ± 0.000000 in #14\n"
     ]
    },
    {
     "name": "stderr",
     "output_type": "stream",
     "text": [
      "Epoch #39: 1001it [00:15, 65.19it/s, alpha=0.032, env_step=39000, gradient_step=39000, len=1000, loss/actor=-280.294, loss/alpha=-0.123, loss/critic1=1.419, loss/critic2=1.382, n/ep=0, n/st=1, rew=3147.79]                          \n"
     ]
    },
    {
     "name": "stdout",
     "output_type": "stream",
     "text": [
      "Epoch #39: test_reward: 274.839154 ± 0.000000, best_reward: 3329.365953 ± 0.000000 in #14\n"
     ]
    },
    {
     "name": "stderr",
     "output_type": "stream",
     "text": [
      "Epoch #40: 1001it [00:15, 64.60it/s, alpha=0.033, env_step=40000, gradient_step=40000, len=71, loss/actor=-280.795, loss/alpha=0.029, loss/critic1=5.008, loss/critic2=5.015, n/ep=0, n/st=1, rew=126.99]                             \n"
     ]
    },
    {
     "name": "stdout",
     "output_type": "stream",
     "text": [
      "Epoch #40: test_reward: 3261.442432 ± 0.000000, best_reward: 3329.365953 ± 0.000000 in #14\n"
     ]
    },
    {
     "name": "stderr",
     "output_type": "stream",
     "text": [
      "Epoch #41: 1001it [00:15, 64.88it/s, alpha=0.033, env_step=41000, gradient_step=41000, len=454, loss/actor=-281.532, loss/alpha=-0.205, loss/critic1=1.790, loss/critic2=1.591, n/ep=0, n/st=1, rew=1495.74]                           \n"
     ]
    },
    {
     "name": "stdout",
     "output_type": "stream",
     "text": [
      "Epoch #41: test_reward: 440.107579 ± 0.000000, best_reward: 3329.365953 ± 0.000000 in #14\n"
     ]
    },
    {
     "name": "stderr",
     "output_type": "stream",
     "text": [
      "Epoch #42: 1001it [00:15, 64.60it/s, alpha=0.034, env_step=42000, gradient_step=42000, len=630, loss/actor=-281.022, loss/alpha=-0.223, loss/critic1=6.039, loss/critic2=5.964, n/ep=0, n/st=1, rew=2058.42]                           \n"
     ]
    },
    {
     "name": "stdout",
     "output_type": "stream",
     "text": [
      "Epoch #42: test_reward: 1227.332181 ± 0.000000, best_reward: 3329.365953 ± 0.000000 in #14\n"
     ]
    },
    {
     "name": "stderr",
     "output_type": "stream",
     "text": [
      "Epoch #43: 1001it [00:15, 64.54it/s, alpha=0.035, env_step=43000, gradient_step=43000, len=110, loss/actor=-282.164, loss/alpha=-0.225, loss/critic1=9.286, loss/critic2=9.223, n/ep=0, n/st=1, rew=240.18]                           \n"
     ]
    },
    {
     "name": "stdout",
     "output_type": "stream",
     "text": [
      "Epoch #43: test_reward: 309.013252 ± 0.000000, best_reward: 3329.365953 ± 0.000000 in #14\n"
     ]
    },
    {
     "name": "stderr",
     "output_type": "stream",
     "text": [
      "Epoch #44: 1001it [00:15, 64.44it/s, alpha=0.034, env_step=44000, gradient_step=44000, len=1000, loss/actor=-283.109, loss/alpha=0.165, loss/critic1=4.522, loss/critic2=4.326, n/ep=0, n/st=1, rew=3251.19]                          \n"
     ]
    },
    {
     "name": "stdout",
     "output_type": "stream",
     "text": [
      "Epoch #44: test_reward: 273.888413 ± 0.000000, best_reward: 3329.365953 ± 0.000000 in #14\n"
     ]
    },
    {
     "name": "stderr",
     "output_type": "stream",
     "text": [
      "Epoch #45: 1001it [00:15, 64.44it/s, alpha=0.034, env_step=45000, gradient_step=45000, len=125, loss/actor=-282.670, loss/alpha=-0.701, loss/critic1=5.531, loss/critic2=5.238, n/ep=0, n/st=1, rew=258.46]                             \n"
     ]
    },
    {
     "name": "stdout",
     "output_type": "stream",
     "text": [
      "Epoch #45: test_reward: 1453.622562 ± 0.000000, best_reward: 3329.365953 ± 0.000000 in #14\n"
     ]
    },
    {
     "name": "stderr",
     "output_type": "stream",
     "text": [
      "Epoch #46: 1001it [00:15, 64.99it/s, alpha=0.033, env_step=46000, gradient_step=46000, len=133, loss/actor=-283.188, loss/alpha=-0.569, loss/critic1=12.549, loss/critic2=12.494, n/ep=0, n/st=1, rew=289.48]                          \n"
     ]
    },
    {
     "name": "stdout",
     "output_type": "stream",
     "text": [
      "Epoch #46: test_reward: 404.302935 ± 0.000000, best_reward: 3329.365953 ± 0.000000 in #14\n"
     ]
    },
    {
     "name": "stderr",
     "output_type": "stream",
     "text": [
      "Epoch #47: 1001it [00:15, 64.57it/s, alpha=0.033, env_step=47000, gradient_step=47000, len=126, loss/actor=-284.347, loss/alpha=-0.333, loss/critic1=5.361, loss/critic2=5.421, n/ep=0, n/st=1, rew=272.86]                            \n"
     ]
    },
    {
     "name": "stdout",
     "output_type": "stream",
     "text": [
      "Epoch #47: test_reward: 1156.083544 ± 0.000000, best_reward: 3329.365953 ± 0.000000 in #14\n"
     ]
    },
    {
     "name": "stderr",
     "output_type": "stream",
     "text": [
      "Epoch #48: 1001it [00:15, 64.77it/s, alpha=0.033, env_step=48000, gradient_step=48000, len=170, loss/actor=-283.064, loss/alpha=0.107, loss/critic1=12.433, loss/critic2=12.526, n/ep=0, n/st=1, rew=419.88]                           \n"
     ]
    },
    {
     "name": "stdout",
     "output_type": "stream",
     "text": [
      "Epoch #48: test_reward: 424.777489 ± 0.000000, best_reward: 3329.365953 ± 0.000000 in #14\n"
     ]
    },
    {
     "name": "stderr",
     "output_type": "stream",
     "text": [
      "Epoch #49:  16%|#6        | 160/1000 [00:02<00:12, 64.64it/s, alpha=0.033, env_step=48160, gradient_step=48160, len=170, loss/actor=-284.213, loss/alpha=0.576, loss/critic1=21.312, loss/critic2=21.094, n/ep=0, n/st=1, rew=419.88]\n"
     ]
    },
    {
     "ename": "KeyboardInterrupt",
     "evalue": "",
     "output_type": "error",
     "traceback": [
      "\u001b[0;31m---------------------------------------------------------------------------\u001b[0m",
      "\u001b[0;31mKeyboardInterrupt\u001b[0m                         Traceback (most recent call last)",
      "Cell \u001b[0;32mIn[56], line 14\u001b[0m\n\u001b[1;32m      1\u001b[0m result \u001b[38;5;241m=\u001b[39m \u001b[43mOffpolicyTrainer\u001b[49m\u001b[43m(\u001b[49m\n\u001b[1;32m      2\u001b[0m \u001b[43m    \u001b[49m\u001b[43mpolicy\u001b[49m\u001b[38;5;241;43m=\u001b[39;49m\u001b[43mpolicy\u001b[49m\u001b[43m,\u001b[49m\n\u001b[1;32m      3\u001b[0m \u001b[43m    \u001b[49m\u001b[43mtrain_collector\u001b[49m\u001b[38;5;241;43m=\u001b[39;49m\u001b[43mtrain_collector\u001b[49m\u001b[43m,\u001b[49m\n\u001b[1;32m      4\u001b[0m \u001b[43m    \u001b[49m\u001b[43mtest_collector\u001b[49m\u001b[38;5;241;43m=\u001b[39;49m\u001b[43mtest_collector\u001b[49m\u001b[43m,\u001b[49m\n\u001b[1;32m      5\u001b[0m \u001b[43m    \u001b[49m\u001b[38;5;66;43;03m# test_fn=test_fn,\u001b[39;49;00m\n\u001b[1;32m      6\u001b[0m \u001b[43m    \u001b[49m\u001b[43mmax_epoch\u001b[49m\u001b[38;5;241;43m=\u001b[39;49m\u001b[38;5;241;43m200\u001b[39;49m\u001b[43m,\u001b[49m\n\u001b[1;32m      7\u001b[0m \u001b[43m    \u001b[49m\u001b[43mstep_per_epoch\u001b[49m\u001b[38;5;241;43m=\u001b[39;49m\u001b[38;5;241;43m1000\u001b[39;49m\u001b[43m,\u001b[49m\n\u001b[1;32m      8\u001b[0m \u001b[43m    \u001b[49m\u001b[43mstep_per_collect\u001b[49m\u001b[38;5;241;43m=\u001b[39;49m\u001b[38;5;241;43m1\u001b[39;49m\u001b[43m,\u001b[49m\n\u001b[1;32m      9\u001b[0m \u001b[43m    \u001b[49m\u001b[43mepisode_per_test\u001b[49m\u001b[38;5;241;43m=\u001b[39;49m\u001b[38;5;241;43m1\u001b[39;49m\u001b[43m,\u001b[49m\n\u001b[1;32m     10\u001b[0m \u001b[43m    \u001b[49m\u001b[43mbatch_size\u001b[49m\u001b[38;5;241;43m=\u001b[39;49m\u001b[38;5;241;43m256\u001b[39;49m\u001b[43m,\u001b[49m\n\u001b[1;32m     11\u001b[0m \u001b[43m    \u001b[49m\u001b[43mlogger\u001b[49m\u001b[38;5;241;43m=\u001b[39;49m\u001b[43mlogger\u001b[49m\u001b[43m,\u001b[49m\n\u001b[1;32m     12\u001b[0m \u001b[43m    \u001b[49m\u001b[43mupdate_per_step\u001b[49m\u001b[38;5;241;43m=\u001b[39;49m\u001b[38;5;241;43m1\u001b[39;49m\u001b[43m,\u001b[49m\n\u001b[1;32m     13\u001b[0m \u001b[43m    \u001b[49m\u001b[43mtest_in_train\u001b[49m\u001b[38;5;241;43m=\u001b[39;49m\u001b[38;5;28;43;01mFalse\u001b[39;49;00m\u001b[43m,\u001b[49m\n\u001b[0;32m---> 14\u001b[0m \u001b[43m)\u001b[49m\u001b[38;5;241;43m.\u001b[39;49m\u001b[43mrun\u001b[49m\u001b[43m(\u001b[49m\u001b[43m)\u001b[49m\n",
      "File \u001b[0;32m/data/user/R901105/dev/my_fork/tianshou/tianshou/trainer/base.py:444\u001b[0m, in \u001b[0;36mBaseTrainer.run\u001b[0;34m(self)\u001b[0m\n\u001b[1;32m    442\u001b[0m \u001b[38;5;28;01mtry\u001b[39;00m:\n\u001b[1;32m    443\u001b[0m     \u001b[38;5;28mself\u001b[39m\u001b[38;5;241m.\u001b[39mis_run \u001b[38;5;241m=\u001b[39m \u001b[38;5;28;01mTrue\u001b[39;00m\n\u001b[0;32m--> 444\u001b[0m     \u001b[43mdeque\u001b[49m\u001b[43m(\u001b[49m\u001b[38;5;28;43mself\u001b[39;49m\u001b[43m,\u001b[49m\u001b[43m \u001b[49m\u001b[43mmaxlen\u001b[49m\u001b[38;5;241;43m=\u001b[39;49m\u001b[38;5;241;43m0\u001b[39;49m\u001b[43m)\u001b[49m  \u001b[38;5;66;03m# feed the entire iterator into a zero-length deque\u001b[39;00m\n\u001b[1;32m    445\u001b[0m     info \u001b[38;5;241m=\u001b[39m gather_info(\n\u001b[1;32m    446\u001b[0m         \u001b[38;5;28mself\u001b[39m\u001b[38;5;241m.\u001b[39mstart_time, \u001b[38;5;28mself\u001b[39m\u001b[38;5;241m.\u001b[39mtrain_collector, \u001b[38;5;28mself\u001b[39m\u001b[38;5;241m.\u001b[39mtest_collector,\n\u001b[1;32m    447\u001b[0m         \u001b[38;5;28mself\u001b[39m\u001b[38;5;241m.\u001b[39mbest_reward, \u001b[38;5;28mself\u001b[39m\u001b[38;5;241m.\u001b[39mbest_reward_std\n\u001b[1;32m    448\u001b[0m     )\n\u001b[1;32m    449\u001b[0m \u001b[38;5;28;01mfinally\u001b[39;00m:\n",
      "File \u001b[0;32m/data/user/R901105/dev/my_fork/tianshou/tianshou/trainer/base.py:303\u001b[0m, in \u001b[0;36mBaseTrainer.__next__\u001b[0;34m(self)\u001b[0m\n\u001b[1;32m    300\u001b[0m         t\u001b[38;5;241m.\u001b[39mupdate()\n\u001b[1;32m    302\u001b[0m     \u001b[38;5;28mself\u001b[39m\u001b[38;5;241m.\u001b[39mpolicy_update_fn(data, result)\n\u001b[0;32m--> 303\u001b[0m     \u001b[43mt\u001b[49m\u001b[38;5;241;43m.\u001b[39;49m\u001b[43mset_postfix\u001b[49m\u001b[43m(\u001b[49m\u001b[38;5;241;43m*\u001b[39;49m\u001b[38;5;241;43m*\u001b[39;49m\u001b[43mdata\u001b[49m\u001b[43m)\u001b[49m\n\u001b[1;32m    305\u001b[0m \u001b[38;5;28;01mif\u001b[39;00m t\u001b[38;5;241m.\u001b[39mn \u001b[38;5;241m<\u001b[39m\u001b[38;5;241m=\u001b[39m t\u001b[38;5;241m.\u001b[39mtotal \u001b[38;5;129;01mand\u001b[39;00m \u001b[38;5;129;01mnot\u001b[39;00m \u001b[38;5;28mself\u001b[39m\u001b[38;5;241m.\u001b[39mstop_fn_flag:\n\u001b[1;32m    306\u001b[0m     t\u001b[38;5;241m.\u001b[39mupdate()\n",
      "File \u001b[0;32m/data/user/R901105/.conda/envs/dev/lib/python3.11/site-packages/tqdm/std.py:1432\u001b[0m, in \u001b[0;36mtqdm.set_postfix\u001b[0;34m(self, ordered_dict, refresh, **kwargs)\u001b[0m\n\u001b[1;32m   1429\u001b[0m \u001b[38;5;28mself\u001b[39m\u001b[38;5;241m.\u001b[39mpostfix \u001b[38;5;241m=\u001b[39m \u001b[38;5;124m'\u001b[39m\u001b[38;5;124m, \u001b[39m\u001b[38;5;124m'\u001b[39m\u001b[38;5;241m.\u001b[39mjoin(key \u001b[38;5;241m+\u001b[39m \u001b[38;5;124m'\u001b[39m\u001b[38;5;124m=\u001b[39m\u001b[38;5;124m'\u001b[39m \u001b[38;5;241m+\u001b[39m postfix[key]\u001b[38;5;241m.\u001b[39mstrip()\n\u001b[1;32m   1430\u001b[0m                          \u001b[38;5;28;01mfor\u001b[39;00m key \u001b[38;5;129;01min\u001b[39;00m postfix\u001b[38;5;241m.\u001b[39mkeys())\n\u001b[1;32m   1431\u001b[0m \u001b[38;5;28;01mif\u001b[39;00m refresh:\n\u001b[0;32m-> 1432\u001b[0m     \u001b[38;5;28;43mself\u001b[39;49m\u001b[38;5;241;43m.\u001b[39;49m\u001b[43mrefresh\u001b[49m\u001b[43m(\u001b[49m\u001b[43m)\u001b[49m\n",
      "File \u001b[0;32m/data/user/R901105/.conda/envs/dev/lib/python3.11/site-packages/tqdm/std.py:1348\u001b[0m, in \u001b[0;36mtqdm.refresh\u001b[0;34m(self, nolock, lock_args)\u001b[0m\n\u001b[1;32m   1346\u001b[0m     \u001b[38;5;28;01melse\u001b[39;00m:\n\u001b[1;32m   1347\u001b[0m         \u001b[38;5;28mself\u001b[39m\u001b[38;5;241m.\u001b[39m_lock\u001b[38;5;241m.\u001b[39macquire()\n\u001b[0;32m-> 1348\u001b[0m \u001b[38;5;28;43mself\u001b[39;49m\u001b[38;5;241;43m.\u001b[39;49m\u001b[43mdisplay\u001b[49m\u001b[43m(\u001b[49m\u001b[43m)\u001b[49m\n\u001b[1;32m   1349\u001b[0m \u001b[38;5;28;01mif\u001b[39;00m \u001b[38;5;129;01mnot\u001b[39;00m nolock:\n\u001b[1;32m   1350\u001b[0m     \u001b[38;5;28mself\u001b[39m\u001b[38;5;241m.\u001b[39m_lock\u001b[38;5;241m.\u001b[39mrelease()\n",
      "File \u001b[0;32m/data/user/R901105/.conda/envs/dev/lib/python3.11/site-packages/tqdm/std.py:1496\u001b[0m, in \u001b[0;36mtqdm.display\u001b[0;34m(self, msg, pos)\u001b[0m\n\u001b[1;32m   1494\u001b[0m \u001b[38;5;28;01mif\u001b[39;00m pos:\n\u001b[1;32m   1495\u001b[0m     \u001b[38;5;28mself\u001b[39m\u001b[38;5;241m.\u001b[39mmoveto(pos)\n\u001b[0;32m-> 1496\u001b[0m \u001b[38;5;28;43mself\u001b[39;49m\u001b[38;5;241;43m.\u001b[39;49m\u001b[43msp\u001b[49m\u001b[43m(\u001b[49m\u001b[38;5;28;43mself\u001b[39;49m\u001b[38;5;241;43m.\u001b[39;49m\u001b[38;5;21;43m__str__\u001b[39;49m\u001b[43m(\u001b[49m\u001b[43m)\u001b[49m\u001b[43m \u001b[49m\u001b[38;5;28;43;01mif\u001b[39;49;00m\u001b[43m \u001b[49m\u001b[43mmsg\u001b[49m\u001b[43m \u001b[49m\u001b[38;5;129;43;01mis\u001b[39;49;00m\u001b[43m \u001b[49m\u001b[38;5;28;43;01mNone\u001b[39;49;00m\u001b[43m \u001b[49m\u001b[38;5;28;43;01melse\u001b[39;49;00m\u001b[43m \u001b[49m\u001b[43mmsg\u001b[49m\u001b[43m)\u001b[49m\n\u001b[1;32m   1497\u001b[0m \u001b[38;5;28;01mif\u001b[39;00m pos:\n\u001b[1;32m   1498\u001b[0m     \u001b[38;5;28mself\u001b[39m\u001b[38;5;241m.\u001b[39mmoveto(\u001b[38;5;241m-\u001b[39mpos)\n",
      "File \u001b[0;32m/data/user/R901105/.conda/envs/dev/lib/python3.11/site-packages/tqdm/std.py:462\u001b[0m, in \u001b[0;36mtqdm.status_printer.<locals>.print_status\u001b[0;34m(s)\u001b[0m\n\u001b[1;32m    460\u001b[0m \u001b[38;5;28;01mdef\u001b[39;00m \u001b[38;5;21mprint_status\u001b[39m(s):\n\u001b[1;32m    461\u001b[0m     len_s \u001b[38;5;241m=\u001b[39m disp_len(s)\n\u001b[0;32m--> 462\u001b[0m     \u001b[43mfp_write\u001b[49m\u001b[43m(\u001b[49m\u001b[38;5;124;43m'\u001b[39;49m\u001b[38;5;130;43;01m\\r\u001b[39;49;00m\u001b[38;5;124;43m'\u001b[39;49m\u001b[43m \u001b[49m\u001b[38;5;241;43m+\u001b[39;49m\u001b[43m \u001b[49m\u001b[43ms\u001b[49m\u001b[43m \u001b[49m\u001b[38;5;241;43m+\u001b[39;49m\u001b[43m \u001b[49m\u001b[43m(\u001b[49m\u001b[38;5;124;43m'\u001b[39;49m\u001b[38;5;124;43m \u001b[39;49m\u001b[38;5;124;43m'\u001b[39;49m\u001b[43m \u001b[49m\u001b[38;5;241;43m*\u001b[39;49m\u001b[43m \u001b[49m\u001b[38;5;28;43mmax\u001b[39;49m\u001b[43m(\u001b[49m\u001b[43mlast_len\u001b[49m\u001b[43m[\u001b[49m\u001b[38;5;241;43m0\u001b[39;49m\u001b[43m]\u001b[49m\u001b[43m \u001b[49m\u001b[38;5;241;43m-\u001b[39;49m\u001b[43m \u001b[49m\u001b[43mlen_s\u001b[49m\u001b[43m,\u001b[49m\u001b[43m \u001b[49m\u001b[38;5;241;43m0\u001b[39;49m\u001b[43m)\u001b[49m\u001b[43m)\u001b[49m\u001b[43m)\u001b[49m\n\u001b[1;32m    463\u001b[0m     last_len[\u001b[38;5;241m0\u001b[39m] \u001b[38;5;241m=\u001b[39m len_s\n",
      "File \u001b[0;32m/data/user/R901105/.conda/envs/dev/lib/python3.11/site-packages/tqdm/std.py:456\u001b[0m, in \u001b[0;36mtqdm.status_printer.<locals>.fp_write\u001b[0;34m(s)\u001b[0m\n\u001b[1;32m    454\u001b[0m \u001b[38;5;28;01mdef\u001b[39;00m \u001b[38;5;21mfp_write\u001b[39m(s):\n\u001b[1;32m    455\u001b[0m     fp\u001b[38;5;241m.\u001b[39mwrite(\u001b[38;5;28mstr\u001b[39m(s))\n\u001b[0;32m--> 456\u001b[0m     \u001b[43mfp_flush\u001b[49m\u001b[43m(\u001b[49m\u001b[43m)\u001b[49m\n",
      "File \u001b[0;32m/data/user/R901105/.conda/envs/dev/lib/python3.11/site-packages/tqdm/utils.py:195\u001b[0m, in \u001b[0;36mDisableOnWriteError.disable_on_exception.<locals>.inner\u001b[0;34m(*args, **kwargs)\u001b[0m\n\u001b[1;32m    193\u001b[0m \u001b[38;5;28;01mdef\u001b[39;00m \u001b[38;5;21minner\u001b[39m(\u001b[38;5;241m*\u001b[39margs, \u001b[38;5;241m*\u001b[39m\u001b[38;5;241m*\u001b[39mkwargs):\n\u001b[1;32m    194\u001b[0m     \u001b[38;5;28;01mtry\u001b[39;00m:\n\u001b[0;32m--> 195\u001b[0m         \u001b[38;5;28;01mreturn\u001b[39;00m \u001b[43mfunc\u001b[49m\u001b[43m(\u001b[49m\u001b[38;5;241;43m*\u001b[39;49m\u001b[43margs\u001b[49m\u001b[43m,\u001b[49m\u001b[43m \u001b[49m\u001b[38;5;241;43m*\u001b[39;49m\u001b[38;5;241;43m*\u001b[39;49m\u001b[43mkwargs\u001b[49m\u001b[43m)\u001b[49m\n\u001b[1;32m    196\u001b[0m     \u001b[38;5;28;01mexcept\u001b[39;00m \u001b[38;5;167;01mOSError\u001b[39;00m \u001b[38;5;28;01mas\u001b[39;00m e:\n\u001b[1;32m    197\u001b[0m         \u001b[38;5;28;01mif\u001b[39;00m e\u001b[38;5;241m.\u001b[39merrno \u001b[38;5;241m!=\u001b[39m \u001b[38;5;241m5\u001b[39m:\n",
      "File \u001b[0;32m/data/user/R901105/.conda/envs/dev/lib/python3.11/site-packages/ipykernel/iostream.py:578\u001b[0m, in \u001b[0;36mOutStream.flush\u001b[0;34m(self)\u001b[0m\n\u001b[1;32m    576\u001b[0m     \u001b[38;5;28mself\u001b[39m\u001b[38;5;241m.\u001b[39mpub_thread\u001b[38;5;241m.\u001b[39mschedule(evt\u001b[38;5;241m.\u001b[39mset)\n\u001b[1;32m    577\u001b[0m     \u001b[38;5;66;03m# and give a timeout to avoid\u001b[39;00m\n\u001b[0;32m--> 578\u001b[0m     \u001b[38;5;28;01mif\u001b[39;00m \u001b[38;5;129;01mnot\u001b[39;00m \u001b[43mevt\u001b[49m\u001b[38;5;241;43m.\u001b[39;49m\u001b[43mwait\u001b[49m\u001b[43m(\u001b[49m\u001b[38;5;28;43mself\u001b[39;49m\u001b[38;5;241;43m.\u001b[39;49m\u001b[43mflush_timeout\u001b[49m\u001b[43m)\u001b[49m:\n\u001b[1;32m    579\u001b[0m         \u001b[38;5;66;03m# write directly to __stderr__ instead of warning because\u001b[39;00m\n\u001b[1;32m    580\u001b[0m         \u001b[38;5;66;03m# if this is happening sys.stderr may be the problem.\u001b[39;00m\n\u001b[1;32m    581\u001b[0m         \u001b[38;5;28mprint\u001b[39m(\u001b[38;5;124m\"\u001b[39m\u001b[38;5;124mIOStream.flush timed out\u001b[39m\u001b[38;5;124m\"\u001b[39m, file\u001b[38;5;241m=\u001b[39msys\u001b[38;5;241m.\u001b[39m__stderr__)\n\u001b[1;32m    582\u001b[0m \u001b[38;5;28;01melse\u001b[39;00m:\n",
      "File \u001b[0;32m/data/user/R901105/.conda/envs/dev/lib/python3.11/threading.py:622\u001b[0m, in \u001b[0;36mEvent.wait\u001b[0;34m(self, timeout)\u001b[0m\n\u001b[1;32m    620\u001b[0m signaled \u001b[38;5;241m=\u001b[39m \u001b[38;5;28mself\u001b[39m\u001b[38;5;241m.\u001b[39m_flag\n\u001b[1;32m    621\u001b[0m \u001b[38;5;28;01mif\u001b[39;00m \u001b[38;5;129;01mnot\u001b[39;00m signaled:\n\u001b[0;32m--> 622\u001b[0m     signaled \u001b[38;5;241m=\u001b[39m \u001b[38;5;28;43mself\u001b[39;49m\u001b[38;5;241;43m.\u001b[39;49m\u001b[43m_cond\u001b[49m\u001b[38;5;241;43m.\u001b[39;49m\u001b[43mwait\u001b[49m\u001b[43m(\u001b[49m\u001b[43mtimeout\u001b[49m\u001b[43m)\u001b[49m\n\u001b[1;32m    623\u001b[0m \u001b[38;5;28;01mreturn\u001b[39;00m signaled\n",
      "File \u001b[0;32m/data/user/R901105/.conda/envs/dev/lib/python3.11/threading.py:324\u001b[0m, in \u001b[0;36mCondition.wait\u001b[0;34m(self, timeout)\u001b[0m\n\u001b[1;32m    322\u001b[0m \u001b[38;5;28;01melse\u001b[39;00m:\n\u001b[1;32m    323\u001b[0m     \u001b[38;5;28;01mif\u001b[39;00m timeout \u001b[38;5;241m>\u001b[39m \u001b[38;5;241m0\u001b[39m:\n\u001b[0;32m--> 324\u001b[0m         gotit \u001b[38;5;241m=\u001b[39m \u001b[43mwaiter\u001b[49m\u001b[38;5;241;43m.\u001b[39;49m\u001b[43macquire\u001b[49m\u001b[43m(\u001b[49m\u001b[38;5;28;43;01mTrue\u001b[39;49;00m\u001b[43m,\u001b[49m\u001b[43m \u001b[49m\u001b[43mtimeout\u001b[49m\u001b[43m)\u001b[49m\n\u001b[1;32m    325\u001b[0m     \u001b[38;5;28;01melse\u001b[39;00m:\n\u001b[1;32m    326\u001b[0m         gotit \u001b[38;5;241m=\u001b[39m waiter\u001b[38;5;241m.\u001b[39macquire(\u001b[38;5;28;01mFalse\u001b[39;00m)\n",
      "\u001b[0;31mKeyboardInterrupt\u001b[0m: "
     ]
    }
   ],
   "source": [
    "result = OffpolicyTrainer(\n",
    "    policy=policy,\n",
    "    train_collector=train_collector,\n",
    "    test_collector=test_collector,\n",
    "    # test_fn=test_fn,\n",
    "    max_epoch=200,\n",
    "    step_per_epoch=1000,\n",
    "    step_per_collect=1,\n",
    "    episode_per_test=1,\n",
    "    batch_size=256,\n",
    "    logger=logger,\n",
    "    update_per_step=1,\n",
    "    test_in_train=False,\n",
    ").run()"
   ]
  },
  {
   "cell_type": "code",
   "execution_count": null,
   "metadata": {},
   "outputs": [],
   "source": []
  }
 ],
 "metadata": {
  "kernelspec": {
   "display_name": "dev",
   "language": "python",
   "name": "python3"
  },
  "language_info": {
   "codemirror_mode": {
    "name": "ipython",
    "version": 3
   },
   "file_extension": ".py",
   "mimetype": "text/x-python",
   "name": "python",
   "nbconvert_exporter": "python",
   "pygments_lexer": "ipython3",
   "version": "3.11.4"
  }
 },
 "nbformat": 4,
 "nbformat_minor": 2
}
