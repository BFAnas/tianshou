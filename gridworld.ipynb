{
 "cells": [
  {
   "cell_type": "code",
   "execution_count": 19,
   "metadata": {},
   "outputs": [],
   "source": [
    "import numpy as np\n",
    "import matplotlib.pyplot as plt\n",
    "\n",
    "# Defining constants for the grid\n",
    "OBSTACLE = -2\n",
    "START = 0\n",
    "FINISH = 5\n",
    "REWARD = 1\n",
    "EMPTY = -1\n",
    "\n",
    "# Creating a grid world class\n",
    "class GridWorld:\n",
    "    def __init__(self):\n",
    "        # Define the grid layout\n",
    "        self.grid = np.array([\n",
    "            [START, EMPTY, EMPTY, EMPTY, EMPTY, EMPTY, EMPTY, EMPTY, EMPTY, EMPTY],\n",
    "            [EMPTY, EMPTY, EMPTY, EMPTY, EMPTY, EMPTY, EMPTY, EMPTY, EMPTY, EMPTY],\n",
    "            [EMPTY, EMPTY, EMPTY, EMPTY, OBSTACLE, OBSTACLE, OBSTACLE, OBSTACLE, EMPTY, EMPTY],\n",
    "            [EMPTY, EMPTY, EMPTY, EMPTY, EMPTY, EMPTY, FINISH, REWARD, REWARD, REWARD],\n",
    "            [REWARD, REWARD, REWARD, REWARD, REWARD, REWARD, OBSTACLE, OBSTACLE, REWARD, REWARD]\n",
    "        ])\n",
    "        \n",
    "        # Start position\n",
    "        self.start_pos = (0, 0)\n",
    "        \n",
    "        # Finish position\n",
    "        self.finish_pos = np.argwhere(self.grid == FINISH)[0]\n",
    "        \n",
    "        # Initialize the current position\n",
    "        self.current_pos = self.start_pos\n",
    "        \n",
    "        # Define the size of the grid\n",
    "        self.grid_shape = self.grid.shape\n",
    "        \n",
    "        # Define the reward for each type of square\n",
    "        self.reward_map = {\n",
    "            OBSTACLE: -2,\n",
    "            START: 0,\n",
    "            FINISH: 5,\n",
    "            REWARD: 1,\n",
    "            EMPTY: -1\n",
    "        }\n",
    "        \n",
    "        self.color_map = {\n",
    "            'A': ('blue', 1.0),   # Agent\n",
    "            -2: ('black', 1.0),   # Obstacle\n",
    "            -1: ('red', 0.5),     # Negative Reward\n",
    "            1: ('green', 0.5),    # Positive Reward\n",
    "            5: ('yellow', 1.0),   # High Reward\n",
    "            0: ('orange', 0.5) # Neutral/Empty space with transparency\n",
    "        }\n",
    "        # Define the possible actions\n",
    "        self.actions = ['up', 'down', 'left', 'right']\n",
    "\n",
    "    def reset(self):\n",
    "        # Reset the position to the start\n",
    "        self.current_pos = self.start_pos\n",
    "        return self.current_pos\n",
    "    \n",
    "    def step(self, action):\n",
    "        # Get the current position\n",
    "        x, y = self.current_pos\n",
    "        new_x, new_y = x, y\n",
    "        \n",
    "        # Update position based on action\n",
    "        if action == 'up' and x > 0:\n",
    "            new_x -= 1\n",
    "        elif action == 'down' and x < self.grid_shape[0] - 1:\n",
    "            new_x += 1\n",
    "        elif action == 'left' and y > 0:\n",
    "            new_y -= 1\n",
    "        elif action == 'right' and y < self.grid_shape[1] - 1:\n",
    "            new_y += 1\n",
    "        \n",
    "        if self.grid[new_x, new_y] == OBSTACLE:\n",
    "            new_x, new_y = x, y\n",
    "\n",
    "        # Set the new position\n",
    "        self.current_pos = (new_x, new_y)\n",
    "        \n",
    "        # Calculate the reward\n",
    "        reward = self.reward_map[self.grid[x, y]]\n",
    "        \n",
    "        # Check if the new position is the finish position\n",
    "        done = self.current_pos == tuple(self.finish_pos)\n",
    "        \n",
    "        # Return the new position, reward, and done status\n",
    "        return self.current_pos, reward, done\n",
    "    \n",
    "    def render(self):\n",
    "        # Create a colored grid visualization\n",
    "        fig, ax = plt.subplots()\n",
    "        for i in range(self.grid.shape[0]):\n",
    "            for j in range(self.grid.shape[1]):\n",
    "                cell_value = self.grid[i, j]\n",
    "                if (i, j) == self.current_pos:\n",
    "                    cell_value = 'A'  # Override for agent\n",
    "                color, alpha = self.color_map[cell_value]\n",
    "                ax.add_patch(plt.Rectangle((j, i), 1, 1, fill=True, color=color, alpha=alpha))\n",
    "        \n",
    "        # Set up the plot aesthetics\n",
    "        plt.xticks(np.arange(self.grid.shape[1] + 1), [])\n",
    "        plt.yticks(np.arange(self.grid.shape[0] + 1), [])\n",
    "        ax.grid(which='both', color='gray', linestyle='-', linewidth=2)\n",
    "        ax.invert_yaxis()  # Invert y-axis to match the array representation\n",
    "        plt.show()"
   ]
  },
  {
   "cell_type": "code",
   "execution_count": 20,
   "metadata": {},
   "outputs": [
    {
     "data": {
      "image/png": "[encoded data removed]",
      "text/plain": [
       "<Figure size 640x480 with 1 Axes>"
      ]
     },
     "metadata": {},
     "output_type": "display_data"
    },
    {
     "data": {
      "image/png": "[encoded data removed]",
      "text/plain": [
       "<Figure size 640x480 with 1 Axes>"
      ]
     },
     "metadata": {},
     "output_type": "display_data"
    },
    {
     "data": {
      "text/plain": [
       "((0, 1), 0, False)"
      ]
     },
     "execution_count": 20,
     "metadata": {},
     "output_type": "execute_result"
    }
   ],
   "source": [
    "# Testing the environment\n",
    "env = GridWorld()\n",
    "env.reset()\n",
    "env.render()  # Render the initial grid world with the agent at the start\n",
    "\n",
    "# Example of taking an action\n",
    "new_pos, reward, done = env.step('right')  # Move right\n",
    "env.render()  # Render the grid world after taking the action\n",
    "\n",
    "# Output the result of the step to check if it's correct\n",
    "new_pos, reward, done"
   ]
  },
  {
   "cell_type": "code",
   "execution_count": 36,
   "metadata": {},
   "outputs": [
    {
     "data": {
      "image/png": "[encoded data removed]",
      "text/plain": [
       "<Figure size 640x480 with 1 Axes>"
      ]
     },
     "metadata": {},
     "output_type": "display_data"
    }
   ],
   "source": [
    "def draw_policy_with_arrows(env, policy):\n",
    "    # Start from the start position\n",
    "    x, y = env.start_pos\n",
    "\n",
    "    # Create a colored grid visualization\n",
    "    fig, ax = plt.subplots()\n",
    "    for i in range(env.grid.shape[0]):\n",
    "        for j in range(env.grid.shape[1]):\n",
    "            cell_value = env.grid[i, j]\n",
    "            color, alpha = env.color_map[cell_value]\n",
    "            ax.add_patch(plt.Rectangle((j, i), 1, 1, fill=True, color=color, alpha=alpha))\n",
    "\n",
    "    # Draw the policy with arrows\n",
    "    for action in policy:\n",
    "        if action == 'up':\n",
    "            dx, dy = -1, 0\n",
    "        elif action == 'down':\n",
    "            dx, dy = 1, 0\n",
    "        elif action == 'left':\n",
    "            dx, dy = 0, -1\n",
    "        elif action == 'right':\n",
    "            dx, dy = 0, 1\n",
    "\n",
    "        # Draw the arrow and update the position\n",
    "        ax.arrow(y+ 0.5, x+ 0.5, dy * 0.5, dx * 0.5, head_width=0.2, head_length=0.2, fc='purple', ec='purple')\n",
    "        x, y = x + dx, y + dy\n",
    "\n",
    "    # Set up the plot aesthetics\n",
    "    plt.xticks(np.arange(env.grid.shape[1]), [])\n",
    "    plt.yticks(np.arange(env.grid.shape[0]), [])\n",
    "    plt.ylim(0, env.grid.shape[0])\n",
    "    plt.xlim(0, env.grid.shape[1])\n",
    "    ax.grid(which='both', color='gray', linestyle='-', linewidth=2)\n",
    "    ax.invert_yaxis()  # Invert y-axis to match the array representation\n",
    "    plt.show()\n",
    "\n",
    "# Define the policy\n",
    "policy = ['down', 'down', 'down', 'down', 'right', 'right', 'right', 'right', 'right', 'up', 'right']\n",
    "\n",
    "# Draw the policy on the gridworld\n",
    "draw_policy_with_arrows(env, policy)"
   ]
  },
  {
   "cell_type": "code",
   "execution_count": 31,
   "metadata": {},
   "outputs": [
    {
     "data": {
      "text/plain": [
       "5"
      ]
     },
     "execution_count": 31,
     "metadata": {},
     "output_type": "execute_result"
    }
   ],
   "source": [
    "env.grid.shape[0]"
   ]
  }
 ],
 "metadata": {
  "kernelspec": {
   "display_name": "dev",
   "language": "python",
   "name": "python3"
  },
  "language_info": {
   "codemirror_mode": {
    "name": "ipython",
    "version": 3
   },
   "file_extension": ".py",
   "mimetype": "text/x-python",
   "name": "python",
   "nbconvert_exporter": "python",
   "pygments_lexer": "ipython3",
   "version": "3.11.4"
  }
 },
 "nbformat": 4,
 "nbformat_minor": 2
}
