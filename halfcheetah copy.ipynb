{
 "cells": [
  {
   "cell_type": "code",
   "execution_count": null,
   "metadata": {},
   "outputs": [],
   "source": [
    "# load offline trained agent\n",
    "# load expert agent\n",
    "# write ensemble class for offline trained agents\n",
    "# use distributional RL to detect risky states\n",
    "# use ensembles to detect novel states\n",
    "# if novelty is above a treshold give control to expert \n",
    "# if risk is above a treshold give control to expert\n",
    "# can conformal prediction give us guaranties about the performance in this setu?p\n",
    "# empirecally verify if we are able to get the desired performance"
   ]
  },
  {
   "cell_type": "code",
   "execution_count": 1,
   "metadata": {},
   "outputs": [
    {
     "name": "stderr",
     "output_type": "stream",
     "text": [
      "/data/user/R901105/.conda/envs/dev/lib/python3.11/site-packages/glfw/__init__.py:916: GLFWError: (65544) b'X11: The DISPLAY environment variable is missing'\n",
      "  warnings.warn(message, GLFWError)\n",
      "/data/user/R901105/.conda/envs/dev/lib/python3.11/site-packages/gymnasium/envs/registration.py:596: UserWarning: \u001b[33mWARN: plugin: shimmy.registration:register_gymnasium_envs raised Traceback (most recent call last):\n",
      "  File \"/data/user/R901105/.conda/envs/dev/lib/python3.11/site-packages/gymnasium/envs/registration.py\", line 594, in load_plugin_envs\n",
      "    fn()\n",
      "  File \"/data/user/R901105/.conda/envs/dev/lib/python3.11/site-packages/shimmy/registration.py\", line 303, in register_gymnasium_envs\n",
      "    _register_dm_control_envs()\n",
      "  File \"/data/user/R901105/.conda/envs/dev/lib/python3.11/site-packages/shimmy/registration.py\", line 63, in _register_dm_control_envs\n",
      "    from shimmy.dm_control_compatibility import DmControlCompatibilityV0\n",
      "  File \"/data/user/R901105/.conda/envs/dev/lib/python3.11/site-packages/shimmy/dm_control_compatibility.py\", line 13, in <module>\n",
      "    import dm_env\n",
      "ModuleNotFoundError: No module named 'dm_env'\n",
      "\u001b[0m\n",
      "  logger.warn(f\"plugin: {plugin.value} raised {traceback.format_exc()}\")\n",
      "Warning: Mujoco-based envs failed to import. Set the environment variable D4RL_SUPPRESS_IMPORT_ERROR=1 to suppress this message.\n",
      "No module named 'mjrl'\n",
      "Warning: Flow failed to import. Set the environment variable D4RL_SUPPRESS_IMPORT_ERROR=1 to suppress this message.\n",
      "No module named 'flow'\n",
      "Warning: FrankaKitchen failed to import. Set the environment variable D4RL_SUPPRESS_IMPORT_ERROR=1 to suppress this message.\n",
      "No module named 'dm_env'\n",
      "Warning: CARLA failed to import. Set the environment variable D4RL_SUPPRESS_IMPORT_ERROR=1 to suppress this message.\n",
      "No module named 'carla'\n"
     ]
    }
   ],
   "source": [
    "import re\n",
    "import os\n",
    "import argparse\n",
    "from copy import deepcopy\n",
    "import torch\n",
    "from torch import nn\n",
    "import numpy as np\n",
    "import gymnasium as gym\n",
    "from types import SimpleNamespace\n",
    "from matplotlib import pyplot as plt\n",
    "from sklearn.neighbors import KernelDensity\n",
    "\n",
    "from examples.offline.utils import load_buffer_d4rl\n",
    "from tianshou.policy import DSACPolicy, BasePolicy\n",
    "from tianshou.data.buffer.vecbuf import VectorReplayBuffer, ReplayBuffer\n",
    "from tianshou.env import SubprocVectorEnv\n",
    "from tianshou.data import Collector, Batch, to_torch\n",
    "from tianshou.data.types import RolloutBatchProtocol\n",
    "from tianshou.utils.net.common import Net\n",
    "from tianshou.utils.net.continuous import ActorProb, QuantileMlp\n",
    "from tensorboard.backend.event_processing.event_accumulator import EventAccumulator"
   ]
  },
  {
   "cell_type": "code",
   "execution_count": 2,
   "metadata": {},
   "outputs": [],
   "source": [
    "device = \"cuda:3\"\n",
    "seed = 123\n",
    "np.random.seed(seed);\n",
    "torch.manual_seed(seed);"
   ]
  },
  {
   "cell_type": "code",
   "execution_count": 3,
   "metadata": {},
   "outputs": [],
   "source": [
    "def parse_value(value):\n",
    "    # Convert simple types (int, float, bool, None)\n",
    "    if value.isdigit():\n",
    "        return int(value)\n",
    "    elif re.match(r'^\\d+\\.\\d+$', value):\n",
    "        return float(value)\n",
    "    elif value == \"True\":\n",
    "        return True\n",
    "    elif value == \"False\":\n",
    "        return False\n",
    "    elif value == \"None\":\n",
    "        return None\n",
    "    elif value.startswith(\"[\") and value.endswith(\"]\"):\n",
    "        # Convert the list items\n",
    "        items = re.split(r',(?=[^\\]]*(?:\\[|$))', value[1:-1])\n",
    "        return [parse_value(item.strip()) for item in items]\n",
    "    elif value.startswith(\"(\") and value.endswith(\")\"):\n",
    "        # Convert the tuple items\n",
    "        items = re.split(r',(?=[^\\)]*(?:\\(|$))', value[1:-1])\n",
    "        # Special case for single-item tuple\n",
    "        if len(items) == 2 and items[0].strip() != '':\n",
    "            return (parse_value(items[0].strip()),)\n",
    "        return tuple(parse_value(item.strip()) for item in items)\n",
    "    elif value.startswith(\"'\") and value.endswith(\"'\"):\n",
    "        return value[1:-1]\n",
    "    # Else, return the value as-is\n",
    "    return value\n",
    "\n",
    "def get_args(event_file):\n",
    "    ea = EventAccumulator(event_file)\n",
    "    ea.Reload()  # Load the file\n",
    "    # Get the text data\n",
    "    texts = ea.Tags()[\"tensors\"]\n",
    "    # Extract the actual text content\n",
    "    text_data = {}\n",
    "    for tag in texts:\n",
    "        events = ea.Tensors(tag)\n",
    "        for event in events:\n",
    "            # You can extract the wall_time and step if needed\n",
    "            # wall_time, step, value = event.wall_time, event.step, event.text\n",
    "            text_data[tag] = event.tensor_proto.string_val\n",
    "    data = text_data['args/text_summary'][0]\n",
    "    # Convert bytes to string\n",
    "    data_str = data.decode('utf-8')\n",
    "    # Remove the \"Namespace(\" prefix and the trailing \")\"\n",
    "    data_str = data_str[len(\"Namespace(\"):-1]\n",
    "    # Split into key-value pairs\n",
    "    key_values = re.split(r',(?=\\s\\w+=)', data_str)\n",
    "    # Parse each key-value pair\n",
    "    args_dict = {}\n",
    "    for kv in key_values:\n",
    "        key, value = kv.split('=', 1)\n",
    "        key = key.strip()\n",
    "        args_dict[key] = parse_value(value)\n",
    "    args = SimpleNamespace(**args_dict)\n",
    "    try:\n",
    "        env = gym.make(args.task)\n",
    "        target_entropy = -np.prod(env.action_space.shape)\n",
    "        log_alpha = torch.zeros(1, requires_grad=True, device=device)\n",
    "        alpha_optim = torch.optim.Adam([log_alpha], lr=args.alpha_lr)\n",
    "        args.alpha = (target_entropy, log_alpha, alpha_optim)\n",
    "    except Exception:\n",
    "        pass\n",
    "    return args"
   ]
  },
  {
   "cell_type": "code",
   "execution_count": 4,
   "metadata": {},
   "outputs": [],
   "source": [
    "def get_dsac_args():\n",
    "    args = argparse.Namespace(\n",
    "        task=\"HalfCheetah-v2\",\n",
    "        risk_type=\"wang\",\n",
    "        buffer_size=1000000,\n",
    "        hidden_sizes=[256, 256, 256],\n",
    "        # hidden_sizes=[256, 256],\n",
    "        actor_lr=3e-4,\n",
    "        critic_lr=3e-4,\n",
    "        gamma=0.99,\n",
    "        tau=0.005,\n",
    "        alpha=0.4,\n",
    "        alpha_lr=0.0003,\n",
    "        start_timesteps=1,\n",
    "        epoch=200,\n",
    "        step_per_epoch=5000,\n",
    "        step_per_collect=1,\n",
    "        update_per_step=1,\n",
    "        batch_size=256,\n",
    "        training_num=1,\n",
    "        test_num=10,\n",
    "        distortion_param=0.75,\n",
    "    )\n",
    "    return args"
   ]
  },
  {
   "cell_type": "code",
   "execution_count": 5,
   "metadata": {},
   "outputs": [],
   "source": [
    "def load_policy(args, path):\n",
    "    env = gym.make(args.task)\n",
    "    args.state_shape = env.observation_space.shape or env.observation_space.n\n",
    "    args.action_shape = env.action_space.shape or env.action_space.n\n",
    "    # model\n",
    "    net_a = Net(args.state_shape, hidden_sizes=args.hidden_sizes, device=device)\n",
    "    actor = ActorProb(\n",
    "        net_a,\n",
    "        args.action_shape,\n",
    "        device=device,\n",
    "        unbounded=True,\n",
    "        conditioned_sigma=True,\n",
    "    ).to(device)\n",
    "    actor_optim = torch.optim.Adam(actor.parameters(), lr=args.actor_lr)\n",
    "    critic1 = QuantileMlp(hidden_sizes=args.hidden_sizes, input_size=args.state_shape[0] + args.action_shape[0], device=device).to(device)\n",
    "    critic1_optim = torch.optim.Adam(critic1.parameters(), lr=args.critic_lr)\n",
    "    critic2 = QuantileMlp(hidden_sizes=args.hidden_sizes, input_size=args.state_shape[0] + args.action_shape[0], device=device).to(device)\n",
    "    critic2_optim = torch.optim.Adam(critic2.parameters(), lr=args.critic_lr)\n",
    "    target_entropy = -np.prod(env.action_space.shape)\n",
    "    log_alpha = torch.zeros(1, requires_grad=True, device=device)\n",
    "    alpha_optim = torch.optim.Adam([log_alpha], lr=args.alpha_lr)\n",
    "    args.alpha = (target_entropy, log_alpha, alpha_optim)\n",
    "    policy = DSACPolicy(\n",
    "        actor,\n",
    "        actor_optim,\n",
    "        critic1,\n",
    "        critic1_optim,\n",
    "        critic2,\n",
    "        critic2_optim,\n",
    "        risk_type='wang',\n",
    "        tau=args.tau,\n",
    "        gamma=args.gamma,\n",
    "        alpha=args.alpha,\n",
    "        action_space=env.action_space,\n",
    "        device=device,\n",
    "        distortion_param=0.75,\n",
    "    )\n",
    "    dirname = os.path.dirname(path)\n",
    "    if os.path.isfile(os.path.join(dirname, \"actor.pth\")):\n",
    "        policy.actor.load_state_dict(torch.load(os.path.join(dirname, \"actor.pth\"), map_location=device))\n",
    "        print(\"Loaded actor from: \", os.path.join(dirname, \"actor.pth\"))\n",
    "    if os.path.isfile(os.path.join(dirname, \"critic1.pth\")):\n",
    "        policy.critic1.load_state_dict(torch.load(os.path.join(dirname, \"critic1.pth\"), map_location=device))\n",
    "        policy.critic1_old.load_state_dict(torch.load(os.path.join(dirname, \"critic1.pth\"), map_location=device))\n",
    "        print(\"Loaded critic1 from: \", os.path.join(dirname, \"critic1.pth\"))\n",
    "    if os.path.isfile(os.path.join(dirname, \"critic2.pth\")):\n",
    "        policy.critic2.load_state_dict(torch.load(os.path.join(dirname, \"critic2.pth\"), map_location=device))\n",
    "        policy.critic2_old.load_state_dict(torch.load(os.path.join(dirname, \"critic2.pth\"), map_location=device))\n",
    "        print(\"Loaded critic2 from: \", os.path.join(dirname, \"critic2.pth\"))\n",
    "    else:\n",
    "        policy.load_state_dict(torch.load(path, map_location=device))\n",
    "        print(\"Loaded agent from: \", path)\n",
    "    return policy\n",
    "\n",
    "def load_behavioral_crtitic(args, path):\n",
    "    behavioral_critic = QuantileMlp(\n",
    "        input_size=args.state_shape[0] + args.action_shape[0],\n",
    "        hidden_sizes=args.hidden_sizes,\n",
    "        device=device,\n",
    "    ).to(device)\n",
    "    behavioral_critic.load_state_dict(torch.load(path, map_location=device))\n",
    "    return behavioral_critic\n",
    "\n",
    "def get_model(log_path, type=None):\n",
    "    if type == \"behavioral\":\n",
    "        files = os.listdir(log_path)\n",
    "        event_file = [f for f in files if f.startswith('event')][0]\n",
    "        full_path = os.path.join(log_path, event_file)\n",
    "        args = get_args(full_path)\n",
    "        resume_path = os.path.join(log_path, 'model.pth')\n",
    "        policy = load_behavioral_crtitic(args, resume_path)\n",
    "    elif type == \"codac\":\n",
    "        files = os.listdir(log_path)\n",
    "        event_file = [f for f in files if f.startswith('event')][0]\n",
    "        full_path = os.path.join(log_path, event_file)\n",
    "        args = get_args(full_path)\n",
    "        resume_path = os.path.join(log_path, 'policy.pth')\n",
    "        policy = load_policy(args, resume_path)\n",
    "    else:\n",
    "        args = get_dsac_args()\n",
    "        resume_path = os.path.join(log_path, 'policy.pth')\n",
    "        policy = load_policy(args, resume_path)\n",
    "    return policy"
   ]
  },
  {
   "cell_type": "code",
   "execution_count": 6,
   "metadata": {},
   "outputs": [
    {
     "name": "stderr",
     "output_type": "stream",
     "text": [
      "/data/user/R901105/.conda/envs/dev/lib/python3.11/site-packages/gymnasium/envs/registration.py:513: DeprecationWarning: \u001b[33mWARN: The environment HalfCheetah-v2 is out of date. You should consider upgrading to version `v4`.\u001b[0m\n",
      "  logger.deprecation(\n",
      "/data/user/R901105/.conda/envs/dev/lib/python3.11/site-packages/gymnasium/envs/mujoco/mujoco_env.py:211: DeprecationWarning: \u001b[33mWARN: This version of the mujoco environments depends on the mujoco-py bindings, which are no longer maintained and may stop working. Please upgrade to the v4 versions of the environments (which depend on the mujoco python bindings instead), unless you are trying to precisely replicate previous works).\u001b[0m\n",
      "  logger.deprecation(\n"
     ]
    },
    {
     "name": "stdout",
     "output_type": "stream",
     "text": [
      "Loaded actor from:  /data/user/R901105/dev/log/HalfCheetah-v4/codac_bc/neutral/0/231127-113302/actor.pth\n",
      "Loaded critic1 from:  /data/user/R901105/dev/log/HalfCheetah-v4/codac_bc/neutral/0/231127-113302/critic1.pth\n",
      "Loaded critic2 from:  /data/user/R901105/dev/log/HalfCheetah-v4/codac_bc/neutral/0/231127-113302/critic2.pth\n"
     ]
    }
   ],
   "source": [
    "log_path1 = \"/data/user/R901105/dev/log/HalfCheetah-v4/codac_bc/neutral/0/231127-113302\"\n",
    "offline_policy1 = get_model(log_path1)"
   ]
  },
  {
   "cell_type": "code",
   "execution_count": 7,
   "metadata": {},
   "outputs": [],
   "source": [
    "# log_path2 = \"/data/user/R901105/dev/log/HalfCheetah-v4/codac_bc/neutral/123/231127-124113\"\n",
    "# offline_policy2 = get_model(log_path2)"
   ]
  },
  {
   "cell_type": "code",
   "execution_count": 8,
   "metadata": {},
   "outputs": [],
   "source": [
    "# log_path3 = \"/data/user/R901105/dev/log/HalfCheetah-v4/codac_bc/neutral/0/231204-225919\"\n",
    "# offline_policy3 = get_model(log_path3)"
   ]
  },
  {
   "cell_type": "code",
   "execution_count": 7,
   "metadata": {},
   "outputs": [
    {
     "name": "stdout",
     "output_type": "stream",
     "text": [
      "Loaded actor from:  /data/user/R901105/dev/halfcheetah_expert/actor.pth\n",
      "Loaded critic1 from:  /data/user/R901105/dev/halfcheetah_expert/critic1.pth\n",
      "Loaded critic2 from:  /data/user/R901105/dev/halfcheetah_expert/critic2.pth\n"
     ]
    },
    {
     "name": "stderr",
     "output_type": "stream",
     "text": [
      "/data/user/R901105/.conda/envs/dev/lib/python3.11/site-packages/gymnasium/envs/registration.py:513: DeprecationWarning: \u001b[33mWARN: The environment HalfCheetah-v2 is out of date. You should consider upgrading to version `v4`.\u001b[0m\n",
      "  logger.deprecation(\n",
      "/data/user/R901105/.conda/envs/dev/lib/python3.11/site-packages/gymnasium/envs/mujoco/mujoco_env.py:211: DeprecationWarning: \u001b[33mWARN: This version of the mujoco environments depends on the mujoco-py bindings, which are no longer maintained and may stop working. Please upgrade to the v4 versions of the environments (which depend on the mujoco python bindings instead), unless you are trying to precisely replicate previous works).\u001b[0m\n",
      "  logger.deprecation(\n"
     ]
    }
   ],
   "source": [
    "log_path = \"/data/user/R901105/dev/halfcheetah_expert\"\n",
    "expert_policy = get_model(log_path) \n",
    "# expert_policy.eval();"
   ]
  },
  {
   "cell_type": "code",
   "execution_count": 8,
   "metadata": {},
   "outputs": [],
   "source": [
    "task = \"HalfCheetah-v2\"\n",
    "env_num = 20\n",
    "env = gym.make(task)"
   ]
  },
  {
   "cell_type": "code",
   "execution_count": 9,
   "metadata": {},
   "outputs": [
    {
     "name": "stderr",
     "output_type": "stream",
     "text": [
      "/data/user/R901105/.conda/envs/dev/lib/python3.11/site-packages/gym/envs/mujoco/mujoco_env.py:190: UserWarning: \u001b[33mWARN: This version of the mujoco environments depends on the mujoco-py bindings, which are no longer maintained and may stop working. Please upgrade to the v4 versions of the environments (which depend on the mujoco python bindings instead), unless you are trying to precisely replicate previous works).\u001b[0m\n",
      "  logger.warn(\n",
      "/data/user/R901105/.conda/envs/dev/lib/python3.11/site-packages/gym/spaces/box.py:127: UserWarning: \u001b[33mWARN: Box bound precision lowered by casting to float32\u001b[0m\n",
      "  logger.warn(f\"Box bound precision lowered by casting to {self.dtype}\")\n",
      "load datafile:   0%|          | 0/21 [00:00<?, ?it/s]"
     ]
    },
    {
     "name": "stderr",
     "output_type": "stream",
     "text": [
      "load datafile: 100%|██████████| 21/21 [00:01<00:00, 11.38it/s]\n"
     ]
    }
   ],
   "source": [
    "offline_data = load_buffer_d4rl(\"halfcheetah-medium-v2\")"
   ]
  },
  {
   "cell_type": "markdown",
   "metadata": {},
   "source": [
    "# give control to the expert policy based on epistemic and aleatoric uncertainties"
   ]
  },
  {
   "cell_type": "code",
   "execution_count": 10,
   "metadata": {},
   "outputs": [],
   "source": [
    "class MixedPolicy(BasePolicy):\n",
    "    def __init__(self, base_policy: BasePolicy, expert_policy: BasePolicy, action_space, id_data):\n",
    "        super().__init__(action_space=action_space, action_scaling=True)\n",
    "        self.base_policy = base_policy\n",
    "        self.expert_policy = expert_policy\n",
    "        self.update_kde(id_data)\n",
    "        self.cede_ctrl_prob = 1\n",
    "\n",
    "    def update_kde(self, id_data):\n",
    "        self.kde = KernelDensity(kernel='gaussian', bandwidth=5).fit(id_data)\n",
    "        self.density_threshold = np.percentile(self.kde.score_samples(id_data[:1000]), 5)  \n",
    "\n",
    "    def forward(self, batch: RolloutBatchProtocol, state=None, n_repeat=100, **kwargs):\n",
    "        bsz = len(batch.obs)\n",
    "        batch = to_torch(batch, dtype=torch.float32, device=device)\n",
    "        self.base_policy.eval()\n",
    "        self.expert_policy.eval()\n",
    "        with torch.no_grad():\n",
    "            expert_result = self.expert_policy(batch)\n",
    "            base_result = self.base_policy(batch)\n",
    "            expert_qvalues1 = self.expert_policy.critic1(batch.obs, expert_result.act)\n",
    "            expert_qvalues2 = self.expert_policy.critic2(batch.obs, expert_result.act)\n",
    "            expert_qvalues = torch.minimum(expert_qvalues1, expert_qvalues2)\n",
    "            base_qvalues1 = self.base_policy.critic1(batch.obs, base_result.act)\n",
    "            base_qvalues2 = self.base_policy.critic2(batch.obs, base_result.act)\n",
    "            base_qvalues = torch.minimum(base_qvalues1, base_qvalues2)\n",
    "        risky = base_qvalues[:, 0] < expert_qvalues[:, 0] \n",
    "        log_dens = self.kde.score_samples(batch.obs.cpu().numpy())\n",
    "        novel = log_dens < self.density_threshold\n",
    "        novel = to_torch(novel, dtype=torch.float32, device=device)\n",
    "        cede_ctrl = torch.logical_or(risky, novel)\n",
    "        if bsz == 1:\n",
    "            not_cede_ctrl = ~cede_ctrl * (torch.rand(1, device=device) >= self.cede_ctrl_prob)\n",
    "            cede_ctrl = ~not_cede_ctrl\n",
    "        # novel = torch.zeros_like(risky)\n",
    "        cede_ctrl = cede_ctrl.unsqueeze(-1)\n",
    "        actions = torch.where(cede_ctrl, expert_result.act.mean(0), base_result.act.mean(0))\n",
    "        self.cede_ctrl_prob *= 0.99999\n",
    "        return Batch(**{'act': actions, 'policy': Batch({'cede_ctrl': cede_ctrl, 'novel': novel, 'risky': risky})})\n",
    "\n",
    "    def train(self, mode: bool = True) -> \"MixedPolicy\":\n",
    "        self.base_policy.train(mode)\n",
    "        return self\n",
    "    \n",
    "    def process_fn(self, batch: RolloutBatchProtocol, buffer: ReplayBuffer, indices: np.ndarray) -> RolloutBatchProtocol:\n",
    "        return self.base_policy.process_fn(batch, buffer, indices)\n",
    "\n",
    "    def learn(self, batch, **kwargs):\n",
    "        # cede_ctrl = batch.policy.cede_ctrl.cpu().squeeze()\n",
    "        # batch = batch[~cede_ctrl]\n",
    "        info = self.base_policy.learn(batch)\n",
    "        return info"
   ]
  },
  {
   "cell_type": "markdown",
   "metadata": {},
   "source": [
    "# estimate novelty_threshold from the data"
   ]
  },
  {
   "cell_type": "code",
   "execution_count": 11,
   "metadata": {},
   "outputs": [
    {
     "data": {
      "text/plain": [
       "-48.85314190958624"
      ]
     },
     "execution_count": 11,
     "metadata": {},
     "output_type": "execute_result"
    }
   ],
   "source": [
    "offline_batch, _ = offline_data.sample(50000)\n",
    "mixed_policy = MixedPolicy(offline_policy1, expert_policy, env.action_space, offline_batch.obs)\n",
    "mixed_policy.density_threshold"
   ]
  },
  {
   "cell_type": "code",
   "execution_count": 86,
   "metadata": {},
   "outputs": [
    {
     "data": {
      "image/png": "[encoded data removed]",
      "text/plain": [
       "<Figure size 640x480 with 1 Axes>"
      ]
     },
     "metadata": {},
     "output_type": "display_data"
    }
   ],
   "source": [
    "import seaborn as sns\n",
    "\n",
    "# Assuming 'scores' and 'mixed_policy.density_threshold' are already defined\n",
    "batch, _ = offline_data.sample(1000)\n",
    "scores = mixed_policy.kde.score_samples(batch.obs)\n",
    "\n",
    "# Plotting the distribution of scores\n",
    "sns.histplot(scores, kde=True, stat=\"density\", bins=30)\n",
    "plt.xlabel(\"Score\")\n",
    "plt.ylabel(\"Density\")\n",
    "plt.title(\"Distribution of Scores\")\n",
    "\n",
    "# Adding a vertical line for the threshold\n",
    "plt.axvline(x=mixed_policy.density_threshold, color='r', linestyle='--', label=f'Threshold: {mixed_policy.density_threshold}')\n",
    "\n",
    "# Adding a legend\n",
    "plt.legend()\n",
    "\n",
    "# Show the plot\n",
    "plt.show()"
   ]
  },
  {
   "cell_type": "markdown",
   "metadata": {},
   "source": [
    "# perform continual learning and observe the evolution of numbers of calls to the expert"
   ]
  },
  {
   "cell_type": "code",
   "execution_count": 65,
   "metadata": {},
   "outputs": [
    {
     "name": "stderr",
     "output_type": "stream",
     "text": [
      "/data/user/R901105/.conda/envs/dev/lib/python3.11/site-packages/gymnasium/envs/registration.py:513: DeprecationWarning: \u001b[33mWARN: The environment HalfCheetah-v2 is out of date. You should consider upgrading to version `v4`.\u001b[0m\n",
      "  logger.deprecation(\n",
      "/data/user/R901105/.conda/envs/dev/lib/python3.11/site-packages/gymnasium/envs/mujoco/mujoco_env.py:211: DeprecationWarning: \u001b[33mWARN: This version of the mujoco environments depends on the mujoco-py bindings, which are no longer maintained and may stop working. Please upgrade to the v4 versions of the environments (which depend on the mujoco python bindings instead), unless you are trying to precisely replicate previous works).\u001b[0m\n",
      "  logger.deprecation(\n"
     ]
    },
    {
     "name": "stderr",
     "output_type": "stream",
     "text": [
      "/data/user/R901105/.conda/envs/dev/lib/python3.11/site-packages/gymnasium/envs/registration.py:513: DeprecationWarning: \u001b[33mWARN: The environment HalfCheetah-v2 is out of date. You should consider upgrading to version `v4`.\u001b[0m\n",
      "  logger.deprecation(\n",
      "/data/user/R901105/.conda/envs/dev/lib/python3.11/site-packages/gymnasium/envs/mujoco/mujoco_env.py:211: DeprecationWarning: \u001b[33mWARN: This version of the mujoco environments depends on the mujoco-py bindings, which are no longer maintained and may stop working. Please upgrade to the v4 versions of the environments (which depend on the mujoco python bindings instead), unless you are trying to precisely replicate previous works).\u001b[0m\n",
      "  logger.deprecation(\n",
      "/data/user/R901105/.conda/envs/dev/lib/python3.11/site-packages/gymnasium/envs/registration.py:513: DeprecationWarning: \u001b[33mWARN: The environment HalfCheetah-v2 is out of date. You should consider upgrading to version `v4`.\u001b[0m\n",
      "  logger.deprecation(\n",
      "/data/user/R901105/.conda/envs/dev/lib/python3.11/site-packages/gymnasium/envs/mujoco/mujoco_env.py:211: DeprecationWarning: \u001b[33mWARN: This version of the mujoco environments depends on the mujoco-py bindings, which are no longer maintained and may stop working. Please upgrade to the v4 versions of the environments (which depend on the mujoco python bindings instead), unless you are trying to precisely replicate previous works).\u001b[0m\n",
      "  logger.deprecation(\n",
      "/data/user/R901105/.conda/envs/dev/lib/python3.11/site-packages/gymnasium/envs/registration.py:513: DeprecationWarning: \u001b[33mWARN: The environment HalfCheetah-v2 is out of date. You should consider upgrading to version `v4`.\u001b[0m\n",
      "  logger.deprecation(\n",
      "/data/user/R901105/.conda/envs/dev/lib/python3.11/site-packages/gymnasium/envs/mujoco/mujoco_env.py:211: DeprecationWarning: \u001b[33mWARN: This version of the mujoco environments depends on the mujoco-py bindings, which are no longer maintained and may stop working. Please upgrade to the v4 versions of the environments (which depend on the mujoco python bindings instead), unless you are trying to precisely replicate previous works).\u001b[0m\n",
      "  logger.deprecation(\n",
      "/data/user/R901105/.conda/envs/dev/lib/python3.11/site-packages/gymnasium/envs/registration.py:513: DeprecationWarning: \u001b[33mWARN: The environment HalfCheetah-v2 is out of date. You should consider upgrading to version `v4`.\u001b[0m\n",
      "  logger.deprecation(\n",
      "/data/user/R901105/.conda/envs/dev/lib/python3.11/site-packages/gymnasium/envs/mujoco/mujoco_env.py:211: DeprecationWarning: \u001b[33mWARN: This version of the mujoco environments depends on the mujoco-py bindings, which are no longer maintained and may stop working. Please upgrade to the v4 versions of the environments (which depend on the mujoco python bindings instead), unless you are trying to precisely replicate previous works).\u001b[0m\n",
      "  logger.deprecation(\n",
      "/data/user/R901105/.conda/envs/dev/lib/python3.11/site-packages/gymnasium/core.py:311: UserWarning: \u001b[33mWARN: env.seed to get variables from other wrappers is deprecated and will be removed in v1.0, to get this variable you can do `env.unwrapped.seed` for environment variables or `env.get_wrapper_attr('seed')` that will search the reminding wrappers.\u001b[0m\n",
      "  logger.warn(\n",
      "/data/user/R901105/.conda/envs/dev/lib/python3.11/site-packages/gymnasium/core.py:311: UserWarning: \u001b[33mWARN: env.seed to get variables from other wrappers is deprecated and will be removed in v1.0, to get this variable you can do `env.unwrapped.seed` for environment variables or `env.get_wrapper_attr('seed')` that will search the reminding wrappers.\u001b[0m\n",
      "  logger.warn(\n",
      "/data/user/R901105/.conda/envs/dev/lib/python3.11/site-packages/gymnasium/core.py:311: UserWarning: \u001b[33mWARN: env.seed to get variables from other wrappers is deprecated and will be removed in v1.0, to get this variable you can do `env.unwrapped.seed` for environment variables or `env.get_wrapper_attr('seed')` that will search the reminding wrappers.\u001b[0m\n",
      "  logger.warn(\n",
      "/data/user/R901105/.conda/envs/dev/lib/python3.11/site-packages/gymnasium/core.py:311: UserWarning: \u001b[33mWARN: env.seed to get variables from other wrappers is deprecated and will be removed in v1.0, to get this variable you can do `env.unwrapped.seed` for environment variables or `env.get_wrapper_attr('seed')` that will search the reminding wrappers.\u001b[0m\n",
      "  logger.warn(\n",
      "/data/user/R901105/.conda/envs/dev/lib/python3.11/site-packages/gymnasium/core.py:311: UserWarning: \u001b[33mWARN: env.seed to get variables from other wrappers is deprecated and will be removed in v1.0, to get this variable you can do `env.unwrapped.seed` for environment variables or `env.get_wrapper_attr('seed')` that will search the reminding wrappers.\u001b[0m\n",
      "  logger.warn(\n"
     ]
    }
   ],
   "source": [
    "test_envs = SubprocVectorEnv([lambda: gym.make(task) for _ in range(5)])\n",
    "test_envs.seed(seed);"
   ]
  },
  {
   "cell_type": "code",
   "execution_count": 87,
   "metadata": {},
   "outputs": [
    {
     "name": "stderr",
     "output_type": "stream",
     "text": [
      "/data/user/R901105/dev/my_fork/tianshou/tianshou/data/collector.py:70: UserWarning: Single environment detected, wrap to DummyVectorEnv.\n",
      "  warnings.warn(\"Single environment detected, wrap to DummyVectorEnv.\")\n"
     ]
    }
   ],
   "source": [
    "test_buffer = ReplayBuffer(5000)\n",
    "train_collector = Collector(mixed_policy, env, offline_data)\n",
    "test_collector = Collector(mixed_policy, env, test_buffer)"
   ]
  },
  {
   "cell_type": "code",
   "execution_count": 76,
   "metadata": {},
   "outputs": [],
   "source": [
    "def get_returns(policy, n, return_cede_ctrl=False):\n",
    "    policy.eval()\n",
    "    returns = []\n",
    "    cede_ctrl = []\n",
    "    novel = []\n",
    "    risky = []\n",
    "    for _ in range(n):\n",
    "        obs, info = env.reset()\n",
    "        done = False\n",
    "        cum_reward = 0\n",
    "        actions = []\n",
    "        if return_cede_ctrl:\n",
    "            cctrl_ep = []\n",
    "            novel_ep = []\n",
    "            risky_ep = []\n",
    "        while not done:\n",
    "            batch = Batch(obs=torch.from_numpy(np.expand_dims(obs, 0)).to(device), info=info)\n",
    "            with torch.no_grad():\n",
    "                result = policy(batch)\n",
    "            act = result.act.cpu().squeeze().numpy()\n",
    "            act = policy.map_action(act)\n",
    "            if return_cede_ctrl:\n",
    "                cctrl_ep.append(result.policy.cede_ctrl.cpu().squeeze().numpy())\n",
    "                novel_ep.append(result.policy.novel.cpu().squeeze().numpy())\n",
    "                risky_ep.append(result.policy.risky.cpu().squeeze().numpy())\n",
    "            obs, reward, terminated, truncated, info = env.step(act)\n",
    "            actions.append(act)\n",
    "            cum_reward += reward\n",
    "            done = terminated or truncated\n",
    "        returns.append(cum_reward)\n",
    "        if return_cede_ctrl:\n",
    "            cede_ctrl.append(np.array(cctrl_ep).mean())\n",
    "            novel.append(np.array(novel_ep).mean())\n",
    "            risky.append(np.array(risky_ep).mean())\n",
    "    if return_cede_ctrl:\n",
    "        return np.array(returns).squeeze().mean(),  np.array(cede_ctrl).mean(), np.array(novel).mean(), np.array(risky).mean()\n",
    "    return np.array(returns).squeeze().mean()"
   ]
  },
  {
   "cell_type": "code",
   "execution_count": 88,
   "metadata": {},
   "outputs": [],
   "source": [
    "import datetime\n",
    "from torch.utils.tensorboard import SummaryWriter\n",
    "from tianshou.utils import TensorboardLogger\n",
    "# log\n",
    "now = datetime.datetime.now().strftime(\"%y%m%d-%H%M%S\")\n",
    "log_name = os.path.join(task, \"mixed\", now)\n",
    "log_path = os.path.join(\"../../log\", log_name)\n",
    "writer = SummaryWriter(log_path)\n",
    "logger = TensorboardLogger(writer)"
   ]
  },
  {
   "cell_type": "code",
   "execution_count": 89,
   "metadata": {},
   "outputs": [],
   "source": [
    "n = 2\n",
    "expert_returns = get_returns(expert_policy, n)\n",
    "def test_fn(num_epoch: int, step_idx: int):        \n",
    "    returns, cede_ctrl, novel, risky = get_returns(mixed_policy, n, True)\n",
    "    risky_returns = get_returns(offline_policy1, n)\n",
    "    id_data = offline_data.sample(25000)[0].obs\n",
    "    mixed_policy.update_kde(id_data)\n",
    "    print(\"Mixed return: \", returns, \"Suboptimal return: \", risky_returns, \"Expert return: \", expert_returns, \"Cede Control: \", cede_ctrl)\n",
    "    # Log data to TensorBoard\n",
    "    writer.add_scalar(\"Stats/Mixed return\", returns, global_step=step_idx)\n",
    "    writer.add_scalar(\"Stats/Suboptimal return\", risky_returns, global_step=step_idx)\n",
    "    writer.add_scalar(\"Stats/Expert return\", expert_returns, global_step=step_idx)\n",
    "    writer.add_scalar(\"Stats/Cede Control\", cede_ctrl, global_step=step_idx)\n",
    "    writer.add_scalar(\"Stats/Novel\", novel, global_step=step_idx)\n",
    "    writer.add_scalar(\"Stats/Risky\", risky, global_step=step_idx)"
   ]
  },
  {
   "cell_type": "code",
   "execution_count": 90,
   "metadata": {},
   "outputs": [
    {
     "name": "stdout",
     "output_type": "stream",
     "text": [
      "Mixed return:  8717.73378259777 Suboptimal return:  5050.555078888053 Expert return:  8796.882329367372 Cede Control:  1.0\n"
     ]
    },
    {
     "name": "stderr",
     "output_type": "stream",
     "text": [
      "Epoch #1: 501it [00:15, 31.33it/s, alpha=0.863, env_step=500, gradient_step=500, len=0, loss/actor=-498.191, loss/alpha=-2.792, loss/critic1=9.255, loss/critic2=9.254, n/ep=0, n/st=1, rew=0.00]                         \n"
     ]
    },
    {
     "name": "stdout",
     "output_type": "stream",
     "text": [
      "Mixed return:  8821.898887029743 Suboptimal return:  5920.3516514029925 Expert return:  8796.882329367372 Cede Control:  1.0\n",
      "Epoch #1: test_reward: 6.257933 ± 0.000000, best_reward: 6.257933 ± 0.000000 in #1\n"
     ]
    },
    {
     "name": "stderr",
     "output_type": "stream",
     "text": [
      "Epoch #2: 501it [00:15, 32.17it/s, alpha=0.738, env_step=1000, gradient_step=1000, len=0, loss/actor=-522.490, loss/alpha=-5.729, loss/critic1=9.196, loss/critic2=9.197, n/ep=0, n/st=1, rew=0.00]                         \n"
     ]
    },
    {
     "name": "stdout",
     "output_type": "stream",
     "text": [
      "Mixed return:  8752.365201347458 Suboptimal return:  5843.061224856809 Expert return:  8796.882329367372 Cede Control:  1.0\n",
      "Epoch #2: test_reward: 6.217228 ± 0.000000, best_reward: 6.257933 ± 0.000000 in #1\n"
     ]
    },
    {
     "name": "stderr",
     "output_type": "stream",
     "text": [
      "Epoch #3: 501it [00:15, 32.11it/s, alpha=0.634, env_step=1500, gradient_step=1500, len=0, loss/actor=-545.997, loss/alpha=-8.460, loss/critic1=9.112, loss/critic2=9.112, n/ep=0, n/st=1, rew=0.00]                         \n"
     ]
    },
    {
     "name": "stdout",
     "output_type": "stream",
     "text": [
      "Mixed return:  8799.01789756426 Suboptimal return:  5971.011592269841 Expert return:  8796.882329367372 Cede Control:  1.0\n",
      "Epoch #3: test_reward: 6.067018 ± 0.000000, best_reward: 6.257933 ± 0.000000 in #1\n"
     ]
    },
    {
     "name": "stderr",
     "output_type": "stream",
     "text": [
      "Epoch #4: 501it [00:15, 31.92it/s, alpha=0.547, env_step=2000, gradient_step=2000, len=0, loss/actor=-566.769, loss/alpha=-11.002, loss/critic1=8.949, loss/critic2=8.945, n/ep=0, n/st=1, rew=0.00]                         \n"
     ]
    },
    {
     "name": "stdout",
     "output_type": "stream",
     "text": [
      "Mixed return:  8819.665857256128 Suboptimal return:  3392.172805220205 Expert return:  8796.882329367372 Cede Control:  1.0\n",
      "Epoch #4: test_reward: 0.080105 ± 0.000000, best_reward: 6.257933 ± 0.000000 in #1\n"
     ]
    },
    {
     "name": "stderr",
     "output_type": "stream",
     "text": [
      "Epoch #5: 501it [00:15, 32.16it/s, alpha=0.472, env_step=2500, gradient_step=2500, len=0, loss/actor=-585.443, loss/alpha=-13.504, loss/critic1=8.690, loss/critic2=8.690, n/ep=0, n/st=1, rew=0.00]                         \n"
     ]
    },
    {
     "name": "stdout",
     "output_type": "stream",
     "text": [
      "Mixed return:  8793.01826332477 Suboptimal return:  6499.774245653854 Expert return:  8796.882329367372 Cede Control:  1.0\n",
      "Epoch #5: test_reward: 6.639396 ± 0.000000, best_reward: 6.639396 ± 0.000000 in #5\n"
     ]
    },
    {
     "name": "stderr",
     "output_type": "stream",
     "text": [
      "Epoch #6: 501it [00:15, 31.96it/s, alpha=0.407, env_step=3000, gradient_step=3000, len=0, loss/actor=-602.232, loss/alpha=-15.990, loss/critic1=8.398, loss/critic2=8.396, n/ep=0, n/st=1, rew=0.00]                         \n"
     ]
    },
    {
     "name": "stdout",
     "output_type": "stream",
     "text": [
      "Mixed return:  8783.853027839876 Suboptimal return:  6758.934195133366 Expert return:  8796.882329367372 Cede Control:  1.0\n",
      "Epoch #6: test_reward: 5.676724 ± 0.000000, best_reward: 6.639396 ± 0.000000 in #5\n"
     ]
    },
    {
     "name": "stderr",
     "output_type": "stream",
     "text": [
      "Epoch #7: 501it [00:15, 32.12it/s, alpha=0.352, env_step=3500, gradient_step=3500, len=0, loss/actor=-616.343, loss/alpha=-18.263, loss/critic1=8.088, loss/critic2=8.088, n/ep=0, n/st=1, rew=0.00]                         \n"
     ]
    },
    {
     "name": "stdout",
     "output_type": "stream",
     "text": [
      "Mixed return:  8767.613057492475 Suboptimal return:  6357.126064076276 Expert return:  8796.882329367372 Cede Control:  1.0\n",
      "Epoch #7: test_reward: 6.585176 ± 0.000000, best_reward: 6.639396 ± 0.000000 in #5\n"
     ]
    },
    {
     "name": "stderr",
     "output_type": "stream",
     "text": [
      "Epoch #8: 501it [00:15, 31.95it/s, alpha=0.304, env_step=4000, gradient_step=4000, len=0, loss/actor=-628.491, loss/alpha=-20.470, loss/critic1=7.798, loss/critic2=7.798, n/ep=0, n/st=1, rew=0.00]                         \n"
     ]
    },
    {
     "name": "stdout",
     "output_type": "stream",
     "text": [
      "Mixed return:  8733.90524774654 Suboptimal return:  6517.519083685333 Expert return:  8796.882329367372 Cede Control:  1.0\n",
      "Epoch #8: test_reward: 4.994641 ± 0.000000, best_reward: 6.639396 ± 0.000000 in #5\n"
     ]
    },
    {
     "name": "stderr",
     "output_type": "stream",
     "text": [
      "Epoch #9: 501it [00:15, 32.04it/s, alpha=0.263, env_step=4500, gradient_step=4500, len=0, loss/actor=-639.807, loss/alpha=-22.574, loss/critic1=7.520, loss/critic2=7.518, n/ep=0, n/st=1, rew=0.00]                         \n"
     ]
    },
    {
     "name": "stdout",
     "output_type": "stream",
     "text": [
      "Mixed return:  8745.142055869506 Suboptimal return:  6914.130016712805 Expert return:  8796.882329367372 Cede Control:  0.958\n",
      "Epoch #9: test_reward: 7.013943 ± 0.000000, best_reward: 7.013943 ± 0.000000 in #9\n"
     ]
    },
    {
     "name": "stderr",
     "output_type": "stream",
     "text": [
      "Epoch #10: 501it [00:15, 32.07it/s, alpha=0.227, env_step=5000, gradient_step=5000, len=0, loss/actor=-649.395, loss/alpha=-24.552, loss/critic1=7.243, loss/critic2=7.241, n/ep=0, n/st=1, rew=0.00]                         \n"
     ]
    },
    {
     "name": "stdout",
     "output_type": "stream",
     "text": [
      "Mixed return:  8548.475402451886 Suboptimal return:  7657.284504057691 Expert return:  8796.882329367372 Cede Control:  0.799\n",
      "Epoch #10: test_reward: 7.806952 ± 0.000000, best_reward: 7.806952 ± 0.000000 in #10\n"
     ]
    },
    {
     "name": "stderr",
     "output_type": "stream",
     "text": [
      "Epoch #11: 501it [00:15, 32.06it/s, alpha=0.197, env_step=5500, gradient_step=5500, len=0, loss/actor=-658.979, loss/alpha=-26.329, loss/critic1=6.962, loss/critic2=6.962, n/ep=0, n/st=1, rew=0.00]                         \n"
     ]
    },
    {
     "name": "stdout",
     "output_type": "stream",
     "text": [
      "Mixed return:  8774.9317745252 Suboptimal return:  6854.501658257803 Expert return:  8796.882329367372 Cede Control:  0.742\n",
      "Epoch #11: test_reward: 5.687944 ± 0.000000, best_reward: 7.806952 ± 0.000000 in #10\n"
     ]
    },
    {
     "name": "stderr",
     "output_type": "stream",
     "text": [
      "Epoch #12: 501it [00:15, 32.07it/s, alpha=0.170, env_step=6000, gradient_step=6000, len=0, loss/actor=-667.901, loss/alpha=-27.979, loss/critic1=6.696, loss/critic2=6.695, n/ep=0, n/st=1, rew=0.00]                         \n"
     ]
    },
    {
     "name": "stdout",
     "output_type": "stream",
     "text": [
      "Mixed return:  8426.330278643625 Suboptimal return:  6806.711161362843 Expert return:  8796.882329367372 Cede Control:  0.7435\n",
      "Epoch #12: test_reward: 8.135039 ± 0.000000, best_reward: 8.135039 ± 0.000000 in #12\n"
     ]
    },
    {
     "name": "stderr",
     "output_type": "stream",
     "text": [
      "Epoch #13: 501it [00:15, 32.10it/s, alpha=0.148, env_step=6500, gradient_step=6500, len=0, loss/actor=-675.186, loss/alpha=-29.419, loss/critic1=6.456, loss/critic2=6.458, n/ep=0, n/st=1, rew=0.00]                         \n"
     ]
    },
    {
     "name": "stdout",
     "output_type": "stream",
     "text": [
      "Mixed return:  8632.340147995135 Suboptimal return:  6274.024307250068 Expert return:  8796.882329367372 Cede Control:  0.7444999999999999\n",
      "Epoch #13: test_reward: 6.771121 ± 0.000000, best_reward: 8.135039 ± 0.000000 in #12\n"
     ]
    },
    {
     "name": "stderr",
     "output_type": "stream",
     "text": [
      "Epoch #14: 501it [00:15, 32.11it/s, alpha=0.128, env_step=7000, gradient_step=7000, len=0, loss/actor=-682.260, loss/alpha=-31.041, loss/critic1=6.187, loss/critic2=6.187, n/ep=0, n/st=1, rew=0.00]                         \n"
     ]
    },
    {
     "name": "stdout",
     "output_type": "stream",
     "text": [
      "Mixed return:  8800.562829657954 Suboptimal return:  7169.517217427342 Expert return:  8796.882329367372 Cede Control:  0.727\n",
      "Epoch #14: test_reward: 5.702249 ± 0.000000, best_reward: 8.135039 ± 0.000000 in #12\n"
     ]
    },
    {
     "name": "stderr",
     "output_type": "stream",
     "text": [
      "Epoch #15: 501it [00:15, 32.18it/s, alpha=0.111, env_step=7500, gradient_step=7500, len=0, loss/actor=-688.594, loss/alpha=-32.224, loss/critic1=5.965, loss/critic2=5.967, n/ep=0, n/st=1, rew=0.00]                         \n"
     ]
    },
    {
     "name": "stdout",
     "output_type": "stream",
     "text": [
      "Mixed return:  8729.552289137155 Suboptimal return:  8006.894153669315 Expert return:  8796.882329367372 Cede Control:  0.6915\n",
      "Epoch #15: test_reward: 8.913133 ± 0.000000, best_reward: 8.913133 ± 0.000000 in #15\n"
     ]
    },
    {
     "name": "stderr",
     "output_type": "stream",
     "text": [
      "Epoch #16: 501it [00:15, 32.01it/s, alpha=0.096, env_step=8000, gradient_step=8000, len=0, loss/actor=-694.763, loss/alpha=-33.701, loss/critic1=5.738, loss/critic2=5.741, n/ep=0, n/st=1, rew=0.00]                         \n"
     ]
    },
    {
     "name": "stdout",
     "output_type": "stream",
     "text": [
      "Mixed return:  8700.598826774692 Suboptimal return:  4712.97377074244 Expert return:  8796.882329367372 Cede Control:  0.677\n",
      "Epoch #16: test_reward: 7.779620 ± 0.000000, best_reward: 8.913133 ± 0.000000 in #15\n"
     ]
    },
    {
     "name": "stderr",
     "output_type": "stream",
     "text": [
      "Epoch #17: 501it [00:15, 31.49it/s, alpha=0.083, env_step=8500, gradient_step=8500, len=0, loss/actor=-700.927, loss/alpha=-34.761, loss/critic1=5.514, loss/critic2=5.515, n/ep=0, n/st=1, rew=0.00]                         \n"
     ]
    },
    {
     "name": "stdout",
     "output_type": "stream",
     "text": [
      "Mixed return:  8836.601762599545 Suboptimal return:  4119.9370674341535 Expert return:  8796.882329367372 Cede Control:  0.664\n",
      "Epoch #17: test_reward: 7.340199 ± 0.000000, best_reward: 8.913133 ± 0.000000 in #15\n"
     ]
    },
    {
     "name": "stderr",
     "output_type": "stream",
     "text": [
      "Epoch #18: 501it [00:15, 32.00it/s, alpha=0.072, env_step=9000, gradient_step=9000, len=0, loss/actor=-707.460, loss/alpha=-35.870, loss/critic1=5.287, loss/critic2=5.288, n/ep=0, n/st=1, rew=0.00]                         \n"
     ]
    },
    {
     "name": "stdout",
     "output_type": "stream",
     "text": [
      "Mixed return:  8625.807548865283 Suboptimal return:  3808.414348773282 Expert return:  8796.882329367372 Cede Control:  0.6695\n",
      "Epoch #18: test_reward: -0.765142 ± 0.000000, best_reward: 8.913133 ± 0.000000 in #15\n"
     ]
    },
    {
     "name": "stderr",
     "output_type": "stream",
     "text": [
      "Epoch #19: 501it [00:15, 32.08it/s, alpha=0.063, env_step=9500, gradient_step=9500, len=0, loss/actor=-713.125, loss/alpha=-37.132, loss/critic1=5.065, loss/critic2=5.064, n/ep=0, n/st=1, rew=0.00]                         \n"
     ]
    },
    {
     "name": "stdout",
     "output_type": "stream",
     "text": [
      "Mixed return:  8686.191781743782 Suboptimal return:  7148.966991591056 Expert return:  8796.882329367372 Cede Control:  0.621\n",
      "Epoch #19: test_reward: 6.017793 ± 0.000000, best_reward: 8.913133 ± 0.000000 in #15\n"
     ]
    },
    {
     "name": "stderr",
     "output_type": "stream",
     "text": [
      "Epoch #20: 501it [00:15, 32.09it/s, alpha=0.054, env_step=10000, gradient_step=10000, len=0, loss/actor=-718.290, loss/alpha=-38.546, loss/critic1=4.874, loss/critic2=4.874, n/ep=0, n/st=1, rew=0.00]                         \n"
     ]
    },
    {
     "name": "stdout",
     "output_type": "stream",
     "text": [
      "Mixed return:  8625.71708809135 Suboptimal return:  6781.385156549357 Expert return:  8796.882329367372 Cede Control:  0.6265000000000001\n",
      "Epoch #20: test_reward: 6.569356 ± 0.000000, best_reward: 8.913133 ± 0.000000 in #15\n"
     ]
    },
    {
     "name": "stderr",
     "output_type": "stream",
     "text": [
      "Epoch #21: 501it [00:15, 32.11it/s, alpha=0.047, env_step=10500, gradient_step=10500, len=0, loss/actor=-723.231, loss/alpha=-39.328, loss/critic1=4.692, loss/critic2=4.692, n/ep=0, n/st=1, rew=0.00]                         \n"
     ]
    },
    {
     "name": "stdout",
     "output_type": "stream",
     "text": [
      "Mixed return:  8661.61799121465 Suboptimal return:  7530.739299176699 Expert return:  8796.882329367372 Cede Control:  0.606\n",
      "Epoch #21: test_reward: -0.596866 ± 0.000000, best_reward: 8.913133 ± 0.000000 in #15\n"
     ]
    },
    {
     "name": "stderr",
     "output_type": "stream",
     "text": [
      "Epoch #22: 501it [00:15, 31.98it/s, alpha=0.041, env_step=11000, gradient_step=11000, len=0, loss/actor=-727.787, loss/alpha=-39.759, loss/critic1=4.521, loss/critic2=4.522, n/ep=0, n/st=1, rew=0.00]                         \n"
     ]
    },
    {
     "name": "stdout",
     "output_type": "stream",
     "text": [
      "Mixed return:  8640.885831562468 Suboptimal return:  4433.526110766306 Expert return:  8796.882329367372 Cede Control:  0.597\n",
      "Epoch #22: test_reward: 6.742375 ± 0.000000, best_reward: 8.913133 ± 0.000000 in #15\n"
     ]
    },
    {
     "name": "stderr",
     "output_type": "stream",
     "text": [
      "Epoch #23: 501it [00:15, 32.15it/s, alpha=0.035, env_step=11500, gradient_step=11500, len=0, loss/actor=-732.960, loss/alpha=-40.908, loss/critic1=4.332, loss/critic2=4.333, n/ep=0, n/st=1, rew=0.00]                         \n"
     ]
    },
    {
     "name": "stdout",
     "output_type": "stream",
     "text": [
      "Mixed return:  8674.60664104584 Suboptimal return:  5280.265184843836 Expert return:  8796.882329367372 Cede Control:  0.5700000000000001\n",
      "Epoch #23: test_reward: 5.905021 ± 0.000000, best_reward: 8.913133 ± 0.000000 in #15\n"
     ]
    },
    {
     "name": "stderr",
     "output_type": "stream",
     "text": [
      "Epoch #24: 501it [00:15, 32.20it/s, alpha=0.031, env_step=12000, gradient_step=12000, len=0, loss/actor=-736.972, loss/alpha=-41.888, loss/critic1=4.170, loss/critic2=4.170, n/ep=0, n/st=1, rew=0.00]                         \n"
     ]
    },
    {
     "name": "stdout",
     "output_type": "stream",
     "text": [
      "Mixed return:  8934.801636493805 Suboptimal return:  5563.416901602372 Expert return:  8796.882329367372 Cede Control:  0.5794999999999999\n",
      "Epoch #24: test_reward: -0.123161 ± 0.000000, best_reward: 8.913133 ± 0.000000 in #15\n"
     ]
    },
    {
     "name": "stderr",
     "output_type": "stream",
     "text": [
      "Epoch #25: 501it [00:15, 32.14it/s, alpha=0.026, env_step=12500, gradient_step=12500, len=0, loss/actor=-741.513, loss/alpha=-43.594, loss/critic1=3.997, loss/critic2=3.997, n/ep=0, n/st=1, rew=0.00]                         \n"
     ]
    },
    {
     "name": "stdout",
     "output_type": "stream",
     "text": [
      "Mixed return:  8478.165260311445 Suboptimal return:  2780.0819925910387 Expert return:  8796.882329367372 Cede Control:  0.5685\n",
      "Epoch #25: test_reward: -0.657959 ± 0.000000, best_reward: 8.913133 ± 0.000000 in #15\n"
     ]
    },
    {
     "name": "stderr",
     "output_type": "stream",
     "text": [
      "Epoch #26: 501it [00:15, 32.14it/s, alpha=0.023, env_step=13000, gradient_step=13000, len=0, loss/actor=-746.469, loss/alpha=-43.446, loss/critic1=3.859, loss/critic2=3.854, n/ep=0, n/st=1, rew=0.00]                         \n"
     ]
    },
    {
     "name": "stdout",
     "output_type": "stream",
     "text": [
      "Mixed return:  8801.518021655207 Suboptimal return:  1379.7670120352832 Expert return:  8796.882329367372 Cede Control:  0.562\n",
      "Epoch #26: test_reward: -0.464537 ± 0.000000, best_reward: 8.913133 ± 0.000000 in #15\n"
     ]
    },
    {
     "name": "stderr",
     "output_type": "stream",
     "text": [
      "Epoch #27: 501it [00:15, 32.12it/s, alpha=0.020, env_step=13500, gradient_step=13500, len=0, loss/actor=-749.806, loss/alpha=-44.463, loss/critic1=3.718, loss/critic2=3.717, n/ep=0, n/st=1, rew=0.00]                         \n"
     ]
    },
    {
     "name": "stdout",
     "output_type": "stream",
     "text": [
      "Mixed return:  8732.947654619757 Suboptimal return:  8472.291283794872 Expert return:  8796.882329367372 Cede Control:  0.532\n",
      "Epoch #27: test_reward: 7.494075 ± 0.000000, best_reward: 8.913133 ± 0.000000 in #15\n"
     ]
    },
    {
     "name": "stderr",
     "output_type": "stream",
     "text": [
      "Epoch #28: 501it [00:15, 32.13it/s, alpha=0.017, env_step=14000, gradient_step=14000, len=0, loss/actor=-753.706, loss/alpha=-45.072, loss/critic1=3.589, loss/critic2=3.588, n/ep=0, n/st=1, rew=0.00]                         \n"
     ]
    },
    {
     "name": "stdout",
     "output_type": "stream",
     "text": [
      "Mixed return:  8776.167327004576 Suboptimal return:  8441.319604971439 Expert return:  8796.882329367372 Cede Control:  0.55\n",
      "Epoch #28: test_reward: 9.089526 ± 0.000000, best_reward: 9.089526 ± 0.000000 in #28\n"
     ]
    },
    {
     "name": "stderr",
     "output_type": "stream",
     "text": [
      "Epoch #29: 501it [00:15, 32.17it/s, alpha=0.015, env_step=14500, gradient_step=14500, len=0, loss/actor=-756.550, loss/alpha=-45.956, loss/critic1=3.481, loss/critic2=3.481, n/ep=0, n/st=1, rew=0.00]                         \n"
     ]
    },
    {
     "name": "stdout",
     "output_type": "stream",
     "text": [
      "Mixed return:  8538.186012432487 Suboptimal return:  5400.977419930872 Expert return:  8796.882329367372 Cede Control:  0.5155000000000001\n",
      "Epoch #29: test_reward: -0.571139 ± 0.000000, best_reward: 9.089526 ± 0.000000 in #28\n"
     ]
    },
    {
     "name": "stderr",
     "output_type": "stream",
     "text": [
      "Epoch #30: 501it [00:15, 32.17it/s, alpha=0.013, env_step=15000, gradient_step=15000, len=0, loss/actor=-759.924, loss/alpha=-47.259, loss/critic1=3.379, loss/critic2=3.379, n/ep=0, n/st=1, rew=0.00]                         \n"
     ]
    },
    {
     "name": "stdout",
     "output_type": "stream",
     "text": [
      "Mixed return:  8616.023677685043 Suboptimal return:  2950.737186465539 Expert return:  8796.882329367372 Cede Control:  0.516\n",
      "Epoch #30: test_reward: -0.562448 ± 0.000000, best_reward: 9.089526 ± 0.000000 in #28\n"
     ]
    },
    {
     "name": "stderr",
     "output_type": "stream",
     "text": [
      "Epoch #31: 501it [00:15, 32.11it/s, alpha=0.011, env_step=15500, gradient_step=15500, len=0, loss/actor=-762.653, loss/alpha=-47.785, loss/critic1=3.279, loss/critic2=3.279, n/ep=0, n/st=1, rew=0.00]                         \n"
     ]
    },
    {
     "name": "stdout",
     "output_type": "stream",
     "text": [
      "Mixed return:  8795.6380177557 Suboptimal return:  5530.771526017646 Expert return:  8796.882329367372 Cede Control:  0.532\n",
      "Epoch #31: test_reward: -0.023165 ± 0.000000, best_reward: 9.089526 ± 0.000000 in #28\n"
     ]
    },
    {
     "name": "stderr",
     "output_type": "stream",
     "text": [
      "Epoch #32: 501it [00:15, 32.12it/s, alpha=0.010, env_step=16000, gradient_step=16000, len=0, loss/actor=-765.215, loss/alpha=-46.807, loss/critic1=3.193, loss/critic2=3.193, n/ep=0, n/st=1, rew=0.00]                         \n"
     ]
    },
    {
     "name": "stdout",
     "output_type": "stream",
     "text": [
      "Mixed return:  8714.826855132658 Suboptimal return:  783.5483847256701 Expert return:  8796.882329367372 Cede Control:  0.492\n",
      "Epoch #32: test_reward: -0.439231 ± 0.000000, best_reward: 9.089526 ± 0.000000 in #28\n"
     ]
    },
    {
     "name": "stderr",
     "output_type": "stream",
     "text": [
      "Epoch #33: 501it [00:15, 31.93it/s, alpha=0.008, env_step=16500, gradient_step=16500, len=0, loss/actor=-767.864, loss/alpha=-47.738, loss/critic1=3.111, loss/critic2=3.108, n/ep=0, n/st=1, rew=0.00]                         \n"
     ]
    },
    {
     "name": "stdout",
     "output_type": "stream",
     "text": [
      "Mixed return:  8858.71279925714 Suboptimal return:  7129.431320051069 Expert return:  8796.882329367372 Cede Control:  0.4765\n",
      "Epoch #33: test_reward: -0.536734 ± 0.000000, best_reward: 9.089526 ± 0.000000 in #28\n"
     ]
    },
    {
     "name": "stderr",
     "output_type": "stream",
     "text": [
      "Epoch #34: 501it [00:15, 32.13it/s, alpha=0.007, env_step=17000, gradient_step=17000, len=0, loss/actor=-770.436, loss/alpha=-48.206, loss/critic1=3.051, loss/critic2=3.050, n/ep=0, n/st=1, rew=0.00]                         \n"
     ]
    },
    {
     "name": "stdout",
     "output_type": "stream",
     "text": [
      "Mixed return:  9041.590949177622 Suboptimal return:  8944.047459445414 Expert return:  8796.882329367372 Cede Control:  0.4425\n",
      "Epoch #34: test_reward: 9.083332 ± 0.000000, best_reward: 9.089526 ± 0.000000 in #28\n"
     ]
    },
    {
     "name": "stderr",
     "output_type": "stream",
     "text": [
      "Epoch #35: 501it [00:15, 31.72it/s, alpha=0.006, env_step=17500, gradient_step=17500, len=0, loss/actor=-772.806, loss/alpha=-49.731, loss/critic1=2.978, loss/critic2=2.978, n/ep=0, n/st=1, rew=0.00]                         \n"
     ]
    },
    {
     "name": "stdout",
     "output_type": "stream",
     "text": [
      "Mixed return:  8884.776197514086 Suboptimal return:  1124.2278575446107 Expert return:  8796.882329367372 Cede Control:  0.453\n",
      "Epoch #35: test_reward: -0.646848 ± 0.000000, best_reward: 9.089526 ± 0.000000 in #28\n"
     ]
    },
    {
     "name": "stderr",
     "output_type": "stream",
     "text": [
      "Epoch #36: 501it [00:15, 32.03it/s, alpha=0.005, env_step=18000, gradient_step=18000, len=0, loss/actor=-775.841, loss/alpha=-50.040, loss/critic1=2.911, loss/critic2=2.910, n/ep=0, n/st=1, rew=0.00]                         \n"
     ]
    },
    {
     "name": "stdout",
     "output_type": "stream",
     "text": [
      "Mixed return:  8664.795327874019 Suboptimal return:  6442.929365198647 Expert return:  8796.882329367372 Cede Control:  0.445\n",
      "Epoch #36: test_reward: -0.496650 ± 0.000000, best_reward: 9.089526 ± 0.000000 in #28\n"
     ]
    },
    {
     "name": "stderr",
     "output_type": "stream",
     "text": [
      "Epoch #37: 501it [00:15, 32.08it/s, alpha=0.005, env_step=18500, gradient_step=18500, len=0, loss/actor=-778.389, loss/alpha=-49.880, loss/critic1=2.836, loss/critic2=2.834, n/ep=0, n/st=1, rew=0.00]                         \n"
     ]
    },
    {
     "name": "stdout",
     "output_type": "stream",
     "text": [
      "Mixed return:  8828.796146645962 Suboptimal return:  7822.228336932547 Expert return:  8796.882329367372 Cede Control:  0.4525\n",
      "Epoch #37: test_reward: 8.647808 ± 0.000000, best_reward: 9.089526 ± 0.000000 in #28\n"
     ]
    },
    {
     "name": "stderr",
     "output_type": "stream",
     "text": [
      "Epoch #38: 501it [00:15, 32.08it/s, alpha=0.004, env_step=19000, gradient_step=19000, len=0, loss/actor=-780.929, loss/alpha=-50.814, loss/critic1=2.796, loss/critic2=2.793, n/ep=0, n/st=1, rew=0.00]                         \n"
     ]
    },
    {
     "name": "stdout",
     "output_type": "stream",
     "text": [
      "Mixed return:  8640.857405624702 Suboptimal return:  8349.80224973675 Expert return:  8796.882329367372 Cede Control:  0.44\n",
      "Epoch #38: test_reward: 8.157341 ± 0.000000, best_reward: 9.089526 ± 0.000000 in #28\n"
     ]
    },
    {
     "name": "stderr",
     "output_type": "stream",
     "text": [
      "Epoch #39: 501it [00:15, 32.10it/s, alpha=0.004, env_step=19500, gradient_step=19500, len=0, loss/actor=-782.890, loss/alpha=-51.688, loss/critic1=2.754, loss/critic2=2.755, n/ep=0, n/st=1, rew=0.00]                         \n"
     ]
    },
    {
     "name": "stdout",
     "output_type": "stream",
     "text": [
      "Mixed return:  5825.32223603428 Suboptimal return:  7454.131791463329 Expert return:  8796.882329367372 Cede Control:  0.5335\n",
      "Epoch #39: test_reward: 9.499884 ± 0.000000, best_reward: 9.499884 ± 0.000000 in #39\n"
     ]
    },
    {
     "name": "stderr",
     "output_type": "stream",
     "text": [
      "Epoch #40: 501it [00:15, 32.11it/s, alpha=0.003, env_step=20000, gradient_step=20000, len=0, loss/actor=-785.473, loss/alpha=-51.817, loss/critic1=2.697, loss/critic2=2.694, n/ep=0, n/st=1, rew=0.00]                         \n"
     ]
    },
    {
     "name": "stdout",
     "output_type": "stream",
     "text": [
      "Mixed return:  8710.781063348912 Suboptimal return:  8162.944396784977 Expert return:  8796.882329367372 Cede Control:  0.424\n",
      "Epoch #40: test_reward: 6.153088 ± 0.000000, best_reward: 9.499884 ± 0.000000 in #39\n"
     ]
    },
    {
     "name": "stderr",
     "output_type": "stream",
     "text": [
      "Epoch #41: 501it [00:15, 32.14it/s, alpha=0.003, env_step=20500, gradient_step=20500, len=0, loss/actor=-787.385, loss/alpha=-52.175, loss/critic1=2.662, loss/critic2=2.658, n/ep=0, n/st=1, rew=0.00]                         \n"
     ]
    },
    {
     "name": "stdout",
     "output_type": "stream",
     "text": [
      "Mixed return:  9030.695173628144 Suboptimal return:  3703.906637041531 Expert return:  8796.882329367372 Cede Control:  0.406\n",
      "Epoch #41: test_reward: -0.555664 ± 0.000000, best_reward: 9.499884 ± 0.000000 in #39\n"
     ]
    },
    {
     "name": "stderr",
     "output_type": "stream",
     "text": [
      "Epoch #42: 501it [00:15, 31.95it/s, alpha=0.002, env_step=21000, gradient_step=21000, len=0, loss/actor=-789.062, loss/alpha=-53.341, loss/critic1=2.647, loss/critic2=2.646, n/ep=0, n/st=1, rew=0.00]                         \n"
     ]
    },
    {
     "name": "stdout",
     "output_type": "stream",
     "text": [
      "Mixed return:  8917.491425010247 Suboptimal return:  7143.6894271625615 Expert return:  8796.882329367372 Cede Control:  0.41300000000000003\n",
      "Epoch #42: test_reward: -0.330505 ± 0.000000, best_reward: 9.499884 ± 0.000000 in #39\n"
     ]
    },
    {
     "name": "stderr",
     "output_type": "stream",
     "text": [
      "Epoch #43: 501it [00:15, 32.08it/s, alpha=0.002, env_step=21500, gradient_step=21500, len=0, loss/actor=-791.411, loss/alpha=-52.057, loss/critic1=2.599, loss/critic2=2.598, n/ep=0, n/st=1, rew=0.00]                         \n"
     ]
    },
    {
     "name": "stdout",
     "output_type": "stream",
     "text": [
      "Mixed return:  8598.451392972627 Suboptimal return:  8247.750759587236 Expert return:  8796.882329367372 Cede Control:  0.3855\n",
      "Epoch #43: test_reward: 7.584973 ± 0.000000, best_reward: 9.499884 ± 0.000000 in #39\n"
     ]
    },
    {
     "name": "stderr",
     "output_type": "stream",
     "text": [
      "Epoch #44: 501it [00:15, 31.78it/s, alpha=0.002, env_step=22000, gradient_step=22000, len=0, loss/actor=-793.660, loss/alpha=-55.158, loss/critic1=2.552, loss/critic2=2.550, n/ep=0, n/st=1, rew=0.00]                         \n"
     ]
    },
    {
     "name": "stdout",
     "output_type": "stream",
     "text": [
      "Mixed return:  8210.585486612621 Suboptimal return:  4681.153045983723 Expert return:  8796.882329367372 Cede Control:  0.4\n",
      "Epoch #44: test_reward: 8.455050 ± 0.000000, best_reward: 9.499884 ± 0.000000 in #39\n"
     ]
    },
    {
     "name": "stderr",
     "output_type": "stream",
     "text": [
      "Epoch #45: 501it [00:15, 31.91it/s, alpha=0.001, env_step=22500, gradient_step=22500, len=0, loss/actor=-794.375, loss/alpha=-55.544, loss/critic1=2.564, loss/critic2=2.561, n/ep=0, n/st=1, rew=0.00]                         \n"
     ]
    },
    {
     "name": "stdout",
     "output_type": "stream",
     "text": [
      "Mixed return:  9084.087224211642 Suboptimal return:  7800.67678272981 Expert return:  8796.882329367372 Cede Control:  0.38\n",
      "Epoch #45: test_reward: -0.570272 ± 0.000000, best_reward: 9.499884 ± 0.000000 in #39\n"
     ]
    },
    {
     "name": "stderr",
     "output_type": "stream",
     "text": [
      "Epoch #46: 501it [00:15, 31.90it/s, alpha=0.001, env_step=23000, gradient_step=23000, len=0, loss/actor=-796.740, loss/alpha=-55.951, loss/critic1=2.494, loss/critic2=2.490, n/ep=0, n/st=1, rew=0.00]                         \n"
     ]
    },
    {
     "name": "stdout",
     "output_type": "stream",
     "text": [
      "Mixed return:  9094.092285909122 Suboptimal return:  6677.275006725309 Expert return:  8796.882329367372 Cede Control:  0.377\n",
      "Epoch #46: test_reward: -0.584981 ± 0.000000, best_reward: 9.499884 ± 0.000000 in #39\n"
     ]
    },
    {
     "name": "stderr",
     "output_type": "stream",
     "text": [
      "Epoch #47: 501it [00:15, 31.82it/s, alpha=0.001, env_step=23500, gradient_step=23500, len=0, loss/actor=-798.578, loss/alpha=-55.960, loss/critic1=2.511, loss/critic2=2.508, n/ep=0, n/st=1, rew=0.00]                         \n"
     ]
    },
    {
     "name": "stdout",
     "output_type": "stream",
     "text": [
      "Mixed return:  9126.934794549663 Suboptimal return:  9021.34978338157 Expert return:  8796.882329367372 Cede Control:  0.3375\n",
      "Epoch #47: test_reward: 9.640761 ± 0.000000, best_reward: 9.640761 ± 0.000000 in #47\n"
     ]
    },
    {
     "name": "stderr",
     "output_type": "stream",
     "text": [
      "Epoch #48: 501it [00:15, 31.82it/s, alpha=0.001, env_step=24000, gradient_step=24000, len=0, loss/actor=-799.328, loss/alpha=-57.190, loss/critic1=2.453, loss/critic2=2.449, n/ep=0, n/st=1, rew=0.00]                         \n"
     ]
    },
    {
     "name": "stdout",
     "output_type": "stream",
     "text": [
      "Mixed return:  8633.2498339906 Suboptimal return:  4304.498008084831 Expert return:  8796.882329367372 Cede Control:  0.3375\n",
      "Epoch #48: test_reward: 9.387340 ± 0.000000, best_reward: 9.640761 ± 0.000000 in #47\n"
     ]
    },
    {
     "name": "stderr",
     "output_type": "stream",
     "text": [
      "Epoch #49: 501it [00:15, 31.93it/s, alpha=0.001, env_step=24500, gradient_step=24500, len=0, loss/actor=-801.135, loss/alpha=-57.316, loss/critic1=2.426, loss/critic2=2.426, n/ep=0, n/st=1, rew=0.00]                         \n"
     ]
    },
    {
     "name": "stdout",
     "output_type": "stream",
     "text": [
      "Mixed return:  9063.466692897715 Suboptimal return:  8306.880891859591 Expert return:  8796.882329367372 Cede Control:  0.352\n",
      "Epoch #49: test_reward: 7.931120 ± 0.000000, best_reward: 9.640761 ± 0.000000 in #47\n"
     ]
    },
    {
     "name": "stderr",
     "output_type": "stream",
     "text": [
      "Epoch #50: 501it [00:15, 31.83it/s, alpha=0.001, env_step=25000, gradient_step=25000, len=0, loss/actor=-803.081, loss/alpha=-57.106, loss/critic1=2.378, loss/critic2=2.375, n/ep=0, n/st=1, rew=0.00]                         \n"
     ]
    },
    {
     "name": "stdout",
     "output_type": "stream",
     "text": [
      "Mixed return:  9152.604143106812 Suboptimal return:  4455.041049333709 Expert return:  8796.882329367372 Cede Control:  0.308\n",
      "Epoch #50: test_reward: 9.750167 ± 0.000000, best_reward: 9.750167 ± 0.000000 in #50\n"
     ]
    },
    {
     "name": "stderr",
     "output_type": "stream",
     "text": [
      "Epoch #51: 501it [00:15, 31.91it/s, alpha=0.001, env_step=25500, gradient_step=25500, len=0, loss/actor=-804.191, loss/alpha=-57.931, loss/critic1=2.376, loss/critic2=2.375, n/ep=0, n/st=1, rew=0.00]                         \n"
     ]
    },
    {
     "name": "stdout",
     "output_type": "stream",
     "text": [
      "Mixed return:  9093.615484698737 Suboptimal return:  9000.681512031233 Expert return:  8796.882329367372 Cede Control:  0.2945\n",
      "Epoch #51: test_reward: 9.097674 ± 0.000000, best_reward: 9.750167 ± 0.000000 in #50\n"
     ]
    },
    {
     "name": "stderr",
     "output_type": "stream",
     "text": [
      "Epoch #52: 501it [00:15, 31.86it/s, alpha=0.001, env_step=26000, gradient_step=26000, len=0, loss/actor=-805.149, loss/alpha=-58.486, loss/critic1=2.357, loss/critic2=2.354, n/ep=0, n/st=1, rew=0.00]                         \n"
     ]
    },
    {
     "name": "stdout",
     "output_type": "stream",
     "text": [
      "Mixed return:  9079.133805099485 Suboptimal return:  9073.172052307425 Expert return:  8796.882329367372 Cede Control:  0.297\n",
      "Epoch #52: test_reward: 8.964069 ± 0.000000, best_reward: 9.750167 ± 0.000000 in #50\n"
     ]
    },
    {
     "name": "stderr",
     "output_type": "stream",
     "text": [
      "Epoch #53: 501it [00:15, 31.89it/s, alpha=0.000, env_step=26500, gradient_step=26500, len=0, loss/actor=-806.737, loss/alpha=-57.516, loss/critic1=2.377, loss/critic2=2.376, n/ep=0, n/st=1, rew=0.00]                         \n"
     ]
    },
    {
     "name": "stdout",
     "output_type": "stream",
     "text": [
      "Mixed return:  9248.645184763816 Suboptimal return:  6103.416548252382 Expert return:  8796.882329367372 Cede Control:  0.28500000000000003\n",
      "Epoch #53: test_reward: 9.639585 ± 0.000000, best_reward: 9.750167 ± 0.000000 in #50\n"
     ]
    },
    {
     "name": "stderr",
     "output_type": "stream",
     "text": [
      "Epoch #54: 501it [00:15, 31.79it/s, alpha=0.000, env_step=27000, gradient_step=27000, len=0, loss/actor=-807.600, loss/alpha=-59.646, loss/critic1=2.344, loss/critic2=2.343, n/ep=0, n/st=1, rew=0.00]                         \n"
     ]
    },
    {
     "name": "stdout",
     "output_type": "stream",
     "text": [
      "Mixed return:  9172.383759314547 Suboptimal return:  9275.115283904852 Expert return:  8796.882329367372 Cede Control:  0.2965\n",
      "Epoch #54: test_reward: 9.956017 ± 0.000000, best_reward: 9.956017 ± 0.000000 in #54\n"
     ]
    },
    {
     "name": "stderr",
     "output_type": "stream",
     "text": [
      "Epoch #55: 501it [00:15, 31.85it/s, alpha=0.000, env_step=27500, gradient_step=27500, len=0, loss/actor=-809.368, loss/alpha=-58.840, loss/critic1=2.330, loss/critic2=2.329, n/ep=0, n/st=1, rew=0.00]                         \n"
     ]
    },
    {
     "name": "stdout",
     "output_type": "stream",
     "text": [
      "Mixed return:  9110.255592806952 Suboptimal return:  9012.126891789663 Expert return:  8796.882329367372 Cede Control:  0.32\n",
      "Epoch #55: test_reward: 10.045439 ± 0.000000, best_reward: 10.045439 ± 0.000000 in #55\n"
     ]
    },
    {
     "name": "stderr",
     "output_type": "stream",
     "text": [
      "Epoch #56: 501it [00:15, 31.82it/s, alpha=0.000, env_step=28000, gradient_step=28000, len=0, loss/actor=-811.142, loss/alpha=-62.508, loss/critic1=2.298, loss/critic2=2.296, n/ep=0, n/st=1, rew=0.00]                         \n"
     ]
    },
    {
     "name": "stdout",
     "output_type": "stream",
     "text": [
      "Mixed return:  9395.823334570388 Suboptimal return:  9743.061137461293 Expert return:  8796.882329367372 Cede Control:  0.28\n",
      "Epoch #56: test_reward: 9.345672 ± 0.000000, best_reward: 10.045439 ± 0.000000 in #55\n"
     ]
    },
    {
     "name": "stderr",
     "output_type": "stream",
     "text": [
      "Epoch #57: 501it [00:15, 31.82it/s, alpha=0.000, env_step=28500, gradient_step=28500, len=0, loss/actor=-811.881, loss/alpha=-60.151, loss/critic1=2.284, loss/critic2=2.279, n/ep=0, n/st=1, rew=0.00]                         \n"
     ]
    },
    {
     "name": "stdout",
     "output_type": "stream",
     "text": [
      "Mixed return:  9380.065798086198 Suboptimal return:  9285.037643214015 Expert return:  8796.882329367372 Cede Control:  0.2925\n",
      "Epoch #57: test_reward: 9.949804 ± 0.000000, best_reward: 10.045439 ± 0.000000 in #55\n"
     ]
    },
    {
     "name": "stderr",
     "output_type": "stream",
     "text": [
      "Epoch #58: 501it [00:15, 31.86it/s, alpha=0.000, env_step=29000, gradient_step=29000, len=0, loss/actor=-812.646, loss/alpha=-58.825, loss/critic1=2.282, loss/critic2=2.278, n/ep=0, n/st=1, rew=0.00]                         \n"
     ]
    },
    {
     "name": "stdout",
     "output_type": "stream",
     "text": [
      "Mixed return:  9359.035634682776 Suboptimal return:  9459.795961811127 Expert return:  8796.882329367372 Cede Control:  0.2755\n",
      "Epoch #58: test_reward: 9.322250 ± 0.000000, best_reward: 10.045439 ± 0.000000 in #55\n"
     ]
    },
    {
     "name": "stderr",
     "output_type": "stream",
     "text": [
      "Epoch #59: 501it [00:15, 31.87it/s, alpha=0.000, env_step=29500, gradient_step=29500, len=0, loss/actor=-813.983, loss/alpha=-61.733, loss/critic1=2.249, loss/critic2=2.246, n/ep=0, n/st=1, rew=0.00]                         \n"
     ]
    },
    {
     "name": "stdout",
     "output_type": "stream",
     "text": [
      "Mixed return:  9338.985550108184 Suboptimal return:  4437.480175521645 Expert return:  8796.882329367372 Cede Control:  0.2675\n",
      "Epoch #59: test_reward: -0.913261 ± 0.000000, best_reward: 10.045439 ± 0.000000 in #55\n"
     ]
    },
    {
     "name": "stderr",
     "output_type": "stream",
     "text": [
      "Epoch #60: 501it [00:16, 31.07it/s, alpha=0.000, env_step=30000, gradient_step=30000, len=0, loss/actor=-815.263, loss/alpha=-62.366, loss/critic1=2.241, loss/critic2=2.237, n/ep=0, n/st=1, rew=0.00]                         \n"
     ]
    },
    {
     "name": "stdout",
     "output_type": "stream",
     "text": [
      "Mixed return:  9376.140798815122 Suboptimal return:  9390.416961000927 Expert return:  8796.882329367372 Cede Control:  0.274\n",
      "Epoch #60: test_reward: 10.135147 ± 0.000000, best_reward: 10.135147 ± 0.000000 in #60\n"
     ]
    },
    {
     "name": "stderr",
     "output_type": "stream",
     "text": [
      "Epoch #61: 501it [00:15, 31.72it/s, alpha=0.000, env_step=30500, gradient_step=30500, len=0, loss/actor=-815.978, loss/alpha=-61.986, loss/critic1=2.211, loss/critic2=2.206, n/ep=0, n/st=1, rew=0.00]                         \n"
     ]
    },
    {
     "name": "stdout",
     "output_type": "stream",
     "text": [
      "Mixed return:  9474.177620730297 Suboptimal return:  9769.032173333915 Expert return:  8796.882329367372 Cede Control:  0.256\n",
      "Epoch #61: test_reward: 9.450590 ± 0.000000, best_reward: 10.135147 ± 0.000000 in #60\n"
     ]
    },
    {
     "name": "stderr",
     "output_type": "stream",
     "text": [
      "Epoch #62: 501it [00:15, 31.54it/s, alpha=0.000, env_step=31000, gradient_step=31000, len=0, loss/actor=-816.916, loss/alpha=-63.358, loss/critic1=2.217, loss/critic2=2.215, n/ep=0, n/st=1, rew=0.00]                         \n"
     ]
    },
    {
     "name": "stdout",
     "output_type": "stream",
     "text": [
      "Mixed return:  9416.436745304349 Suboptimal return:  9658.10386734586 Expert return:  8796.882329367372 Cede Control:  0.23299999999999998\n",
      "Epoch #62: test_reward: 5.815002 ± 0.000000, best_reward: 10.135147 ± 0.000000 in #60\n"
     ]
    },
    {
     "name": "stderr",
     "output_type": "stream",
     "text": [
      "Epoch #63: 501it [00:15, 31.85it/s, alpha=0.000, env_step=31500, gradient_step=31500, len=0, loss/actor=-818.171, loss/alpha=-63.226, loss/critic1=2.191, loss/critic2=2.187, n/ep=0, n/st=1, rew=0.00]                         \n"
     ]
    },
    {
     "name": "stdout",
     "output_type": "stream",
     "text": [
      "Mixed return:  9481.253963101874 Suboptimal return:  9759.240035718645 Expert return:  8796.882329367372 Cede Control:  0.2245\n",
      "Epoch #63: test_reward: 10.015638 ± 0.000000, best_reward: 10.135147 ± 0.000000 in #60\n"
     ]
    },
    {
     "name": "stderr",
     "output_type": "stream",
     "text": [
      "Epoch #64: 501it [00:15, 31.91it/s, alpha=0.000, env_step=32000, gradient_step=32000, len=0, loss/actor=-819.345, loss/alpha=-61.148, loss/critic1=2.184, loss/critic2=2.179, n/ep=0, n/st=1, rew=0.00]                         \n"
     ]
    },
    {
     "name": "stdout",
     "output_type": "stream",
     "text": [
      "Mixed return:  9230.91776619893 Suboptimal return:  9508.552209956748 Expert return:  8796.882329367372 Cede Control:  0.2215\n",
      "Epoch #64: test_reward: 10.145243 ± 0.000000, best_reward: 10.145243 ± 0.000000 in #64\n"
     ]
    },
    {
     "name": "stderr",
     "output_type": "stream",
     "text": [
      "Epoch #65: 501it [00:15, 31.86it/s, alpha=0.000, env_step=32500, gradient_step=32500, len=0, loss/actor=-820.484, loss/alpha=-62.409, loss/critic1=2.180, loss/critic2=2.175, n/ep=0, n/st=1, rew=0.00]                         \n"
     ]
    },
    {
     "name": "stdout",
     "output_type": "stream",
     "text": [
      "Mixed return:  9384.906590036728 Suboptimal return:  9663.916832413417 Expert return:  8796.882329367372 Cede Control:  0.2285\n",
      "Epoch #65: test_reward: 9.685010 ± 0.000000, best_reward: 10.145243 ± 0.000000 in #64\n"
     ]
    },
    {
     "name": "stderr",
     "output_type": "stream",
     "text": [
      "Epoch #66: 501it [00:15, 31.85it/s, alpha=0.000, env_step=33000, gradient_step=33000, len=0, loss/actor=-821.664, loss/alpha=-62.688, loss/critic1=2.174, loss/critic2=2.174, n/ep=0, n/st=1, rew=0.00]                         \n"
     ]
    },
    {
     "name": "stdout",
     "output_type": "stream",
     "text": [
      "Mixed return:  9323.039573830469 Suboptimal return:  9401.80537628719 Expert return:  8796.882329367372 Cede Control:  0.22\n",
      "Epoch #66: test_reward: 8.895656 ± 0.000000, best_reward: 10.145243 ± 0.000000 in #64\n"
     ]
    },
    {
     "name": "stderr",
     "output_type": "stream",
     "text": [
      "Epoch #67: 501it [00:15, 31.73it/s, alpha=0.000, env_step=33500, gradient_step=33500, len=0, loss/actor=-821.520, loss/alpha=-62.816, loss/critic1=2.171, loss/critic2=2.166, n/ep=0, n/st=1, rew=0.00]                         \n"
     ]
    },
    {
     "name": "stdout",
     "output_type": "stream",
     "text": [
      "Mixed return:  9628.499648597348 Suboptimal return:  9866.847847454592 Expert return:  8796.882329367372 Cede Control:  0.228\n",
      "Epoch #67: test_reward: 9.818840 ± 0.000000, best_reward: 10.145243 ± 0.000000 in #64\n"
     ]
    },
    {
     "name": "stderr",
     "output_type": "stream",
     "text": [
      "Epoch #68: 501it [00:15, 31.95it/s, alpha=0.000, env_step=34000, gradient_step=34000, len=0, loss/actor=-822.841, loss/alpha=-65.147, loss/critic1=2.131, loss/critic2=2.127, n/ep=0, n/st=1, rew=0.00]                         \n"
     ]
    },
    {
     "name": "stdout",
     "output_type": "stream",
     "text": [
      "Mixed return:  9520.893811878546 Suboptimal return:  9844.082734139782 Expert return:  8796.882329367372 Cede Control:  0.225\n",
      "Epoch #68: test_reward: 9.988008 ± 0.000000, best_reward: 10.145243 ± 0.000000 in #64\n"
     ]
    },
    {
     "name": "stderr",
     "output_type": "stream",
     "text": [
      "Epoch #69: 501it [00:15, 31.92it/s, alpha=0.000, env_step=34500, gradient_step=34500, len=0, loss/actor=-823.842, loss/alpha=-62.410, loss/critic1=2.135, loss/critic2=2.134, n/ep=0, n/st=1, rew=0.00]                         \n"
     ]
    },
    {
     "name": "stdout",
     "output_type": "stream",
     "text": [
      "Mixed return:  9560.998700809247 Suboptimal return:  9777.685805793071 Expert return:  8796.882329367372 Cede Control:  0.22\n",
      "Epoch #69: test_reward: 10.130444 ± 0.000000, best_reward: 10.145243 ± 0.000000 in #64\n"
     ]
    },
    {
     "name": "stderr",
     "output_type": "stream",
     "text": [
      "Epoch #70: 501it [00:15, 31.89it/s, alpha=0.000, env_step=35000, gradient_step=35000, len=0, loss/actor=-824.795, loss/alpha=-64.327, loss/critic1=2.130, loss/critic2=2.130, n/ep=0, n/st=1, rew=0.00]                         \n"
     ]
    },
    {
     "name": "stdout",
     "output_type": "stream",
     "text": [
      "Mixed return:  9569.252913973785 Suboptimal return:  9868.181711724686 Expert return:  8796.882329367372 Cede Control:  0.2145\n",
      "Epoch #70: test_reward: 9.966659 ± 0.000000, best_reward: 10.145243 ± 0.000000 in #64\n"
     ]
    },
    {
     "name": "stderr",
     "output_type": "stream",
     "text": [
      "Epoch #71: 501it [00:15, 31.93it/s, alpha=0.000, env_step=35500, gradient_step=35500, len=0, loss/actor=-826.177, loss/alpha=-63.208, loss/critic1=2.114, loss/critic2=2.112, n/ep=0, n/st=1, rew=0.00]                         \n"
     ]
    },
    {
     "name": "stdout",
     "output_type": "stream",
     "text": [
      "Mixed return:  9597.425873492784 Suboptimal return:  9854.27818630308 Expert return:  8796.882329367372 Cede Control:  0.225\n",
      "Epoch #71: test_reward: 10.454836 ± 0.000000, best_reward: 10.454836 ± 0.000000 in #71\n"
     ]
    },
    {
     "name": "stderr",
     "output_type": "stream",
     "text": [
      "Epoch #72: 501it [00:15, 31.87it/s, alpha=0.000, env_step=36000, gradient_step=36000, len=0, loss/actor=-826.804, loss/alpha=-62.985, loss/critic1=2.104, loss/critic2=2.098, n/ep=0, n/st=1, rew=0.00]                         \n"
     ]
    },
    {
     "name": "stdout",
     "output_type": "stream",
     "text": [
      "Mixed return:  9604.742356259674 Suboptimal return:  9852.595890282948 Expert return:  8796.882329367372 Cede Control:  0.2015\n",
      "Epoch #72: test_reward: 10.121992 ± 0.000000, best_reward: 10.454836 ± 0.000000 in #71\n"
     ]
    },
    {
     "name": "stderr",
     "output_type": "stream",
     "text": [
      "Epoch #73: 501it [00:15, 32.01it/s, alpha=0.000, env_step=36500, gradient_step=36500, len=0, loss/actor=-827.870, loss/alpha=-64.061, loss/critic1=2.106, loss/critic2=2.104, n/ep=0, n/st=1, rew=0.00]                         \n"
     ]
    },
    {
     "name": "stdout",
     "output_type": "stream",
     "text": [
      "Mixed return:  9488.932943793588 Suboptimal return:  9934.059221295196 Expert return:  8796.882329367372 Cede Control:  0.201\n",
      "Epoch #73: test_reward: 10.037302 ± 0.000000, best_reward: 10.454836 ± 0.000000 in #71\n"
     ]
    },
    {
     "name": "stderr",
     "output_type": "stream",
     "text": [
      "Epoch #74: 501it [00:15, 31.82it/s, alpha=0.000, env_step=37000, gradient_step=37000, len=0, loss/actor=-828.884, loss/alpha=-63.983, loss/critic1=2.088, loss/critic2=2.086, n/ep=0, n/st=1, rew=0.00]                         \n"
     ]
    },
    {
     "name": "stdout",
     "output_type": "stream",
     "text": [
      "Mixed return:  9499.585292846255 Suboptimal return:  9711.842082278014 Expert return:  8796.882329367372 Cede Control:  0.189\n",
      "Epoch #74: test_reward: 10.000278 ± 0.000000, best_reward: 10.454836 ± 0.000000 in #71\n"
     ]
    },
    {
     "name": "stderr",
     "output_type": "stream",
     "text": [
      "Epoch #75: 501it [00:15, 31.97it/s, alpha=0.000, env_step=37500, gradient_step=37500, len=0, loss/actor=-829.705, loss/alpha=-63.779, loss/critic1=2.079, loss/critic2=2.075, n/ep=0, n/st=1, rew=0.00]                         \n"
     ]
    },
    {
     "name": "stdout",
     "output_type": "stream",
     "text": [
      "Mixed return:  9569.65943513672 Suboptimal return:  9247.099929395754 Expert return:  8796.882329367372 Cede Control:  0.207\n",
      "Epoch #75: test_reward: 9.526762 ± 0.000000, best_reward: 10.454836 ± 0.000000 in #71\n"
     ]
    },
    {
     "name": "stderr",
     "output_type": "stream",
     "text": [
      "Epoch #76: 501it [00:15, 31.89it/s, alpha=0.000, env_step=38000, gradient_step=38000, len=0, loss/actor=-830.219, loss/alpha=-63.924, loss/critic1=2.063, loss/critic2=2.060, n/ep=0, n/st=1, rew=0.00]                         \n"
     ]
    },
    {
     "name": "stdout",
     "output_type": "stream",
     "text": [
      "Mixed return:  9597.283295745736 Suboptimal return:  9906.783152986412 Expert return:  8796.882329367372 Cede Control:  0.1635\n",
      "Epoch #76: test_reward: 10.143486 ± 0.000000, best_reward: 10.454836 ± 0.000000 in #71\n"
     ]
    },
    {
     "name": "stderr",
     "output_type": "stream",
     "text": [
      "Epoch #77: 501it [00:15, 31.91it/s, alpha=0.000, env_step=38500, gradient_step=38500, len=0, loss/actor=-831.195, loss/alpha=-69.561, loss/critic1=2.045, loss/critic2=2.042, n/ep=0, n/st=1, rew=0.00]                         \n"
     ]
    },
    {
     "name": "stdout",
     "output_type": "stream",
     "text": [
      "Mixed return:  9597.7567597763 Suboptimal return:  9705.599784801721 Expert return:  8796.882329367372 Cede Control:  0.16949999999999998\n",
      "Epoch #77: test_reward: 10.544361 ± 0.000000, best_reward: 10.544361 ± 0.000000 in #77\n"
     ]
    },
    {
     "name": "stderr",
     "output_type": "stream",
     "text": [
      "Epoch #78: 501it [00:15, 31.87it/s, alpha=0.000, env_step=39000, gradient_step=39000, len=0, loss/actor=-831.676, loss/alpha=-65.484, loss/critic1=2.038, loss/critic2=2.035, n/ep=0, n/st=1, rew=0.00]                         \n"
     ]
    },
    {
     "name": "stdout",
     "output_type": "stream",
     "text": [
      "Mixed return:  9694.900538321857 Suboptimal return:  9929.370286905927 Expert return:  8796.882329367372 Cede Control:  0.16349999999999998\n",
      "Epoch #78: test_reward: 10.009652 ± 0.000000, best_reward: 10.544361 ± 0.000000 in #77\n"
     ]
    },
    {
     "name": "stderr",
     "output_type": "stream",
     "text": [
      "Epoch #79: 501it [00:15, 31.84it/s, alpha=0.000, env_step=39500, gradient_step=39500, len=0, loss/actor=-832.844, loss/alpha=-65.307, loss/critic1=1.985, loss/critic2=1.983, n/ep=0, n/st=1, rew=0.00]                         \n"
     ]
    },
    {
     "name": "stdout",
     "output_type": "stream",
     "text": [
      "Mixed return:  9519.53501854714 Suboptimal return:  9842.390171928091 Expert return:  8796.882329367372 Cede Control:  0.1815\n",
      "Epoch #79: test_reward: 9.815753 ± 0.000000, best_reward: 10.544361 ± 0.000000 in #77\n"
     ]
    },
    {
     "name": "stderr",
     "output_type": "stream",
     "text": [
      "Epoch #80: 501it [00:15, 31.54it/s, alpha=0.000, env_step=40000, gradient_step=40000, len=0, loss/actor=-832.621, loss/alpha=-67.399, loss/critic1=1.968, loss/critic2=1.966, n/ep=0, n/st=1, rew=0.00]                         \n"
     ]
    },
    {
     "name": "stdout",
     "output_type": "stream",
     "text": [
      "Mixed return:  9813.780427902024 Suboptimal return:  10093.175114843925 Expert return:  8796.882329367372 Cede Control:  0.1625\n",
      "Epoch #80: test_reward: 10.329380 ± 0.000000, best_reward: 10.544361 ± 0.000000 in #77\n"
     ]
    },
    {
     "name": "stderr",
     "output_type": "stream",
     "text": [
      "Epoch #81: 501it [00:15, 31.86it/s, alpha=0.000, env_step=40500, gradient_step=40500, len=0, loss/actor=-833.757, loss/alpha=-69.297, loss/critic1=1.986, loss/critic2=1.983, n/ep=0, n/st=1, rew=0.00]                         \n"
     ]
    },
    {
     "name": "stdout",
     "output_type": "stream",
     "text": [
      "Mixed return:  9534.360023553658 Suboptimal return:  9814.766998751387 Expert return:  8796.882329367372 Cede Control:  0.1735\n",
      "Epoch #81: test_reward: 10.301877 ± 0.000000, best_reward: 10.544361 ± 0.000000 in #77\n"
     ]
    },
    {
     "name": "stderr",
     "output_type": "stream",
     "text": [
      "Epoch #82: 501it [00:15, 31.83it/s, alpha=0.000, env_step=41000, gradient_step=41000, len=0, loss/actor=-835.028, loss/alpha=-70.237, loss/critic1=1.967, loss/critic2=1.962, n/ep=0, n/st=1, rew=0.00]                         \n"
     ]
    },
    {
     "name": "stdout",
     "output_type": "stream",
     "text": [
      "Mixed return:  9626.464892129203 Suboptimal return:  9800.822053741738 Expert return:  8796.882329367372 Cede Control:  0.157\n",
      "Epoch #82: test_reward: 9.653306 ± 0.000000, best_reward: 10.544361 ± 0.000000 in #77\n"
     ]
    },
    {
     "name": "stderr",
     "output_type": "stream",
     "text": [
      "Epoch #83: 501it [00:15, 31.85it/s, alpha=0.000, env_step=41500, gradient_step=41500, len=0, loss/actor=-835.854, loss/alpha=-66.846, loss/critic1=1.965, loss/critic2=1.962, n/ep=0, n/st=1, rew=0.00]                         \n"
     ]
    },
    {
     "name": "stdout",
     "output_type": "stream",
     "text": [
      "Mixed return:  9661.198267796743 Suboptimal return:  9846.386591876035 Expert return:  8796.882329367372 Cede Control:  0.1435\n",
      "Epoch #83: test_reward: 10.292084 ± 0.000000, best_reward: 10.544361 ± 0.000000 in #77\n"
     ]
    },
    {
     "name": "stderr",
     "output_type": "stream",
     "text": [
      "Epoch #84: 501it [00:15, 31.83it/s, alpha=0.000, env_step=42000, gradient_step=42000, len=0, loss/actor=-836.173, loss/alpha=-65.006, loss/critic1=1.915, loss/critic2=1.911, n/ep=0, n/st=1, rew=0.00]                         \n"
     ]
    },
    {
     "name": "stdout",
     "output_type": "stream",
     "text": [
      "Mixed return:  9498.950586727075 Suboptimal return:  9784.541580371135 Expert return:  8796.882329367372 Cede Control:  0.164\n",
      "Epoch #84: test_reward: 10.081803 ± 0.000000, best_reward: 10.544361 ± 0.000000 in #77\n"
     ]
    },
    {
     "name": "stderr",
     "output_type": "stream",
     "text": [
      "Epoch #85: 501it [00:15, 31.80it/s, alpha=0.000, env_step=42500, gradient_step=42500, len=0, loss/actor=-836.506, loss/alpha=-63.806, loss/critic1=1.936, loss/critic2=1.933, n/ep=0, n/st=1, rew=0.00]                         \n"
     ]
    },
    {
     "name": "stdout",
     "output_type": "stream",
     "text": [
      "Mixed return:  9584.13228028733 Suboptimal return:  9673.367862789093 Expert return:  8796.882329367372 Cede Control:  0.1755\n",
      "Epoch #85: test_reward: 10.196511 ± 0.000000, best_reward: 10.544361 ± 0.000000 in #77\n"
     ]
    },
    {
     "name": "stderr",
     "output_type": "stream",
     "text": [
      "Epoch #86: 501it [00:15, 31.88it/s, alpha=0.000, env_step=43000, gradient_step=43000, len=0, loss/actor=-837.490, loss/alpha=-65.904, loss/critic1=1.899, loss/critic2=1.900, n/ep=0, n/st=1, rew=0.00]                         \n"
     ]
    },
    {
     "name": "stdout",
     "output_type": "stream",
     "text": [
      "Mixed return:  9708.156875231845 Suboptimal return:  9988.3126375092 Expert return:  8796.882329367372 Cede Control:  0.149\n",
      "Epoch #86: test_reward: 10.457866 ± 0.000000, best_reward: 10.544361 ± 0.000000 in #77\n"
     ]
    },
    {
     "name": "stderr",
     "output_type": "stream",
     "text": [
      "Epoch #87: 501it [00:15, 31.96it/s, alpha=0.000, env_step=43500, gradient_step=43500, len=0, loss/actor=-837.156, loss/alpha=-65.031, loss/critic1=1.941, loss/critic2=1.940, n/ep=0, n/st=1, rew=0.00]                         \n"
     ]
    },
    {
     "name": "stdout",
     "output_type": "stream",
     "text": [
      "Mixed return:  9579.942354263683 Suboptimal return:  9624.858534263498 Expert return:  8796.882329367372 Cede Control:  0.157\n",
      "Epoch #87: test_reward: 9.500079 ± 0.000000, best_reward: 10.544361 ± 0.000000 in #77\n"
     ]
    },
    {
     "name": "stderr",
     "output_type": "stream",
     "text": [
      "Epoch #88: 501it [00:15, 31.98it/s, alpha=0.000, env_step=44000, gradient_step=44000, len=0, loss/actor=-838.352, loss/alpha=-66.395, loss/critic1=1.870, loss/critic2=1.870, n/ep=0, n/st=1, rew=0.00]                         \n"
     ]
    },
    {
     "name": "stdout",
     "output_type": "stream",
     "text": [
      "Mixed return:  9475.491743539813 Suboptimal return:  9561.667733029059 Expert return:  8796.882329367372 Cede Control:  0.149\n",
      "Epoch #88: test_reward: 9.141637 ± 0.000000, best_reward: 10.544361 ± 0.000000 in #77\n"
     ]
    },
    {
     "name": "stderr",
     "output_type": "stream",
     "text": [
      "Epoch #89: 501it [00:15, 31.87it/s, alpha=0.000, env_step=44500, gradient_step=44500, len=0, loss/actor=-838.926, loss/alpha=-62.924, loss/critic1=1.909, loss/critic2=1.909, n/ep=0, n/st=1, rew=0.00]                         \n"
     ]
    },
    {
     "name": "stdout",
     "output_type": "stream",
     "text": [
      "Mixed return:  9441.924094282635 Suboptimal return:  9708.946997626525 Expert return:  8796.882329367372 Cede Control:  0.1615\n",
      "Epoch #89: test_reward: 9.765654 ± 0.000000, best_reward: 10.544361 ± 0.000000 in #77\n"
     ]
    },
    {
     "name": "stderr",
     "output_type": "stream",
     "text": [
      "Epoch #90: 501it [00:15, 31.84it/s, alpha=0.000, env_step=45000, gradient_step=45000, len=0, loss/actor=-838.871, loss/alpha=-62.053, loss/critic1=1.878, loss/critic2=1.876, n/ep=0, n/st=1, rew=0.00]                         \n"
     ]
    },
    {
     "name": "stdout",
     "output_type": "stream",
     "text": [
      "Mixed return:  9677.100973335482 Suboptimal return:  9843.959663858659 Expert return:  8796.882329367372 Cede Control:  0.132\n",
      "Epoch #90: test_reward: 10.348958 ± 0.000000, best_reward: 10.544361 ± 0.000000 in #77\n"
     ]
    },
    {
     "name": "stderr",
     "output_type": "stream",
     "text": [
      "Epoch #91: 501it [00:15, 31.91it/s, alpha=0.000, env_step=45500, gradient_step=45500, len=0, loss/actor=-839.732, loss/alpha=-64.213, loss/critic1=1.891, loss/critic2=1.889, n/ep=0, n/st=1, rew=0.00]                         \n"
     ]
    },
    {
     "name": "stdout",
     "output_type": "stream",
     "text": [
      "Mixed return:  9792.841416114137 Suboptimal return:  9869.985596690767 Expert return:  8796.882329367372 Cede Control:  0.1235\n",
      "Epoch #91: test_reward: 9.822278 ± 0.000000, best_reward: 10.544361 ± 0.000000 in #77\n"
     ]
    },
    {
     "name": "stderr",
     "output_type": "stream",
     "text": [
      "Epoch #92: 501it [00:15, 31.93it/s, alpha=0.000, env_step=46000, gradient_step=46000, len=0, loss/actor=-840.858, loss/alpha=-60.963, loss/critic1=1.892, loss/critic2=1.890, n/ep=0, n/st=1, rew=0.00]                         \n"
     ]
    },
    {
     "name": "stdout",
     "output_type": "stream",
     "text": [
      "Mixed return:  9814.497464983811 Suboptimal return:  10046.881403968655 Expert return:  8796.882329367372 Cede Control:  0.1275\n",
      "Epoch #92: test_reward: 10.134332 ± 0.000000, best_reward: 10.544361 ± 0.000000 in #77\n"
     ]
    },
    {
     "name": "stderr",
     "output_type": "stream",
     "text": [
      "Epoch #93: 501it [00:15, 31.81it/s, alpha=0.000, env_step=46500, gradient_step=46500, len=0, loss/actor=-840.793, loss/alpha=-59.437, loss/critic1=1.867, loss/critic2=1.867, n/ep=0, n/st=1, rew=0.00]                         \n"
     ]
    },
    {
     "name": "stdout",
     "output_type": "stream",
     "text": [
      "Mixed return:  9798.109678551218 Suboptimal return:  10122.251168578965 Expert return:  8796.882329367372 Cede Control:  0.1175\n",
      "Epoch #93: test_reward: 10.226717 ± 0.000000, best_reward: 10.544361 ± 0.000000 in #77\n"
     ]
    },
    {
     "name": "stderr",
     "output_type": "stream",
     "text": [
      "Epoch #94: 501it [00:15, 31.91it/s, alpha=0.000, env_step=47000, gradient_step=47000, len=0, loss/actor=-841.525, loss/alpha=-61.681, loss/critic1=1.861, loss/critic2=1.862, n/ep=0, n/st=1, rew=0.00]                         \n"
     ]
    },
    {
     "name": "stdout",
     "output_type": "stream",
     "text": [
      "Mixed return:  9733.000342934813 Suboptimal return:  9856.529043761939 Expert return:  8796.882329367372 Cede Control:  0.1225\n",
      "Epoch #94: test_reward: 9.599806 ± 0.000000, best_reward: 10.544361 ± 0.000000 in #77\n"
     ]
    },
    {
     "name": "stderr",
     "output_type": "stream",
     "text": [
      "Epoch #95: 501it [00:15, 31.81it/s, alpha=0.000, env_step=47500, gradient_step=47500, len=0, loss/actor=-842.377, loss/alpha=-63.177, loss/critic1=1.863, loss/critic2=1.862, n/ep=0, n/st=1, rew=0.00]                         \n"
     ]
    },
    {
     "name": "stdout",
     "output_type": "stream",
     "text": [
      "Mixed return:  9742.52500679043 Suboptimal return:  9864.656164913227 Expert return:  8796.882329367372 Cede Control:  0.122\n",
      "Epoch #95: test_reward: 10.231726 ± 0.000000, best_reward: 10.544361 ± 0.000000 in #77\n"
     ]
    },
    {
     "name": "stderr",
     "output_type": "stream",
     "text": [
      "Epoch #96: 501it [00:15, 31.91it/s, alpha=0.000, env_step=48000, gradient_step=48000, len=0, loss/actor=-842.459, loss/alpha=-65.457, loss/critic1=1.844, loss/critic2=1.844, n/ep=0, n/st=1, rew=0.00]                         \n"
     ]
    },
    {
     "name": "stdout",
     "output_type": "stream",
     "text": [
      "Mixed return:  9908.299928011354 Suboptimal return:  10024.592774272554 Expert return:  8796.882329367372 Cede Control:  0.10400000000000001\n",
      "Epoch #96: test_reward: 10.630844 ± 0.000000, best_reward: 10.630844 ± 0.000000 in #96\n"
     ]
    },
    {
     "name": "stderr",
     "output_type": "stream",
     "text": [
      "Epoch #97: 501it [00:15, 31.77it/s, alpha=0.000, env_step=48500, gradient_step=48500, len=0, loss/actor=-842.540, loss/alpha=-61.967, loss/critic1=1.832, loss/critic2=1.831, n/ep=0, n/st=1, rew=0.00]                         \n"
     ]
    },
    {
     "name": "stdout",
     "output_type": "stream",
     "text": [
      "Mixed return:  9915.054397111053 Suboptimal return:  10186.280545606132 Expert return:  8796.882329367372 Cede Control:  0.1175\n",
      "Epoch #97: test_reward: 10.393487 ± 0.000000, best_reward: 10.630844 ± 0.000000 in #96\n"
     ]
    },
    {
     "name": "stderr",
     "output_type": "stream",
     "text": [
      "Epoch #98: 501it [00:15, 31.81it/s, alpha=0.000, env_step=49000, gradient_step=49000, len=0, loss/actor=-843.346, loss/alpha=-64.382, loss/critic1=1.842, loss/critic2=1.842, n/ep=0, n/st=1, rew=0.00]                         \n"
     ]
    },
    {
     "name": "stdout",
     "output_type": "stream",
     "text": [
      "Mixed return:  9813.013571618152 Suboptimal return:  9891.536700122615 Expert return:  8796.882329367372 Cede Control:  0.1235\n",
      "Epoch #98: test_reward: 10.064962 ± 0.000000, best_reward: 10.630844 ± 0.000000 in #96\n"
     ]
    },
    {
     "name": "stderr",
     "output_type": "stream",
     "text": [
      "Epoch #99: 501it [00:15, 31.87it/s, alpha=0.000, env_step=49500, gradient_step=49500, len=0, loss/actor=-844.531, loss/alpha=-62.585, loss/critic1=1.844, loss/critic2=1.842, n/ep=0, n/st=1, rew=0.00]                         \n"
     ]
    },
    {
     "name": "stdout",
     "output_type": "stream",
     "text": [
      "Mixed return:  9839.364340562877 Suboptimal return:  9956.685891830311 Expert return:  8796.882329367372 Cede Control:  0.11499999999999999\n",
      "Epoch #99: test_reward: 10.258071 ± 0.000000, best_reward: 10.630844 ± 0.000000 in #96\n"
     ]
    },
    {
     "name": "stderr",
     "output_type": "stream",
     "text": [
      "Epoch #100: 501it [00:15, 31.89it/s, alpha=0.000, env_step=50000, gradient_step=50000, len=0, loss/actor=-844.550, loss/alpha=-64.804, loss/critic1=1.829, loss/critic2=1.830, n/ep=0, n/st=1, rew=0.00]                         \n"
     ]
    },
    {
     "name": "stdout",
     "output_type": "stream",
     "text": [
      "Mixed return:  9794.873421441003 Suboptimal return:  9914.029560238596 Expert return:  8796.882329367372 Cede Control:  0.1095\n",
      "Epoch #100: test_reward: 10.601451 ± 0.000000, best_reward: 10.630844 ± 0.000000 in #96\n"
     ]
    },
    {
     "name": "stderr",
     "output_type": "stream",
     "text": [
      "Epoch #101: 501it [00:15, 31.62it/s, alpha=0.000, env_step=50500, gradient_step=50500, len=0, loss/actor=-845.049, loss/alpha=-60.431, loss/critic1=1.843, loss/critic2=1.842, n/ep=0, n/st=1, rew=0.00]                         \n"
     ]
    },
    {
     "name": "stdout",
     "output_type": "stream",
     "text": [
      "Mixed return:  9901.778298254088 Suboptimal return:  9962.541218579936 Expert return:  8796.882329367372 Cede Control:  0.11699999999999999\n",
      "Epoch #101: test_reward: 10.023292 ± 0.000000, best_reward: 10.630844 ± 0.000000 in #96\n"
     ]
    },
    {
     "name": "stderr",
     "output_type": "stream",
     "text": [
      "Epoch #102: 501it [00:15, 31.81it/s, alpha=0.000, env_step=51000, gradient_step=51000, len=0, loss/actor=-846.481, loss/alpha=-63.939, loss/critic1=1.834, loss/critic2=1.832, n/ep=0, n/st=1, rew=0.00]                         \n"
     ]
    },
    {
     "name": "stdout",
     "output_type": "stream",
     "text": [
      "Mixed return:  9826.718377691655 Suboptimal return:  9941.146982473447 Expert return:  8796.882329367372 Cede Control:  0.094\n",
      "Epoch #102: test_reward: 10.511891 ± 0.000000, best_reward: 10.630844 ± 0.000000 in #96\n"
     ]
    },
    {
     "name": "stderr",
     "output_type": "stream",
     "text": [
      "Epoch #103: 501it [00:15, 31.91it/s, alpha=0.000, env_step=51500, gradient_step=51500, len=0, loss/actor=-846.277, loss/alpha=-65.896, loss/critic1=1.814, loss/critic2=1.815, n/ep=0, n/st=1, rew=0.00]                         \n"
     ]
    },
    {
     "name": "stdout",
     "output_type": "stream",
     "text": [
      "Mixed return:  9792.951926844165 Suboptimal return:  9888.900824006812 Expert return:  8796.882329367372 Cede Control:  0.1295\n",
      "Epoch #103: test_reward: 10.216910 ± 0.000000, best_reward: 10.630844 ± 0.000000 in #96\n"
     ]
    },
    {
     "name": "stderr",
     "output_type": "stream",
     "text": [
      "Epoch #104: 501it [00:15, 31.86it/s, alpha=0.000, env_step=52000, gradient_step=52000, len=0, loss/actor=-846.312, loss/alpha=-65.492, loss/critic1=1.804, loss/critic2=1.804, n/ep=0, n/st=1, rew=0.00]                         \n"
     ]
    },
    {
     "name": "stdout",
     "output_type": "stream",
     "text": [
      "Mixed return:  9653.475523385612 Suboptimal return:  9825.970729968107 Expert return:  8796.882329367372 Cede Control:  0.1205\n",
      "Epoch #104: test_reward: 9.179397 ± 0.000000, best_reward: 10.630844 ± 0.000000 in #96\n"
     ]
    },
    {
     "name": "stderr",
     "output_type": "stream",
     "text": [
      "Epoch #105: 501it [00:15, 31.81it/s, alpha=0.000, env_step=52500, gradient_step=52500, len=0, loss/actor=-847.475, loss/alpha=-65.995, loss/critic1=1.797, loss/critic2=1.795, n/ep=0, n/st=1, rew=0.00]                         \n"
     ]
    },
    {
     "name": "stdout",
     "output_type": "stream",
     "text": [
      "Mixed return:  9766.884851683066 Suboptimal return:  9985.75634523399 Expert return:  8796.882329367372 Cede Control:  0.1185\n",
      "Epoch #105: test_reward: 10.375712 ± 0.000000, best_reward: 10.630844 ± 0.000000 in #96\n"
     ]
    },
    {
     "name": "stderr",
     "output_type": "stream",
     "text": [
      "Epoch #106: 501it [00:15, 31.68it/s, alpha=0.000, env_step=53000, gradient_step=53000, len=0, loss/actor=-847.690, loss/alpha=-60.608, loss/critic1=1.802, loss/critic2=1.799, n/ep=0, n/st=1, rew=0.00]                         \n"
     ]
    },
    {
     "name": "stdout",
     "output_type": "stream",
     "text": [
      "Mixed return:  9811.221413547337 Suboptimal return:  9964.238833374304 Expert return:  8796.882329367372 Cede Control:  0.1085\n",
      "Epoch #106: test_reward: 10.400324 ± 0.000000, best_reward: 10.630844 ± 0.000000 in #96\n"
     ]
    },
    {
     "name": "stderr",
     "output_type": "stream",
     "text": [
      "Epoch #107: 501it [00:15, 31.89it/s, alpha=0.000, env_step=53500, gradient_step=53500, len=0, loss/actor=-847.852, loss/alpha=-60.420, loss/critic1=1.810, loss/critic2=1.808, n/ep=0, n/st=1, rew=0.00]                         \n"
     ]
    },
    {
     "name": "stdout",
     "output_type": "stream",
     "text": [
      "Mixed return:  9339.399732338981 Suboptimal return:  9403.05045710148 Expert return:  8796.882329367372 Cede Control:  0.106\n",
      "Epoch #107: test_reward: 10.081413 ± 0.000000, best_reward: 10.630844 ± 0.000000 in #96\n"
     ]
    },
    {
     "name": "stderr",
     "output_type": "stream",
     "text": [
      "Epoch #108: 501it [00:15, 31.92it/s, alpha=0.000, env_step=54000, gradient_step=54000, len=0, loss/actor=-849.454, loss/alpha=-62.363, loss/critic1=1.789, loss/critic2=1.786, n/ep=0, n/st=1, rew=0.00]                         \n"
     ]
    },
    {
     "name": "stdout",
     "output_type": "stream",
     "text": [
      "Mixed return:  9569.660092156386 Suboptimal return:  9757.541840431615 Expert return:  8796.882329367372 Cede Control:  0.13\n",
      "Epoch #108: test_reward: 9.881410 ± 0.000000, best_reward: 10.630844 ± 0.000000 in #96\n"
     ]
    },
    {
     "name": "stderr",
     "output_type": "stream",
     "text": [
      "Epoch #109: 501it [00:15, 31.76it/s, alpha=0.000, env_step=54500, gradient_step=54500, len=0, loss/actor=-849.768, loss/alpha=-62.012, loss/critic1=1.766, loss/critic2=1.764, n/ep=0, n/st=1, rew=0.00]                         \n"
     ]
    },
    {
     "name": "stdout",
     "output_type": "stream",
     "text": [
      "Mixed return:  9977.856534955174 Suboptimal return:  10093.971591343054 Expert return:  8796.882329367372 Cede Control:  0.098\n",
      "Epoch #109: test_reward: 10.741364 ± 0.000000, best_reward: 10.741364 ± 0.000000 in #109\n"
     ]
    },
    {
     "name": "stderr",
     "output_type": "stream",
     "text": [
      "Epoch #110: 501it [00:15, 31.83it/s, alpha=0.000, env_step=55000, gradient_step=55000, len=0, loss/actor=-850.342, loss/alpha=-58.281, loss/critic1=1.762, loss/critic2=1.758, n/ep=0, n/st=1, rew=0.00]                         \n"
     ]
    },
    {
     "name": "stdout",
     "output_type": "stream",
     "text": [
      "Mixed return:  9986.656772116206 Suboptimal return:  10025.517599562645 Expert return:  8796.882329367372 Cede Control:  0.0875\n",
      "Epoch #110: test_reward: 10.204365 ± 0.000000, best_reward: 10.741364 ± 0.000000 in #109\n"
     ]
    },
    {
     "name": "stderr",
     "output_type": "stream",
     "text": [
      "Epoch #111: 501it [00:15, 31.71it/s, alpha=0.000, env_step=55500, gradient_step=55500, len=0, loss/actor=-850.219, loss/alpha=-57.099, loss/critic1=1.758, loss/critic2=1.754, n/ep=0, n/st=1, rew=0.00]                         \n"
     ]
    },
    {
     "name": "stdout",
     "output_type": "stream",
     "text": [
      "Mixed return:  9880.892195131953 Suboptimal return:  10090.657067895672 Expert return:  8796.882329367372 Cede Control:  0.08399999999999999\n",
      "Epoch #111: test_reward: 10.422868 ± 0.000000, best_reward: 10.741364 ± 0.000000 in #109\n"
     ]
    },
    {
     "name": "stderr",
     "output_type": "stream",
     "text": [
      "Epoch #112: 501it [00:15, 31.90it/s, alpha=0.000, env_step=56000, gradient_step=56000, len=0, loss/actor=-850.996, loss/alpha=-60.454, loss/critic1=1.744, loss/critic2=1.742, n/ep=0, n/st=1, rew=0.00]                         \n"
     ]
    },
    {
     "name": "stdout",
     "output_type": "stream",
     "text": [
      "Mixed return:  9933.175754321273 Suboptimal return:  10107.369440036142 Expert return:  8796.882329367372 Cede Control:  0.08549999999999999\n",
      "Epoch #112: test_reward: 10.277153 ± 0.000000, best_reward: 10.741364 ± 0.000000 in #109\n"
     ]
    },
    {
     "name": "stderr",
     "output_type": "stream",
     "text": [
      "Epoch #113: 501it [00:15, 31.76it/s, alpha=0.000, env_step=56500, gradient_step=56500, len=0, loss/actor=-851.648, loss/alpha=-58.425, loss/critic1=1.744, loss/critic2=1.743, n/ep=0, n/st=1, rew=0.00]                         \n"
     ]
    },
    {
     "name": "stdout",
     "output_type": "stream",
     "text": [
      "Mixed return:  10086.945936312033 Suboptimal return:  10191.673124975394 Expert return:  8796.882329367372 Cede Control:  0.096\n",
      "Epoch #113: test_reward: 11.006539 ± 0.000000, best_reward: 11.006539 ± 0.000000 in #113\n"
     ]
    },
    {
     "name": "stderr",
     "output_type": "stream",
     "text": [
      "Epoch #114: 501it [00:15, 31.84it/s, alpha=0.000, env_step=57000, gradient_step=57000, len=0, loss/actor=-851.868, loss/alpha=-57.983, loss/critic1=1.737, loss/critic2=1.736, n/ep=0, n/st=1, rew=0.00]                         \n"
     ]
    },
    {
     "name": "stdout",
     "output_type": "stream",
     "text": [
      "Mixed return:  9864.220378145477 Suboptimal return:  10023.824241927563 Expert return:  8796.882329367372 Cede Control:  0.0925\n",
      "Epoch #114: test_reward: 10.411428 ± 0.000000, best_reward: 11.006539 ± 0.000000 in #113\n"
     ]
    },
    {
     "name": "stderr",
     "output_type": "stream",
     "text": [
      "Epoch #115: 501it [00:15, 31.73it/s, alpha=0.000, env_step=57500, gradient_step=57500, len=0, loss/actor=-852.651, loss/alpha=-58.638, loss/critic1=1.721, loss/critic2=1.722, n/ep=0, n/st=1, rew=0.00]                         \n"
     ]
    },
    {
     "name": "stdout",
     "output_type": "stream",
     "text": [
      "Mixed return:  9726.426110738994 Suboptimal return:  9898.744760876862 Expert return:  8796.882329367372 Cede Control:  0.1075\n",
      "Epoch #115: test_reward: 9.583495 ± 0.000000, best_reward: 11.006539 ± 0.000000 in #113\n"
     ]
    },
    {
     "name": "stderr",
     "output_type": "stream",
     "text": [
      "Epoch #116: 501it [00:15, 31.76it/s, alpha=0.000, env_step=58000, gradient_step=58000, len=0, loss/actor=-852.558, loss/alpha=-61.487, loss/critic1=1.703, loss/critic2=1.705, n/ep=0, n/st=1, rew=0.00]                         \n"
     ]
    },
    {
     "name": "stdout",
     "output_type": "stream",
     "text": [
      "Mixed return:  10016.820179644092 Suboptimal return:  10221.41301903954 Expert return:  8796.882329367372 Cede Control:  0.1\n",
      "Epoch #116: test_reward: 9.955439 ± 0.000000, best_reward: 11.006539 ± 0.000000 in #113\n"
     ]
    },
    {
     "name": "stderr",
     "output_type": "stream",
     "text": [
      "Epoch #117: 501it [00:15, 31.71it/s, alpha=0.000, env_step=58500, gradient_step=58500, len=0, loss/actor=-853.396, loss/alpha=-57.931, loss/critic1=1.730, loss/critic2=1.727, n/ep=0, n/st=1, rew=0.00]                         \n"
     ]
    },
    {
     "name": "stdout",
     "output_type": "stream",
     "text": [
      "Mixed return:  9993.742969493538 Suboptimal return:  10103.80917699145 Expert return:  8796.882329367372 Cede Control:  0.08449999999999999\n",
      "Epoch #117: test_reward: 10.953192 ± 0.000000, best_reward: 11.006539 ± 0.000000 in #113\n"
     ]
    },
    {
     "name": "stderr",
     "output_type": "stream",
     "text": [
      "Epoch #118: 501it [00:15, 31.62it/s, alpha=0.000, env_step=59000, gradient_step=59000, len=0, loss/actor=-854.274, loss/alpha=-60.963, loss/critic1=1.684, loss/critic2=1.683, n/ep=0, n/st=1, rew=0.00]                         \n"
     ]
    },
    {
     "name": "stdout",
     "output_type": "stream",
     "text": [
      "Mixed return:  10090.37341039161 Suboptimal return:  10077.297604695346 Expert return:  8796.882329367372 Cede Control:  0.069\n",
      "Epoch #118: test_reward: 10.701502 ± 0.000000, best_reward: 11.006539 ± 0.000000 in #113\n"
     ]
    },
    {
     "name": "stderr",
     "output_type": "stream",
     "text": [
      "Epoch #119: 501it [00:15, 31.77it/s, alpha=0.000, env_step=59500, gradient_step=59500, len=0, loss/actor=-854.064, loss/alpha=-58.636, loss/critic1=1.669, loss/critic2=1.668, n/ep=0, n/st=1, rew=0.00]                         \n"
     ]
    },
    {
     "name": "stdout",
     "output_type": "stream",
     "text": [
      "Mixed return:  9792.561168277143 Suboptimal return:  9812.242736029963 Expert return:  8796.882329367372 Cede Control:  0.07250000000000001\n",
      "Epoch #119: test_reward: 9.951664 ± 0.000000, best_reward: 11.006539 ± 0.000000 in #113\n"
     ]
    },
    {
     "name": "stderr",
     "output_type": "stream",
     "text": [
      "Epoch #120: 501it [00:15, 31.56it/s, alpha=0.000, env_step=60000, gradient_step=60000, len=0, loss/actor=-854.620, loss/alpha=-57.214, loss/critic1=1.681, loss/critic2=1.678, n/ep=0, n/st=1, rew=0.00]                         \n"
     ]
    },
    {
     "name": "stdout",
     "output_type": "stream",
     "text": [
      "Mixed return:  10017.069241210742 Suboptimal return:  10116.152121897032 Expert return:  8796.882329367372 Cede Control:  0.07949999999999999\n",
      "Epoch #120: test_reward: 10.146656 ± 0.000000, best_reward: 11.006539 ± 0.000000 in #113\n"
     ]
    },
    {
     "name": "stderr",
     "output_type": "stream",
     "text": [
      "Epoch #121: 501it [00:15, 31.64it/s, alpha=0.000, env_step=60500, gradient_step=60500, len=0, loss/actor=-854.960, loss/alpha=-56.997, loss/critic1=1.680, loss/critic2=1.677, n/ep=0, n/st=1, rew=0.00]                         \n"
     ]
    },
    {
     "name": "stdout",
     "output_type": "stream",
     "text": [
      "Mixed return:  9915.997363808096 Suboptimal return:  10007.38938972403 Expert return:  8796.882329367372 Cede Control:  0.079\n",
      "Epoch #121: test_reward: 10.105070 ± 0.000000, best_reward: 11.006539 ± 0.000000 in #113\n"
     ]
    },
    {
     "name": "stderr",
     "output_type": "stream",
     "text": [
      "Epoch #122: 501it [00:15, 31.73it/s, alpha=0.000, env_step=61000, gradient_step=61000, len=0, loss/actor=-855.074, loss/alpha=-58.976, loss/critic1=1.686, loss/critic2=1.684, n/ep=0, n/st=1, rew=0.00]                         \n"
     ]
    },
    {
     "name": "stdout",
     "output_type": "stream",
     "text": [
      "Mixed return:  9156.559577703714 Suboptimal return:  9120.374746294814 Expert return:  8796.882329367372 Cede Control:  0.063\n",
      "Epoch #122: test_reward: 9.916567 ± 0.000000, best_reward: 11.006539 ± 0.000000 in #113\n"
     ]
    },
    {
     "name": "stderr",
     "output_type": "stream",
     "text": [
      "Epoch #123: 501it [00:15, 31.81it/s, alpha=0.000, env_step=61500, gradient_step=61500, len=0, loss/actor=-855.578, loss/alpha=-61.122, loss/critic1=1.664, loss/critic2=1.662, n/ep=0, n/st=1, rew=0.00]                         \n"
     ]
    },
    {
     "name": "stdout",
     "output_type": "stream",
     "text": [
      "Mixed return:  9819.43798867439 Suboptimal return:  9897.73650408418 Expert return:  8796.882329367372 Cede Control:  0.08\n",
      "Epoch #123: test_reward: 8.720045 ± 0.000000, best_reward: 11.006539 ± 0.000000 in #113\n"
     ]
    },
    {
     "name": "stderr",
     "output_type": "stream",
     "text": [
      "Epoch #124: 501it [00:15, 31.79it/s, alpha=0.000, env_step=62000, gradient_step=62000, len=0, loss/actor=-857.039, loss/alpha=-62.667, loss/critic1=1.644, loss/critic2=1.643, n/ep=0, n/st=1, rew=0.00]                         \n"
     ]
    },
    {
     "name": "stdout",
     "output_type": "stream",
     "text": [
      "Mixed return:  9896.718793933704 Suboptimal return:  9899.224335444267 Expert return:  8796.882329367372 Cede Control:  0.101\n",
      "Epoch #124: test_reward: 9.869359 ± 0.000000, best_reward: 11.006539 ± 0.000000 in #113\n"
     ]
    },
    {
     "name": "stderr",
     "output_type": "stream",
     "text": [
      "Epoch #125: 501it [00:15, 31.82it/s, alpha=0.000, env_step=62500, gradient_step=62500, len=0, loss/actor=-857.260, loss/alpha=-63.382, loss/critic1=1.659, loss/critic2=1.656, n/ep=0, n/st=1, rew=0.00]                         \n"
     ]
    },
    {
     "name": "stdout",
     "output_type": "stream",
     "text": [
      "Mixed return:  9816.702618789239 Suboptimal return:  9910.555763002645 Expert return:  8796.882329367372 Cede Control:  0.0605\n",
      "Epoch #125: test_reward: 10.523436 ± 0.000000, best_reward: 11.006539 ± 0.000000 in #113\n"
     ]
    },
    {
     "name": "stderr",
     "output_type": "stream",
     "text": [
      "Epoch #126: 501it [00:15, 31.91it/s, alpha=0.000, env_step=63000, gradient_step=63000, len=0, loss/actor=-857.623, loss/alpha=-56.570, loss/critic1=1.620, loss/critic2=1.619, n/ep=0, n/st=1, rew=0.00]                         \n"
     ]
    },
    {
     "name": "stdout",
     "output_type": "stream",
     "text": [
      "Mixed return:  9801.5203202868 Suboptimal return:  9931.984417197089 Expert return:  8796.882329367372 Cede Control:  0.08349999999999999\n",
      "Epoch #126: test_reward: 9.926005 ± 0.000000, best_reward: 11.006539 ± 0.000000 in #113\n"
     ]
    },
    {
     "name": "stderr",
     "output_type": "stream",
     "text": [
      "Epoch #127: 501it [00:15, 31.80it/s, alpha=0.000, env_step=63500, gradient_step=63500, len=0, loss/actor=-857.737, loss/alpha=-56.497, loss/critic1=1.628, loss/critic2=1.627, n/ep=0, n/st=1, rew=0.00]                         \n"
     ]
    },
    {
     "name": "stdout",
     "output_type": "stream",
     "text": [
      "Mixed return:  10105.705154333333 Suboptimal return:  10180.875973951488 Expert return:  8796.882329367372 Cede Control:  0.056\n",
      "Epoch #127: test_reward: 10.142999 ± 0.000000, best_reward: 11.006539 ± 0.000000 in #113\n"
     ]
    },
    {
     "name": "stderr",
     "output_type": "stream",
     "text": [
      "Epoch #128: 501it [00:15, 31.80it/s, alpha=0.000, env_step=64000, gradient_step=64000, len=0, loss/actor=-858.267, loss/alpha=-62.440, loss/critic1=1.623, loss/critic2=1.620, n/ep=0, n/st=1, rew=0.00]                         \n"
     ]
    },
    {
     "name": "stdout",
     "output_type": "stream",
     "text": [
      "Mixed return:  10124.399400436494 Suboptimal return:  10176.939075291237 Expert return:  8796.882329367372 Cede Control:  0.062\n",
      "Epoch #128: test_reward: 9.491000 ± 0.000000, best_reward: 11.006539 ± 0.000000 in #113\n"
     ]
    },
    {
     "name": "stderr",
     "output_type": "stream",
     "text": [
      "Epoch #129: 501it [00:15, 31.77it/s, alpha=0.000, env_step=64500, gradient_step=64500, len=0, loss/actor=-858.655, loss/alpha=-62.606, loss/critic1=1.599, loss/critic2=1.600, n/ep=0, n/st=1, rew=0.00]                         \n"
     ]
    },
    {
     "name": "stdout",
     "output_type": "stream",
     "text": [
      "Mixed return:  10192.839870459873 Suboptimal return:  10177.611067130245 Expert return:  8796.882329367372 Cede Control:  0.0675\n",
      "Epoch #129: test_reward: 10.309937 ± 0.000000, best_reward: 11.006539 ± 0.000000 in #113\n"
     ]
    },
    {
     "name": "stderr",
     "output_type": "stream",
     "text": [
      "Epoch #130: 501it [00:15, 31.73it/s, alpha=0.000, env_step=65000, gradient_step=65000, len=0, loss/actor=-859.235, loss/alpha=-57.083, loss/critic1=1.593, loss/critic2=1.592, n/ep=0, n/st=1, rew=0.00]                         \n"
     ]
    },
    {
     "name": "stdout",
     "output_type": "stream",
     "text": [
      "Mixed return:  10145.443658768148 Suboptimal return:  10200.628324579226 Expert return:  8796.882329367372 Cede Control:  0.0545\n",
      "Epoch #130: test_reward: 10.549542 ± 0.000000, best_reward: 11.006539 ± 0.000000 in #113\n"
     ]
    },
    {
     "name": "stderr",
     "output_type": "stream",
     "text": [
      "Epoch #131: 501it [00:15, 31.60it/s, alpha=0.000, env_step=65500, gradient_step=65500, len=0, loss/actor=-859.711, loss/alpha=-60.900, loss/critic1=1.601, loss/critic2=1.599, n/ep=0, n/st=1, rew=0.00]                         \n"
     ]
    },
    {
     "name": "stdout",
     "output_type": "stream",
     "text": [
      "Mixed return:  10090.205235418929 Suboptimal return:  10117.015282307077 Expert return:  8796.882329367372 Cede Control:  0.08549999999999999\n",
      "Epoch #131: test_reward: 10.730920 ± 0.000000, best_reward: 11.006539 ± 0.000000 in #113\n"
     ]
    },
    {
     "name": "stderr",
     "output_type": "stream",
     "text": [
      "Epoch #132: 501it [00:15, 31.79it/s, alpha=0.000, env_step=66000, gradient_step=66000, len=0, loss/actor=-860.070, loss/alpha=-60.119, loss/critic1=1.614, loss/critic2=1.612, n/ep=0, n/st=1, rew=0.00]                         \n"
     ]
    },
    {
     "name": "stdout",
     "output_type": "stream",
     "text": [
      "Mixed return:  10017.94248346316 Suboptimal return:  10181.248376760468 Expert return:  8796.882329367372 Cede Control:  0.07100000000000001\n",
      "Epoch #132: test_reward: 10.205103 ± 0.000000, best_reward: 11.006539 ± 0.000000 in #113\n"
     ]
    },
    {
     "name": "stderr",
     "output_type": "stream",
     "text": [
      "Epoch #133: 501it [00:15, 31.79it/s, alpha=0.000, env_step=66500, gradient_step=66500, len=0, loss/actor=-861.205, loss/alpha=-56.997, loss/critic1=1.581, loss/critic2=1.579, n/ep=0, n/st=1, rew=0.00]                         \n"
     ]
    },
    {
     "name": "stdout",
     "output_type": "stream",
     "text": [
      "Mixed return:  10041.747229442728 Suboptimal return:  10134.624492213035 Expert return:  8796.882329367372 Cede Control:  0.0695\n",
      "Epoch #133: test_reward: 10.319601 ± 0.000000, best_reward: 11.006539 ± 0.000000 in #113\n"
     ]
    },
    {
     "name": "stderr",
     "output_type": "stream",
     "text": [
      "Epoch #134: 501it [00:15, 31.83it/s, alpha=0.000, env_step=67000, gradient_step=67000, len=0, loss/actor=-860.906, loss/alpha=-63.596, loss/critic1=1.566, loss/critic2=1.565, n/ep=0, n/st=1, rew=0.00]                         \n"
     ]
    },
    {
     "name": "stdout",
     "output_type": "stream",
     "text": [
      "Mixed return:  9929.610171707409 Suboptimal return:  9992.418419853015 Expert return:  8796.882329367372 Cede Control:  0.056\n",
      "Epoch #134: test_reward: 9.839454 ± 0.000000, best_reward: 11.006539 ± 0.000000 in #113\n"
     ]
    },
    {
     "name": "stderr",
     "output_type": "stream",
     "text": [
      "Epoch #135: 501it [00:15, 31.86it/s, alpha=0.000, env_step=67500, gradient_step=67500, len=0, loss/actor=-861.233, loss/alpha=-53.690, loss/critic1=1.590, loss/critic2=1.587, n/ep=0, n/st=1, rew=0.00]                         \n"
     ]
    },
    {
     "name": "stdout",
     "output_type": "stream",
     "text": [
      "Mixed return:  10047.368106000438 Suboptimal return:  10117.90407483881 Expert return:  8796.882329367372 Cede Control:  0.078\n",
      "Epoch #135: test_reward: 10.525107 ± 0.000000, best_reward: 11.006539 ± 0.000000 in #113\n"
     ]
    },
    {
     "name": "stderr",
     "output_type": "stream",
     "text": [
      "Epoch #136: 501it [00:15, 31.63it/s, alpha=0.000, env_step=68000, gradient_step=68000, len=0, loss/actor=-861.954, loss/alpha=-53.518, loss/critic1=1.604, loss/critic2=1.604, n/ep=0, n/st=1, rew=0.00]                         \n"
     ]
    },
    {
     "name": "stdout",
     "output_type": "stream",
     "text": [
      "Mixed return:  9915.340489127087 Suboptimal return:  9969.102646258962 Expert return:  8796.882329367372 Cede Control:  0.051500000000000004\n",
      "Epoch #136: test_reward: 10.205758 ± 0.000000, best_reward: 11.006539 ± 0.000000 in #113\n"
     ]
    },
    {
     "name": "stderr",
     "output_type": "stream",
     "text": [
      "Epoch #137: 501it [00:15, 31.86it/s, alpha=0.000, env_step=68500, gradient_step=68500, len=0, loss/actor=-862.477, loss/alpha=-59.930, loss/critic1=1.583, loss/critic2=1.582, n/ep=0, n/st=1, rew=0.00]                         \n"
     ]
    },
    {
     "name": "stdout",
     "output_type": "stream",
     "text": [
      "Mixed return:  9887.914732478197 Suboptimal return:  9966.15504236787 Expert return:  8796.882329367372 Cede Control:  0.058\n",
      "Epoch #137: test_reward: 10.670326 ± 0.000000, best_reward: 11.006539 ± 0.000000 in #113\n"
     ]
    },
    {
     "name": "stderr",
     "output_type": "stream",
     "text": [
      "Epoch #138: 501it [00:15, 31.77it/s, alpha=0.000, env_step=69000, gradient_step=69000, len=0, loss/actor=-862.499, loss/alpha=-60.962, loss/critic1=1.599, loss/critic2=1.596, n/ep=0, n/st=1, rew=0.00]                         \n"
     ]
    },
    {
     "name": "stdout",
     "output_type": "stream",
     "text": [
      "Mixed return:  9741.512254423818 Suboptimal return:  9716.316050032081 Expert return:  8796.882329367372 Cede Control:  0.078\n",
      "Epoch #138: test_reward: 9.794350 ± 0.000000, best_reward: 11.006539 ± 0.000000 in #113\n"
     ]
    },
    {
     "name": "stderr",
     "output_type": "stream",
     "text": [
      "Epoch #139: 501it [00:15, 31.88it/s, alpha=0.000, env_step=69500, gradient_step=69500, len=0, loss/actor=-862.887, loss/alpha=-61.334, loss/critic1=1.562, loss/critic2=1.560, n/ep=0, n/st=1, rew=0.00]                         \n"
     ]
    },
    {
     "name": "stdout",
     "output_type": "stream",
     "text": [
      "Mixed return:  9939.124607952868 Suboptimal return:  10034.674169259706 Expert return:  8796.882329367372 Cede Control:  0.051500000000000004\n",
      "Epoch #139: test_reward: 10.002578 ± 0.000000, best_reward: 11.006539 ± 0.000000 in #113\n"
     ]
    },
    {
     "name": "stderr",
     "output_type": "stream",
     "text": [
      "Epoch #140: 501it [00:15, 31.80it/s, alpha=0.000, env_step=70000, gradient_step=70000, len=0, loss/actor=-862.996, loss/alpha=-58.379, loss/critic1=1.556, loss/critic2=1.555, n/ep=0, n/st=1, rew=0.00]                         \n"
     ]
    },
    {
     "name": "stdout",
     "output_type": "stream",
     "text": [
      "Mixed return:  10048.472013458177 Suboptimal return:  10146.162252928107 Expert return:  8796.882329367372 Cede Control:  0.066\n",
      "Epoch #140: test_reward: 10.547569 ± 0.000000, best_reward: 11.006539 ± 0.000000 in #113\n"
     ]
    },
    {
     "name": "stderr",
     "output_type": "stream",
     "text": [
      "Epoch #141: 501it [00:15, 31.81it/s, alpha=0.000, env_step=70500, gradient_step=70500, len=0, loss/actor=-864.326, loss/alpha=-65.444, loss/critic1=1.568, loss/critic2=1.564, n/ep=0, n/st=1, rew=0.00]                         \n"
     ]
    },
    {
     "name": "stdout",
     "output_type": "stream",
     "text": [
      "Mixed return:  10114.411861303775 Suboptimal return:  10245.498521374835 Expert return:  8796.882329367372 Cede Control:  0.058499999999999996\n",
      "Epoch #141: test_reward: 10.677524 ± 0.000000, best_reward: 11.006539 ± 0.000000 in #113\n"
     ]
    },
    {
     "name": "stderr",
     "output_type": "stream",
     "text": [
      "Epoch #142: 501it [00:15, 31.80it/s, alpha=0.000, env_step=71000, gradient_step=71000, len=0, loss/actor=-864.570, loss/alpha=-63.976, loss/critic1=1.556, loss/critic2=1.555, n/ep=0, n/st=1, rew=0.00]                         \n"
     ]
    },
    {
     "name": "stdout",
     "output_type": "stream",
     "text": [
      "Mixed return:  10093.457707561494 Suboptimal return:  10088.19147374724 Expert return:  8796.882329367372 Cede Control:  0.0665\n",
      "Epoch #142: test_reward: 10.114331 ± 0.000000, best_reward: 11.006539 ± 0.000000 in #113\n"
     ]
    },
    {
     "name": "stderr",
     "output_type": "stream",
     "text": [
      "Epoch #143: 501it [00:16, 29.85it/s, alpha=0.000, env_step=71500, gradient_step=71500, len=0, loss/actor=-864.785, loss/alpha=-62.477, loss/critic1=1.535, loss/critic2=1.533, n/ep=0, n/st=1, rew=0.00]                         \n"
     ]
    },
    {
     "name": "stdout",
     "output_type": "stream",
     "text": [
      "Mixed return:  10095.81454759838 Suboptimal return:  10154.891078370016 Expert return:  8796.882329367372 Cede Control:  0.064\n",
      "Epoch #143: test_reward: 10.359951 ± 0.000000, best_reward: 11.006539 ± 0.000000 in #113\n"
     ]
    },
    {
     "name": "stderr",
     "output_type": "stream",
     "text": [
      "Epoch #144: 501it [00:15, 31.53it/s, alpha=0.000, env_step=72000, gradient_step=72000, len=0, loss/actor=-865.460, loss/alpha=-64.714, loss/critic1=1.547, loss/critic2=1.546, n/ep=0, n/st=1, rew=0.00]                         \n"
     ]
    },
    {
     "name": "stdout",
     "output_type": "stream",
     "text": [
      "Mixed return:  10028.613602236968 Suboptimal return:  10090.00679320347 Expert return:  8796.882329367372 Cede Control:  0.06\n",
      "Epoch #144: test_reward: 9.784496 ± 0.000000, best_reward: 11.006539 ± 0.000000 in #113\n"
     ]
    },
    {
     "name": "stderr",
     "output_type": "stream",
     "text": [
      "Epoch #145: 501it [00:16, 31.30it/s, alpha=0.000, env_step=72500, gradient_step=72500, len=0, loss/actor=-865.845, loss/alpha=-62.647, loss/critic1=1.531, loss/critic2=1.528, n/ep=0, n/st=1, rew=0.00]                         \n"
     ]
    },
    {
     "name": "stdout",
     "output_type": "stream",
     "text": [
      "Mixed return:  10004.604738447935 Suboptimal return:  9979.410078097628 Expert return:  8796.882329367372 Cede Control:  0.08499999999999999\n",
      "Epoch #145: test_reward: 10.104188 ± 0.000000, best_reward: 11.006539 ± 0.000000 in #113\n"
     ]
    },
    {
     "name": "stderr",
     "output_type": "stream",
     "text": [
      "Epoch #146: 501it [00:15, 31.90it/s, alpha=0.000, env_step=73000, gradient_step=73000, len=0, loss/actor=-866.424, loss/alpha=-65.754, loss/critic1=1.521, loss/critic2=1.521, n/ep=0, n/st=1, rew=0.00]                         \n"
     ]
    },
    {
     "name": "stdout",
     "output_type": "stream",
     "text": [
      "Mixed return:  10037.476479248373 Suboptimal return:  10136.38144128635 Expert return:  8796.882329367372 Cede Control:  0.044\n",
      "Epoch #146: test_reward: 10.171906 ± 0.000000, best_reward: 11.006539 ± 0.000000 in #113\n"
     ]
    },
    {
     "name": "stderr",
     "output_type": "stream",
     "text": [
      "Epoch #147: 501it [00:15, 31.93it/s, alpha=0.000, env_step=73500, gradient_step=73500, len=0, loss/actor=-866.299, loss/alpha=-55.821, loss/critic1=1.522, loss/critic2=1.521, n/ep=0, n/st=1, rew=0.00]                         \n"
     ]
    },
    {
     "name": "stdout",
     "output_type": "stream",
     "text": [
      "Mixed return:  9860.077190319913 Suboptimal return:  9813.199524528618 Expert return:  8796.882329367372 Cede Control:  0.040499999999999994\n",
      "Epoch #147: test_reward: 10.121917 ± 0.000000, best_reward: 11.006539 ± 0.000000 in #113\n"
     ]
    },
    {
     "name": "stderr",
     "output_type": "stream",
     "text": [
      "Epoch #148: 501it [00:15, 31.96it/s, alpha=0.000, env_step=74000, gradient_step=74000, len=0, loss/actor=-867.230, loss/alpha=-60.071, loss/critic1=1.523, loss/critic2=1.521, n/ep=0, n/st=1, rew=0.00]                         \n"
     ]
    },
    {
     "name": "stdout",
     "output_type": "stream",
     "text": [
      "Mixed return:  10138.51646857469 Suboptimal return:  10256.337952543301 Expert return:  8796.882329367372 Cede Control:  0.0445\n",
      "Epoch #148: test_reward: 10.533361 ± 0.000000, best_reward: 11.006539 ± 0.000000 in #113\n"
     ]
    },
    {
     "name": "stderr",
     "output_type": "stream",
     "text": [
      "Epoch #149: 501it [00:15, 31.92it/s, alpha=0.000, env_step=74500, gradient_step=74500, len=0, loss/actor=-866.367, loss/alpha=-60.986, loss/critic1=1.515, loss/critic2=1.517, n/ep=0, n/st=1, rew=0.00]                         \n"
     ]
    },
    {
     "name": "stdout",
     "output_type": "stream",
     "text": [
      "Mixed return:  10106.368935674025 Suboptimal return:  10166.890780570655 Expert return:  8796.882329367372 Cede Control:  0.0545\n",
      "Epoch #149: test_reward: 10.557935 ± 0.000000, best_reward: 11.006539 ± 0.000000 in #113\n"
     ]
    },
    {
     "name": "stderr",
     "output_type": "stream",
     "text": [
      "Epoch #150: 501it [00:15, 31.87it/s, alpha=0.000, env_step=75000, gradient_step=75000, len=0, loss/actor=-868.230, loss/alpha=-63.464, loss/critic1=1.512, loss/critic2=1.512, n/ep=0, n/st=1, rew=0.00]                         \n"
     ]
    },
    {
     "name": "stdout",
     "output_type": "stream",
     "text": [
      "Mixed return:  10122.931500075354 Suboptimal return:  10292.855293586555 Expert return:  8796.882329367372 Cede Control:  0.056999999999999995\n",
      "Epoch #150: test_reward: 10.781781 ± 0.000000, best_reward: 11.006539 ± 0.000000 in #113\n"
     ]
    },
    {
     "name": "stderr",
     "output_type": "stream",
     "text": [
      "Epoch #151: 501it [00:15, 31.86it/s, alpha=0.000, env_step=75500, gradient_step=75500, len=0, loss/actor=-867.843, loss/alpha=-59.922, loss/critic1=1.515, loss/critic2=1.514, n/ep=0, n/st=1, rew=0.00]                         \n"
     ]
    },
    {
     "name": "stdout",
     "output_type": "stream",
     "text": [
      "Mixed return:  9948.708025306707 Suboptimal return:  10112.0066751027 Expert return:  8796.882329367372 Cede Control:  0.08449999999999999\n",
      "Epoch #151: test_reward: 10.443761 ± 0.000000, best_reward: 11.006539 ± 0.000000 in #113\n"
     ]
    },
    {
     "name": "stderr",
     "output_type": "stream",
     "text": [
      "Epoch #152: 501it [00:15, 31.74it/s, alpha=0.000, env_step=76000, gradient_step=76000, len=0, loss/actor=-868.660, loss/alpha=-62.470, loss/critic1=1.504, loss/critic2=1.505, n/ep=0, n/st=1, rew=0.00]                         \n"
     ]
    },
    {
     "name": "stdout",
     "output_type": "stream",
     "text": [
      "Mixed return:  10136.427887197682 Suboptimal return:  10303.200280372865 Expert return:  8796.882329367372 Cede Control:  0.0475\n",
      "Epoch #152: test_reward: 10.743239 ± 0.000000, best_reward: 11.006539 ± 0.000000 in #113\n"
     ]
    },
    {
     "name": "stderr",
     "output_type": "stream",
     "text": [
      "Epoch #153: 501it [00:15, 31.88it/s, alpha=0.000, env_step=76500, gradient_step=76500, len=0, loss/actor=-868.698, loss/alpha=-68.839, loss/critic1=1.494, loss/critic2=1.492, n/ep=0, n/st=1, rew=0.00]                         \n"
     ]
    },
    {
     "name": "stdout",
     "output_type": "stream",
     "text": [
      "Mixed return:  10151.128517822217 Suboptimal return:  10392.745418364755 Expert return:  8796.882329367372 Cede Control:  0.07050000000000001\n",
      "Epoch #153: test_reward: 10.283574 ± 0.000000, best_reward: 11.006539 ± 0.000000 in #113\n"
     ]
    },
    {
     "name": "stderr",
     "output_type": "stream",
     "text": [
      "Epoch #154: 501it [00:15, 31.92it/s, alpha=0.000, env_step=77000, gradient_step=77000, len=0, loss/actor=-869.581, loss/alpha=-60.621, loss/critic1=1.489, loss/critic2=1.486, n/ep=0, n/st=1, rew=0.00]                         \n"
     ]
    },
    {
     "name": "stdout",
     "output_type": "stream",
     "text": [
      "Mixed return:  10083.389859295337 Suboptimal return:  10209.108690868357 Expert return:  8796.882329367372 Cede Control:  0.0395\n",
      "Epoch #154: test_reward: 10.733345 ± 0.000000, best_reward: 11.006539 ± 0.000000 in #113\n"
     ]
    },
    {
     "name": "stderr",
     "output_type": "stream",
     "text": [
      "Epoch #155: 501it [00:15, 31.89it/s, alpha=0.000, env_step=77500, gradient_step=77500, len=0, loss/actor=-869.585, loss/alpha=-62.006, loss/critic1=1.495, loss/critic2=1.496, n/ep=0, n/st=1, rew=0.00]                         \n"
     ]
    },
    {
     "name": "stdout",
     "output_type": "stream",
     "text": [
      "Mixed return:  10051.04528839461 Suboptimal return:  10173.161916632875 Expert return:  8796.882329367372 Cede Control:  0.043\n",
      "Epoch #155: test_reward: 10.034632 ± 0.000000, best_reward: 11.006539 ± 0.000000 in #113\n"
     ]
    },
    {
     "name": "stderr",
     "output_type": "stream",
     "text": [
      "Epoch #156: 501it [00:15, 31.61it/s, alpha=0.000, env_step=78000, gradient_step=78000, len=0, loss/actor=-870.712, loss/alpha=-63.279, loss/critic1=1.494, loss/critic2=1.489, n/ep=0, n/st=1, rew=0.00]                         \n"
     ]
    },
    {
     "name": "stdout",
     "output_type": "stream",
     "text": [
      "Mixed return:  10010.794259953353 Suboptimal return:  10106.1472114252 Expert return:  8796.882329367372 Cede Control:  0.05\n",
      "Epoch #156: test_reward: 9.940142 ± 0.000000, best_reward: 11.006539 ± 0.000000 in #113\n"
     ]
    },
    {
     "name": "stderr",
     "output_type": "stream",
     "text": [
      "Epoch #157: 501it [00:15, 31.92it/s, alpha=0.000, env_step=78500, gradient_step=78500, len=0, loss/actor=-870.069, loss/alpha=-60.268, loss/critic1=1.481, loss/critic2=1.481, n/ep=0, n/st=1, rew=0.00]                         \n"
     ]
    },
    {
     "name": "stdout",
     "output_type": "stream",
     "text": [
      "Mixed return:  10253.376313801844 Suboptimal return:  10251.260959831714 Expert return:  8796.882329367372 Cede Control:  0.062\n",
      "Epoch #157: test_reward: 10.363281 ± 0.000000, best_reward: 11.006539 ± 0.000000 in #113\n"
     ]
    },
    {
     "name": "stderr",
     "output_type": "stream",
     "text": [
      "Epoch #158: 501it [00:15, 31.98it/s, alpha=0.000, env_step=79000, gradient_step=79000, len=0, loss/actor=-870.810, loss/alpha=-64.137, loss/critic1=1.459, loss/critic2=1.457, n/ep=0, n/st=1, rew=0.00]                         \n"
     ]
    },
    {
     "name": "stdout",
     "output_type": "stream",
     "text": [
      "Mixed return:  10240.995337941458 Suboptimal return:  10308.407568400367 Expert return:  8796.882329367372 Cede Control:  0.044\n",
      "Epoch #158: test_reward: 10.501328 ± 0.000000, best_reward: 11.006539 ± 0.000000 in #113\n"
     ]
    },
    {
     "name": "stderr",
     "output_type": "stream",
     "text": [
      "Epoch #159: 501it [00:15, 31.92it/s, alpha=0.000, env_step=79500, gradient_step=79500, len=0, loss/actor=-871.494, loss/alpha=-66.538, loss/critic1=1.452, loss/critic2=1.452, n/ep=0, n/st=1, rew=0.00]                         \n"
     ]
    },
    {
     "name": "stdout",
     "output_type": "stream",
     "text": [
      "Mixed return:  10112.780935286624 Suboptimal return:  10154.190377841436 Expert return:  8796.882329367372 Cede Control:  0.043\n",
      "Epoch #159: test_reward: 9.742265 ± 0.000000, best_reward: 11.006539 ± 0.000000 in #113\n"
     ]
    },
    {
     "name": "stderr",
     "output_type": "stream",
     "text": [
      "Epoch #160: 501it [00:15, 31.83it/s, alpha=0.000, env_step=80000, gradient_step=80000, len=0, loss/actor=-871.670, loss/alpha=-67.212, loss/critic1=1.484, loss/critic2=1.482, n/ep=0, n/st=1, rew=0.00]                         \n"
     ]
    },
    {
     "name": "stdout",
     "output_type": "stream",
     "text": [
      "Mixed return:  10056.94204166131 Suboptimal return:  10111.41156632876 Expert return:  8796.882329367372 Cede Control:  0.03\n",
      "Epoch #160: test_reward: 10.682071 ± 0.000000, best_reward: 11.006539 ± 0.000000 in #113\n"
     ]
    },
    {
     "name": "stderr",
     "output_type": "stream",
     "text": [
      "Epoch #161: 501it [00:15, 31.90it/s, alpha=0.000, env_step=80500, gradient_step=80500, len=0, loss/actor=-872.079, loss/alpha=-60.760, loss/critic1=1.468, loss/critic2=1.467, n/ep=0, n/st=1, rew=0.00]                         \n"
     ]
    },
    {
     "name": "stdout",
     "output_type": "stream",
     "text": [
      "Mixed return:  10312.237570961901 Suboptimal return:  10382.480986243158 Expert return:  8796.882329367372 Cede Control:  0.046\n",
      "Epoch #161: test_reward: 10.701039 ± 0.000000, best_reward: 11.006539 ± 0.000000 in #113\n"
     ]
    },
    {
     "name": "stderr",
     "output_type": "stream",
     "text": [
      "Epoch #162: 501it [00:15, 31.86it/s, alpha=0.000, env_step=81000, gradient_step=81000, len=0, loss/actor=-872.163, loss/alpha=-63.145, loss/critic1=1.487, loss/critic2=1.486, n/ep=0, n/st=1, rew=0.00]                         \n"
     ]
    },
    {
     "name": "stdout",
     "output_type": "stream",
     "text": [
      "Mixed return:  10306.933958338414 Suboptimal return:  10345.18717588102 Expert return:  8796.882329367372 Cede Control:  0.032\n",
      "Epoch #162: test_reward: 10.655921 ± 0.000000, best_reward: 11.006539 ± 0.000000 in #113\n"
     ]
    },
    {
     "name": "stderr",
     "output_type": "stream",
     "text": [
      "Epoch #163: 501it [00:16, 30.93it/s, alpha=0.000, env_step=81500, gradient_step=81500, len=0, loss/actor=-872.753, loss/alpha=-61.577, loss/critic1=1.451, loss/critic2=1.450, n/ep=0, n/st=1, rew=0.00]                         \n"
     ]
    },
    {
     "name": "stdout",
     "output_type": "stream",
     "text": [
      "Mixed return:  10326.722546812145 Suboptimal return:  10283.217768723618 Expert return:  8796.882329367372 Cede Control:  0.039999999999999994\n",
      "Epoch #163: test_reward: 10.729997 ± 0.000000, best_reward: 11.006539 ± 0.000000 in #113\n"
     ]
    },
    {
     "name": "stderr",
     "output_type": "stream",
     "text": [
      "Epoch #164: 501it [00:15, 31.73it/s, alpha=0.000, env_step=82000, gradient_step=82000, len=0, loss/actor=-873.437, loss/alpha=-61.572, loss/critic1=1.470, loss/critic2=1.469, n/ep=0, n/st=1, rew=0.00]                         \n"
     ]
    },
    {
     "name": "stdout",
     "output_type": "stream",
     "text": [
      "Mixed return:  10192.133270501188 Suboptimal return:  10266.960441525544 Expert return:  8796.882329367372 Cede Control:  0.041999999999999996\n",
      "Epoch #164: test_reward: 10.587182 ± 0.000000, best_reward: 11.006539 ± 0.000000 in #113\n"
     ]
    },
    {
     "name": "stderr",
     "output_type": "stream",
     "text": [
      "Epoch #165: 501it [00:15, 31.96it/s, alpha=0.000, env_step=82500, gradient_step=82500, len=0, loss/actor=-874.022, loss/alpha=-62.217, loss/critic1=1.428, loss/critic2=1.429, n/ep=0, n/st=1, rew=0.00]                         \n"
     ]
    },
    {
     "name": "stdout",
     "output_type": "stream",
     "text": [
      "Mixed return:  10153.81779903252 Suboptimal return:  10326.084587829573 Expert return:  8796.882329367372 Cede Control:  0.028\n",
      "Epoch #165: test_reward: 10.678091 ± 0.000000, best_reward: 11.006539 ± 0.000000 in #113\n"
     ]
    },
    {
     "name": "stderr",
     "output_type": "stream",
     "text": [
      "Epoch #166: 501it [00:15, 31.92it/s, alpha=0.000, env_step=83000, gradient_step=83000, len=0, loss/actor=-873.931, loss/alpha=-70.873, loss/critic1=1.458, loss/critic2=1.458, n/ep=0, n/st=1, rew=0.00]                         \n"
     ]
    },
    {
     "name": "stdout",
     "output_type": "stream",
     "text": [
      "Mixed return:  10253.484013403224 Suboptimal return:  10191.93347925707 Expert return:  8796.882329367372 Cede Control:  0.0525\n",
      "Epoch #166: test_reward: 9.881757 ± 0.000000, best_reward: 11.006539 ± 0.000000 in #113\n"
     ]
    },
    {
     "name": "stderr",
     "output_type": "stream",
     "text": [
      "Epoch #167: 501it [00:15, 31.92it/s, alpha=0.000, env_step=83500, gradient_step=83500, len=0, loss/actor=-874.096, loss/alpha=-70.399, loss/critic1=1.446, loss/critic2=1.447, n/ep=0, n/st=1, rew=0.00]                         \n"
     ]
    },
    {
     "name": "stdout",
     "output_type": "stream",
     "text": [
      "Mixed return:  9921.194406914354 Suboptimal return:  9981.254126281627 Expert return:  8796.882329367372 Cede Control:  0.063\n",
      "Epoch #167: test_reward: 10.256508 ± 0.000000, best_reward: 11.006539 ± 0.000000 in #113\n"
     ]
    },
    {
     "name": "stderr",
     "output_type": "stream",
     "text": [
      "Epoch #168: 501it [00:15, 31.92it/s, alpha=0.000, env_step=84000, gradient_step=84000, len=0, loss/actor=-874.820, loss/alpha=-65.169, loss/critic1=1.455, loss/critic2=1.454, n/ep=0, n/st=1, rew=0.00]                         \n"
     ]
    },
    {
     "name": "stdout",
     "output_type": "stream",
     "text": [
      "Mixed return:  10127.129926351223 Suboptimal return:  10233.29529325332 Expert return:  8796.882329367372 Cede Control:  0.067\n",
      "Epoch #168: test_reward: 10.870835 ± 0.000000, best_reward: 11.006539 ± 0.000000 in #113\n"
     ]
    },
    {
     "name": "stderr",
     "output_type": "stream",
     "text": [
      "Epoch #169: 501it [00:15, 31.94it/s, alpha=0.000, env_step=84500, gradient_step=84500, len=0, loss/actor=-874.480, loss/alpha=-66.272, loss/critic1=1.463, loss/critic2=1.460, n/ep=0, n/st=1, rew=0.00]                         \n"
     ]
    },
    {
     "name": "stdout",
     "output_type": "stream",
     "text": [
      "Mixed return:  10353.640921406837 Suboptimal return:  10250.543695227449 Expert return:  8796.882329367372 Cede Control:  0.0295\n",
      "Epoch #169: test_reward: 10.796160 ± 0.000000, best_reward: 11.006539 ± 0.000000 in #113\n"
     ]
    },
    {
     "name": "stderr",
     "output_type": "stream",
     "text": [
      "Epoch #170: 501it [00:15, 31.92it/s, alpha=0.000, env_step=85000, gradient_step=85000, len=0, loss/actor=-875.488, loss/alpha=-55.884, loss/critic1=1.448, loss/critic2=1.446, n/ep=0, n/st=1, rew=0.00]                         \n"
     ]
    },
    {
     "name": "stdout",
     "output_type": "stream",
     "text": [
      "Mixed return:  9968.179297943927 Suboptimal return:  9940.644730517435 Expert return:  8796.882329367372 Cede Control:  0.034\n",
      "Epoch #170: test_reward: 10.340033 ± 0.000000, best_reward: 11.006539 ± 0.000000 in #113\n"
     ]
    },
    {
     "name": "stderr",
     "output_type": "stream",
     "text": [
      "Epoch #171: 501it [00:15, 31.89it/s, alpha=0.000, env_step=85500, gradient_step=85500, len=0, loss/actor=-875.488, loss/alpha=-71.808, loss/critic1=1.466, loss/critic2=1.467, n/ep=0, n/st=1, rew=0.00]                         \n"
     ]
    },
    {
     "name": "stdout",
     "output_type": "stream",
     "text": [
      "Mixed return:  10366.00017296585 Suboptimal return:  10504.04751984528 Expert return:  8796.882329367372 Cede Control:  0.0955\n",
      "Epoch #171: test_reward: 10.802094 ± 0.000000, best_reward: 11.006539 ± 0.000000 in #113\n"
     ]
    },
    {
     "name": "stderr",
     "output_type": "stream",
     "text": [
      "Epoch #172: 501it [00:15, 31.57it/s, alpha=0.000, env_step=86000, gradient_step=86000, len=0, loss/actor=-876.253, loss/alpha=-58.844, loss/critic1=1.455, loss/critic2=1.453, n/ep=0, n/st=1, rew=0.00]                         \n"
     ]
    },
    {
     "name": "stdout",
     "output_type": "stream",
     "text": [
      "Mixed return:  10300.855621528484 Suboptimal return:  10378.663447623792 Expert return:  8796.882329367372 Cede Control:  0.0525\n",
      "Epoch #172: test_reward: 10.502883 ± 0.000000, best_reward: 11.006539 ± 0.000000 in #113\n"
     ]
    },
    {
     "name": "stderr",
     "output_type": "stream",
     "text": [
      "Epoch #173: 501it [00:15, 31.64it/s, alpha=0.000, env_step=86500, gradient_step=86500, len=0, loss/actor=-876.287, loss/alpha=-65.069, loss/critic1=1.417, loss/critic2=1.418, n/ep=0, n/st=1, rew=0.00]                         \n"
     ]
    },
    {
     "name": "stdout",
     "output_type": "stream",
     "text": [
      "Mixed return:  10219.22145803856 Suboptimal return:  10352.505319721706 Expert return:  8796.882329367372 Cede Control:  0.047\n",
      "Epoch #173: test_reward: 10.581324 ± 0.000000, best_reward: 11.006539 ± 0.000000 in #113\n"
     ]
    },
    {
     "name": "stderr",
     "output_type": "stream",
     "text": [
      "Epoch #174: 501it [00:16, 31.09it/s, alpha=0.000, env_step=87000, gradient_step=87000, len=0, loss/actor=-876.704, loss/alpha=-61.203, loss/critic1=1.434, loss/critic2=1.435, n/ep=0, n/st=1, rew=0.00]                         \n"
     ]
    },
    {
     "name": "stdout",
     "output_type": "stream",
     "text": [
      "Mixed return:  9957.46513717356 Suboptimal return:  10023.821390391033 Expert return:  8796.882329367372 Cede Control:  0.026000000000000002\n",
      "Epoch #174: test_reward: 10.505611 ± 0.000000, best_reward: 11.006539 ± 0.000000 in #113\n"
     ]
    },
    {
     "name": "stderr",
     "output_type": "stream",
     "text": [
      "Epoch #175: 501it [00:15, 31.49it/s, alpha=0.000, env_step=87500, gradient_step=87500, len=0, loss/actor=-876.737, loss/alpha=-64.865, loss/critic1=1.419, loss/critic2=1.418, n/ep=0, n/st=1, rew=0.00]                         \n"
     ]
    },
    {
     "name": "stdout",
     "output_type": "stream",
     "text": [
      "Mixed return:  10211.737652991622 Suboptimal return:  10240.683999180601 Expert return:  8796.882329367372 Cede Control:  0.0755\n",
      "Epoch #175: test_reward: 10.744055 ± 0.000000, best_reward: 11.006539 ± 0.000000 in #113\n"
     ]
    },
    {
     "name": "stderr",
     "output_type": "stream",
     "text": [
      "Epoch #176: 501it [00:15, 31.51it/s, alpha=0.000, env_step=88000, gradient_step=88000, len=0, loss/actor=-877.472, loss/alpha=-56.481, loss/critic1=1.412, loss/critic2=1.410, n/ep=0, n/st=1, rew=0.00]                         \n"
     ]
    },
    {
     "name": "stdout",
     "output_type": "stream",
     "text": [
      "Mixed return:  10147.10087960204 Suboptimal return:  10259.849734732845 Expert return:  8796.882329367372 Cede Control:  0.066\n",
      "Epoch #176: test_reward: 10.328531 ± 0.000000, best_reward: 11.006539 ± 0.000000 in #113\n"
     ]
    },
    {
     "name": "stderr",
     "output_type": "stream",
     "text": [
      "Epoch #177: 501it [00:15, 31.54it/s, alpha=0.000, env_step=88500, gradient_step=88500, len=0, loss/actor=-877.593, loss/alpha=-60.696, loss/critic1=1.433, loss/critic2=1.430, n/ep=0, n/st=1, rew=0.00]                         \n"
     ]
    },
    {
     "name": "stdout",
     "output_type": "stream",
     "text": [
      "Mixed return:  10012.12477933891 Suboptimal return:  10154.991744139854 Expert return:  8796.882329367372 Cede Control:  0.079\n",
      "Epoch #177: test_reward: 9.578966 ± 0.000000, best_reward: 11.006539 ± 0.000000 in #113\n"
     ]
    },
    {
     "name": "stderr",
     "output_type": "stream",
     "text": [
      "Epoch #178: 501it [00:15, 31.75it/s, alpha=0.000, env_step=89000, gradient_step=89000, len=0, loss/actor=-878.236, loss/alpha=-59.975, loss/critic1=1.423, loss/critic2=1.422, n/ep=0, n/st=1, rew=0.00]                         \n"
     ]
    },
    {
     "name": "stdout",
     "output_type": "stream",
     "text": [
      "Mixed return:  10003.848781008292 Suboptimal return:  10136.53618856725 Expert return:  8796.882329367372 Cede Control:  0.0655\n",
      "Epoch #178: test_reward: 10.816660 ± 0.000000, best_reward: 11.006539 ± 0.000000 in #113\n"
     ]
    },
    {
     "name": "stderr",
     "output_type": "stream",
     "text": [
      "Epoch #179: 501it [00:15, 31.50it/s, alpha=0.000, env_step=89500, gradient_step=89500, len=0, loss/actor=-878.280, loss/alpha=-66.821, loss/critic1=1.430, loss/critic2=1.430, n/ep=0, n/st=1, rew=0.00]                         \n"
     ]
    },
    {
     "name": "stdout",
     "output_type": "stream",
     "text": [
      "Mixed return:  10224.44524372937 Suboptimal return:  10217.617292347757 Expert return:  8796.882329367372 Cede Control:  0.0305\n",
      "Epoch #179: test_reward: 10.269140 ± 0.000000, best_reward: 11.006539 ± 0.000000 in #113\n"
     ]
    },
    {
     "name": "stderr",
     "output_type": "stream",
     "text": [
      "Epoch #180: 501it [00:15, 31.62it/s, alpha=0.000, env_step=90000, gradient_step=90000, len=0, loss/actor=-878.588, loss/alpha=-67.862, loss/critic1=1.422, loss/critic2=1.422, n/ep=0, n/st=1, rew=0.00]                         \n"
     ]
    },
    {
     "name": "stdout",
     "output_type": "stream",
     "text": [
      "Mixed return:  10204.949868135202 Suboptimal return:  10276.893012920136 Expert return:  8796.882329367372 Cede Control:  0.0785\n",
      "Epoch #180: test_reward: 10.581409 ± 0.000000, best_reward: 11.006539 ± 0.000000 in #113\n"
     ]
    },
    {
     "name": "stderr",
     "output_type": "stream",
     "text": [
      "Epoch #181: 501it [00:15, 32.06it/s, alpha=0.000, env_step=90500, gradient_step=90500, len=0, loss/actor=-879.759, loss/alpha=-65.468, loss/critic1=1.399, loss/critic2=1.396, n/ep=0, n/st=1, rew=0.00]                         \n"
     ]
    },
    {
     "name": "stdout",
     "output_type": "stream",
     "text": [
      "Mixed return:  10340.638688573843 Suboptimal return:  10365.87580712817 Expert return:  8796.882329367372 Cede Control:  0.078\n",
      "Epoch #181: test_reward: 10.777106 ± 0.000000, best_reward: 11.006539 ± 0.000000 in #113\n"
     ]
    },
    {
     "name": "stderr",
     "output_type": "stream",
     "text": [
      "Epoch #182: 501it [00:15, 31.36it/s, alpha=0.000, env_step=91000, gradient_step=91000, len=0, loss/actor=-879.274, loss/alpha=-55.100, loss/critic1=1.409, loss/critic2=1.410, n/ep=0, n/st=1, rew=0.00]                         \n"
     ]
    },
    {
     "name": "stdout",
     "output_type": "stream",
     "text": [
      "Mixed return:  10224.38131340788 Suboptimal return:  10314.98908187274 Expert return:  8796.882329367372 Cede Control:  0.0895\n",
      "Epoch #182: test_reward: 10.716529 ± 0.000000, best_reward: 11.006539 ± 0.000000 in #113\n"
     ]
    },
    {
     "name": "stderr",
     "output_type": "stream",
     "text": [
      "Epoch #183: 501it [00:16, 30.73it/s, alpha=0.000, env_step=91500, gradient_step=91500, len=0, loss/actor=-879.934, loss/alpha=-56.249, loss/critic1=1.414, loss/critic2=1.412, n/ep=0, n/st=1, rew=0.00]                         \n"
     ]
    },
    {
     "name": "stdout",
     "output_type": "stream",
     "text": [
      "Mixed return:  10192.582340319783 Suboptimal return:  10427.717770045901 Expert return:  8796.882329367372 Cede Control:  0.094\n",
      "Epoch #183: test_reward: 10.926341 ± 0.000000, best_reward: 11.006539 ± 0.000000 in #113\n"
     ]
    },
    {
     "name": "stderr",
     "output_type": "stream",
     "text": [
      "Epoch #184: 501it [00:15, 31.76it/s, alpha=0.000, env_step=92000, gradient_step=92000, len=0, loss/actor=-879.542, loss/alpha=-66.052, loss/critic1=1.405, loss/critic2=1.401, n/ep=0, n/st=1, rew=0.00]                         \n"
     ]
    },
    {
     "name": "stdout",
     "output_type": "stream",
     "text": [
      "Mixed return:  10258.670602274322 Suboptimal return:  10168.644602925855 Expert return:  8796.882329367372 Cede Control:  0.061\n",
      "Epoch #184: test_reward: 9.210461 ± 0.000000, best_reward: 11.006539 ± 0.000000 in #113\n"
     ]
    },
    {
     "name": "stderr",
     "output_type": "stream",
     "text": [
      "Epoch #185: 501it [00:15, 31.57it/s, alpha=0.000, env_step=92500, gradient_step=92500, len=0, loss/actor=-881.732, loss/alpha=-57.362, loss/critic1=1.396, loss/critic2=1.396, n/ep=0, n/st=1, rew=0.00]                         \n"
     ]
    },
    {
     "name": "stdout",
     "output_type": "stream",
     "text": [
      "Mixed return:  10239.572264557328 Suboptimal return:  10298.667595295767 Expert return:  8796.882329367372 Cede Control:  0.040999999999999995\n",
      "Epoch #185: test_reward: 10.585040 ± 0.000000, best_reward: 11.006539 ± 0.000000 in #113\n"
     ]
    },
    {
     "name": "stderr",
     "output_type": "stream",
     "text": [
      "Epoch #186: 501it [00:15, 31.50it/s, alpha=0.000, env_step=93000, gradient_step=93000, len=0, loss/actor=-881.299, loss/alpha=-56.546, loss/critic1=1.419, loss/critic2=1.418, n/ep=0, n/st=1, rew=0.00]                         \n"
     ]
    },
    {
     "name": "stdout",
     "output_type": "stream",
     "text": [
      "Mixed return:  10162.986966556302 Suboptimal return:  10346.968839814937 Expert return:  8796.882329367372 Cede Control:  0.0915\n",
      "Epoch #186: test_reward: 10.654805 ± 0.000000, best_reward: 11.006539 ± 0.000000 in #113\n"
     ]
    },
    {
     "name": "stderr",
     "output_type": "stream",
     "text": [
      "Epoch #187: 501it [00:16, 30.05it/s, alpha=0.000, env_step=93500, gradient_step=93500, len=0, loss/actor=-881.270, loss/alpha=-57.525, loss/critic1=1.410, loss/critic2=1.411, n/ep=0, n/st=1, rew=0.00]                         \n"
     ]
    },
    {
     "name": "stdout",
     "output_type": "stream",
     "text": [
      "Mixed return:  9954.663148676085 Suboptimal return:  10280.685906071116 Expert return:  8796.882329367372 Cede Control:  0.1095\n",
      "Epoch #187: test_reward: 9.262471 ± 0.000000, best_reward: 11.006539 ± 0.000000 in #113\n"
     ]
    },
    {
     "name": "stderr",
     "output_type": "stream",
     "text": [
      "Epoch #188: 501it [00:16, 29.84it/s, alpha=0.000, env_step=94000, gradient_step=94000, len=0, loss/actor=-882.230, loss/alpha=-55.240, loss/critic1=1.405, loss/critic2=1.405, n/ep=0, n/st=1, rew=0.00]                         \n"
     ]
    },
    {
     "name": "stdout",
     "output_type": "stream",
     "text": [
      "Mixed return:  10204.135938217289 Suboptimal return:  10265.730258217607 Expert return:  8796.882329367372 Cede Control:  0.0495\n",
      "Epoch #188: test_reward: 10.342551 ± 0.000000, best_reward: 11.006539 ± 0.000000 in #113\n"
     ]
    },
    {
     "name": "stderr",
     "output_type": "stream",
     "text": [
      "Epoch #189: 501it [00:16, 31.19it/s, alpha=0.000, env_step=94500, gradient_step=94500, len=0, loss/actor=-882.043, loss/alpha=-60.803, loss/critic1=1.398, loss/critic2=1.395, n/ep=0, n/st=1, rew=0.00]                         \n"
     ]
    },
    {
     "name": "stdout",
     "output_type": "stream",
     "text": [
      "Mixed return:  10278.720144513733 Suboptimal return:  10275.435224271201 Expert return:  8796.882329367372 Cede Control:  0.066\n",
      "Epoch #189: test_reward: 10.743490 ± 0.000000, best_reward: 11.006539 ± 0.000000 in #113\n"
     ]
    },
    {
     "name": "stderr",
     "output_type": "stream",
     "text": [
      "Epoch #190: 501it [00:15, 31.45it/s, alpha=0.000, env_step=95000, gradient_step=95000, len=0, loss/actor=-882.836, loss/alpha=-56.386, loss/critic1=1.392, loss/critic2=1.393, n/ep=0, n/st=1, rew=0.00]                         \n"
     ]
    },
    {
     "name": "stdout",
     "output_type": "stream",
     "text": [
      "Mixed return:  10141.413574999435 Suboptimal return:  10237.027727872155 Expert return:  8796.882329367372 Cede Control:  0.059\n",
      "Epoch #190: test_reward: 10.665041 ± 0.000000, best_reward: 11.006539 ± 0.000000 in #113\n"
     ]
    },
    {
     "name": "stderr",
     "output_type": "stream",
     "text": [
      "Epoch #191: 501it [00:16, 30.59it/s, alpha=0.000, env_step=95500, gradient_step=95500, len=0, loss/actor=-882.776, loss/alpha=-49.067, loss/critic1=1.389, loss/critic2=1.388, n/ep=0, n/st=1, rew=0.00]                         \n"
     ]
    },
    {
     "name": "stdout",
     "output_type": "stream",
     "text": [
      "Mixed return:  10255.618667360643 Suboptimal return:  10343.722939674637 Expert return:  8796.882329367372 Cede Control:  0.077\n",
      "Epoch #191: test_reward: 10.716815 ± 0.000000, best_reward: 11.006539 ± 0.000000 in #113\n"
     ]
    },
    {
     "name": "stderr",
     "output_type": "stream",
     "text": [
      "Epoch #192: 501it [00:15, 31.64it/s, alpha=0.000, env_step=96000, gradient_step=96000, len=0, loss/actor=-884.135, loss/alpha=-61.702, loss/critic1=1.390, loss/critic2=1.389, n/ep=0, n/st=1, rew=0.00]                         \n"
     ]
    },
    {
     "name": "stdout",
     "output_type": "stream",
     "text": [
      "Mixed return:  10212.547013543377 Suboptimal return:  10282.096624477079 Expert return:  8796.882329367372 Cede Control:  0.067\n",
      "Epoch #192: test_reward: 10.566879 ± 0.000000, best_reward: 11.006539 ± 0.000000 in #113\n"
     ]
    },
    {
     "name": "stderr",
     "output_type": "stream",
     "text": [
      "Epoch #193: 501it [00:15, 31.73it/s, alpha=0.000, env_step=96500, gradient_step=96500, len=0, loss/actor=-883.655, loss/alpha=-54.356, loss/critic1=1.416, loss/critic2=1.412, n/ep=0, n/st=1, rew=0.00]                         \n"
     ]
    },
    {
     "name": "stdout",
     "output_type": "stream",
     "text": [
      "Mixed return:  10293.21475720279 Suboptimal return:  10325.02267513344 Expert return:  8796.882329367372 Cede Control:  0.0645\n",
      "Epoch #193: test_reward: 10.301788 ± 0.000000, best_reward: 11.006539 ± 0.000000 in #113\n"
     ]
    },
    {
     "name": "stderr",
     "output_type": "stream",
     "text": [
      "Epoch #194: 501it [00:15, 31.66it/s, alpha=0.000, env_step=97000, gradient_step=97000, len=0, loss/actor=-884.387, loss/alpha=-74.422, loss/critic1=1.401, loss/critic2=1.397, n/ep=0, n/st=1, rew=0.00]                         \n"
     ]
    },
    {
     "name": "stdout",
     "output_type": "stream",
     "text": [
      "Mixed return:  9679.978769648365 Suboptimal return:  9849.574741225171 Expert return:  8796.882329367372 Cede Control:  0.125\n",
      "Epoch #194: test_reward: 9.175453 ± 0.000000, best_reward: 11.006539 ± 0.000000 in #113\n"
     ]
    },
    {
     "name": "stderr",
     "output_type": "stream",
     "text": [
      "Epoch #195: 501it [00:15, 31.49it/s, alpha=0.000, env_step=97500, gradient_step=97500, len=0, loss/actor=-884.448, loss/alpha=-72.605, loss/critic1=1.369, loss/critic2=1.368, n/ep=0, n/st=1, rew=0.00]                         \n"
     ]
    },
    {
     "name": "stdout",
     "output_type": "stream",
     "text": [
      "Mixed return:  10413.973274309436 Suboptimal return:  10424.91826125576 Expert return:  8796.882329367372 Cede Control:  0.053\n",
      "Epoch #195: test_reward: 11.086854 ± 0.000000, best_reward: 11.086854 ± 0.000000 in #195\n"
     ]
    },
    {
     "name": "stderr",
     "output_type": "stream",
     "text": [
      "Epoch #196: 501it [00:15, 31.51it/s, alpha=0.000, env_step=98000, gradient_step=98000, len=0, loss/actor=-885.206, loss/alpha=-61.223, loss/critic1=1.401, loss/critic2=1.398, n/ep=0, n/st=1, rew=0.00]                         \n"
     ]
    },
    {
     "name": "stdout",
     "output_type": "stream",
     "text": [
      "Mixed return:  10143.937508301993 Suboptimal return:  10014.35031806846 Expert return:  8796.882329367372 Cede Control:  0.1085\n",
      "Epoch #196: test_reward: 10.087384 ± 0.000000, best_reward: 11.086854 ± 0.000000 in #195\n"
     ]
    },
    {
     "name": "stderr",
     "output_type": "stream",
     "text": [
      "Epoch #197: 501it [00:15, 31.51it/s, alpha=0.000, env_step=98500, gradient_step=98500, len=0, loss/actor=-885.114, loss/alpha=-56.692, loss/critic1=1.379, loss/critic2=1.379, n/ep=0, n/st=1, rew=0.00]                         \n"
     ]
    },
    {
     "name": "stdout",
     "output_type": "stream",
     "text": [
      "Mixed return:  9929.027481672487 Suboptimal return:  10125.69685638736 Expert return:  8796.882329367372 Cede Control:  0.1215\n",
      "Epoch #197: test_reward: 9.843893 ± 0.000000, best_reward: 11.086854 ± 0.000000 in #195\n"
     ]
    },
    {
     "name": "stderr",
     "output_type": "stream",
     "text": [
      "Epoch #198: 501it [00:15, 31.49it/s, alpha=0.000, env_step=99000, gradient_step=99000, len=0, loss/actor=-885.789, loss/alpha=-59.790, loss/critic1=1.367, loss/critic2=1.368, n/ep=0, n/st=1, rew=0.00]                         \n"
     ]
    },
    {
     "name": "stdout",
     "output_type": "stream",
     "text": [
      "Mixed return:  10299.1288255445 Suboptimal return:  10473.903425427652 Expert return:  8796.882329367372 Cede Control:  0.09\n",
      "Epoch #198: test_reward: 10.318614 ± 0.000000, best_reward: 11.086854 ± 0.000000 in #195\n"
     ]
    },
    {
     "name": "stderr",
     "output_type": "stream",
     "text": [
      "Epoch #199: 501it [00:15, 31.67it/s, alpha=0.000, env_step=99500, gradient_step=99500, len=0, loss/actor=-885.984, loss/alpha=-68.574, loss/critic1=1.379, loss/critic2=1.377, n/ep=0, n/st=1, rew=0.00]                         \n"
     ]
    },
    {
     "name": "stdout",
     "output_type": "stream",
     "text": [
      "Mixed return:  10281.887757421355 Suboptimal return:  10436.395576152407 Expert return:  8796.882329367372 Cede Control:  0.10400000000000001\n",
      "Epoch #199: test_reward: 10.833186 ± 0.000000, best_reward: 11.086854 ± 0.000000 in #195\n"
     ]
    },
    {
     "name": "stderr",
     "output_type": "stream",
     "text": [
      "Epoch #200: 501it [00:15, 31.87it/s, alpha=0.000, env_step=100000, gradient_step=100000, len=0, loss/actor=-885.856, loss/alpha=-49.605, loss/critic1=1.402, loss/critic2=1.401, n/ep=0, n/st=1, rew=0.00]                         \n"
     ]
    },
    {
     "name": "stdout",
     "output_type": "stream",
     "text": [
      "Mixed return:  9956.516962659345 Suboptimal return:  10216.791208859715 Expert return:  8796.882329367372 Cede Control:  0.1175\n",
      "Epoch #200: test_reward: 9.466060 ± 0.000000, best_reward: 11.086854 ± 0.000000 in #195\n"
     ]
    }
   ],
   "source": [
    "from tianshou.trainer import OffpolicyTrainer\n",
    "\n",
    "result = OffpolicyTrainer(\n",
    "    policy=mixed_policy,\n",
    "    train_collector=train_collector,\n",
    "    test_collector=test_collector,\n",
    "    test_fn=test_fn,\n",
    "    max_epoch=200,\n",
    "    step_per_epoch=500,\n",
    "    step_per_collect=1,\n",
    "    episode_per_test=1,\n",
    "    batch_size=512,\n",
    "    logger=logger,\n",
    "    update_per_step=1,\n",
    "    test_in_train=False,\n",
    ").run()"
   ]
  },
  {
   "cell_type": "code",
   "execution_count": 80,
   "metadata": {},
   "outputs": [
    {
     "data": {
      "text/plain": [
       "{'n/ep': 40,\n",
       " 'n/st': 40000,\n",
       " 'rews': array([10078.28612998, 10020.62252511, 10084.28631274, 10071.72214637,\n",
       "        10028.61989436, 10032.52595675, 10000.93707361, 10158.52520404,\n",
       "        10046.18496275, 10205.00085711, 10131.81856134, 10123.08677904,\n",
       "        10138.65829253, 10132.33434695, 10169.78479349, 10096.58313472,\n",
       "        10054.97766876, 10197.87487305, 10124.87126482, 10115.92394086,\n",
       "        10095.38993224, 10133.19111796,  9975.50362428, 10146.70650897,\n",
       "        10146.17485456, 10180.64416895, 10038.8163267 , 10103.81132442,\n",
       "        10085.98588088, 10045.76368124, 10147.08554554,  9976.60361777,\n",
       "        10073.43598737, 10081.37241664, 10114.65214788, 10148.46090084,\n",
       "        10108.67920538, 10014.6069499 , 10093.69196231, 10149.9160581 ]),\n",
       " 'lens': array([1000, 1000, 1000, 1000, 1000, 1000, 1000, 1000, 1000, 1000, 1000,\n",
       "        1000, 1000, 1000, 1000, 1000, 1000, 1000, 1000, 1000, 1000, 1000,\n",
       "        1000, 1000, 1000, 1000, 1000, 1000, 1000, 1000, 1000, 1000, 1000,\n",
       "        1000, 1000, 1000, 1000, 1000, 1000, 1000]),\n",
       " 'idxs': array([0, 1, 2, 3, 4, 0, 1, 2, 3, 4, 0, 1, 2, 3, 4, 0, 1, 2, 3, 4, 0, 1,\n",
       "        2, 3, 4, 0, 1, 2, 3, 4, 0, 1, 2, 3, 4, 0, 1, 2, 3, 4]),\n",
       " 'rew': 10096.827923257291,\n",
       " 'len': 1000.0,\n",
       " 'rew_std': 57.21958690909673,\n",
       " 'len_std': 0.0}"
      ]
     },
     "execution_count": 80,
     "metadata": {},
     "output_type": "execute_result"
    }
   ],
   "source": [
    "offline_policy1.eval()\n",
    "test_collector1 = Collector(offline_policy1, test_envs)\n",
    "test_collector1.collect(n_episode=40)"
   ]
  },
  {
   "cell_type": "code",
   "execution_count": 31,
   "metadata": {},
   "outputs": [],
   "source": [
    "batch, _ = offline_data.sample(10)\n",
    "batch = to_torch(batch, dtype=torch.float32, device=device)"
   ]
  },
  {
   "cell_type": "code",
   "execution_count": 32,
   "metadata": {},
   "outputs": [],
   "source": [
    "with torch.no_grad():\n",
    "    expert_result = mixed_policy.expert_policy(batch)\n",
    "    base_result = mixed_policy.base_policy(batch)\n",
    "    expert_qvalues1 = mixed_policy.expert_policy.critic1(batch.obs, expert_result.act)\n",
    "    expert_qvalues2 = mixed_policy.expert_policy.critic2(batch.obs, expert_result.act)\n",
    "    expert_qvalues = torch.minimum(expert_qvalues1, expert_qvalues2)\n",
    "    base_qvalues1 = mixed_policy.base_policy.critic1(batch.obs, base_result.act)\n",
    "    base_qvalues2 = mixed_policy.base_policy.critic2(batch.obs, base_result.act)\n",
    "    base_qvalues = torch.minimum(base_qvalues1, base_qvalues2)"
   ]
  },
  {
   "cell_type": "code",
   "execution_count": 36,
   "metadata": {},
   "outputs": [
    {
     "data": {
      "text/plain": [
       "tensor([False, False, False, False, False, False, False, False, False, False],\n",
       "       device='cuda:0')"
      ]
     },
     "execution_count": 36,
     "metadata": {},
     "output_type": "execute_result"
    }
   ],
   "source": [
    "base_qvalues[:, 0] < expert_qvalues[:, 0] "
   ]
  },
  {
   "cell_type": "code",
   "execution_count": 28,
   "metadata": {},
   "outputs": [
    {
     "data": {
      "text/plain": [
       "torch.Size([10, 6])"
      ]
     },
     "execution_count": 28,
     "metadata": {},
     "output_type": "execute_result"
    }
   ],
   "source": [
    "expert_result.act.shape"
   ]
  },
  {
   "cell_type": "code",
   "execution_count": null,
   "metadata": {},
   "outputs": [
    {
     "data": {
      "text/plain": [
       "{'n/ep': 5,\n",
       " 'n/st': 5000,\n",
       " 'rews': array([8791.59973012, 8723.76183797, 8818.18316205, 8798.05388839,\n",
       "        8785.06097453]),\n",
       " 'lens': array([1000, 1000, 1000, 1000, 1000]),\n",
       " 'idxs': array([15622, 16622, 17622, 18622, 19622]),\n",
       " 'rew': 8783.331918612403,\n",
       " 'len': 1000.0,\n",
       " 'rew_std': 31.784544712317235,\n",
       " 'len_std': 0.0}"
      ]
     },
     "execution_count": 27,
     "metadata": {},
     "output_type": "execute_result"
    }
   ],
   "source": [
    "train_collector.collect(n_episode=5)"
   ]
  },
  {
   "cell_type": "code",
   "execution_count": 13,
   "metadata": {},
   "outputs": [
    {
     "data": {
      "image/png": "[encoded data removed]",
      "text/plain": [
       "<Figure size 1000x600 with 1 Axes>"
      ]
     },
     "metadata": {},
     "output_type": "display_data"
    }
   ],
   "source": [
    "import numpy as np\n",
    "import matplotlib.pyplot as plt\n",
    "\n",
    "# Adjusting the sigmoid_scheduler function as provided by the user\n",
    "def sigmoid_scheduler(t, t_max=1e5, initial_value=1., final_value=0.):\n",
    "    \"\"\"\n",
    "    Sigmoid-like scheduler.\n",
    "\n",
    "    :param t: Current step\n",
    "    :param t_max: Maximum number of steps\n",
    "    :param initial_value: Initial value\n",
    "    :param final_value: Final value\n",
    "    :return: Value at current step\n",
    "    \"\"\"\n",
    "    return initial_value + (final_value - initial_value) * (1 / (1 + np.exp(-30 * (t / t_max - 0.5))))\n",
    "\n",
    "# Parameters for the scheduler\n",
    "t_max = 1.6e5\n",
    "initial_value = 1.\n",
    "final_value = 0.\n",
    "\n",
    "# Generating values\n",
    "t_values = np.linspace(0, t_max, 1000)\n",
    "values = [sigmoid_scheduler(t, t_max, initial_value, final_value) for t in t_values]\n",
    "\n",
    "# Plotting\n",
    "plt.figure(figsize=(10, 6))\n",
    "plt.plot(t_values, values, label=\"Sigmoid-like Scheduler\")\n",
    "plt.xlabel(\"Steps\")\n",
    "plt.ylabel(\"Value\")\n",
    "plt.title(\"Sigmoid-like Scheduler\")\n",
    "plt.legend()\n",
    "plt.grid(True)\n",
    "plt.show()\n"
   ]
  },
  {
   "cell_type": "code",
   "execution_count": null,
   "metadata": {},
   "outputs": [],
   "source": []
  },
  {
   "cell_type": "code",
   "execution_count": null,
   "metadata": {},
   "outputs": [],
   "source": []
  },
  {
   "cell_type": "code",
   "execution_count": null,
   "metadata": {},
   "outputs": [],
   "source": []
  },
  {
   "cell_type": "code",
   "execution_count": null,
   "metadata": {},
   "outputs": [],
   "source": []
  }
 ],
 "metadata": {
  "kernelspec": {
   "display_name": "dev",
   "language": "python",
   "name": "python3"
  },
  "language_info": {
   "codemirror_mode": {
    "name": "ipython",
    "version": 3
   },
   "file_extension": ".py",
   "mimetype": "text/x-python",
   "name": "python",
   "nbconvert_exporter": "python",
   "pygments_lexer": "ipython3",
   "version": "3.11.4"
  },
  "orig_nbformat": 4
 },
 "nbformat": 4,
 "nbformat_minor": 2
}
