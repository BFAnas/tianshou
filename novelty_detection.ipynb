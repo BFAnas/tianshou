{
 "cells": [
  {
   "cell_type": "code",
   "execution_count": 1,
   "metadata": {},
   "outputs": [
    {
     "name": "stderr",
     "output_type": "stream",
     "text": [
      "Warning: Mujoco-based envs failed to import. Set the environment variable D4RL_SUPPRESS_IMPORT_ERROR=1 to suppress this message.\n",
      "No module named 'mjrl'\n",
      "Warning: Flow failed to import. Set the environment variable D4RL_SUPPRESS_IMPORT_ERROR=1 to suppress this message.\n",
      "No module named 'flow'\n",
      "/data/user/R901105/.conda/envs/dev/lib/python3.11/site-packages/glfw/__init__.py:916: GLFWError: (65544) b'X11: The DISPLAY environment variable is missing'\n",
      "  warnings.warn(message, GLFWError)\n",
      "Warning: FrankaKitchen failed to import. Set the environment variable D4RL_SUPPRESS_IMPORT_ERROR=1 to suppress this message.\n",
      "No module named 'dm_env'\n",
      "Warning: CARLA failed to import. Set the environment variable D4RL_SUPPRESS_IMPORT_ERROR=1 to suppress this message.\n",
      "No module named 'carla'\n",
      "/data/user/R901105/.conda/envs/dev/lib/python3.11/site-packages/gymnasium/envs/registration.py:596: UserWarning: \u001b[33mWARN: plugin: shimmy.registration:register_gymnasium_envs raised Traceback (most recent call last):\n",
      "  File \"/data/user/R901105/.conda/envs/dev/lib/python3.11/site-packages/gymnasium/envs/registration.py\", line 594, in load_plugin_envs\n",
      "    fn()\n",
      "  File \"/data/user/R901105/.conda/envs/dev/lib/python3.11/site-packages/shimmy/registration.py\", line 303, in register_gymnasium_envs\n",
      "    _register_dm_control_envs()\n",
      "  File \"/data/user/R901105/.conda/envs/dev/lib/python3.11/site-packages/shimmy/registration.py\", line 63, in _register_dm_control_envs\n",
      "    from shimmy.dm_control_compatibility import DmControlCompatibilityV0\n",
      "  File \"/data/user/R901105/.conda/envs/dev/lib/python3.11/site-packages/shimmy/dm_control_compatibility.py\", line 13, in <module>\n",
      "    import dm_env\n",
      "ModuleNotFoundError: No module named 'dm_env'\n",
      "\u001b[0m\n",
      "  logger.warn(f\"plugin: {plugin.value} raised {traceback.format_exc()}\")\n"
     ]
    }
   ],
   "source": [
    "import torch\n",
    "import numpy as np\n",
    "import torch.nn as nn\n",
    "import torch.optim as optim\n",
    "from torch.utils.data import Dataset\n",
    "from sklearn.model_selection import train_test_split\n",
    "from sklearn.metrics import confusion_matrix\n",
    "import matplotlib.pyplot as plt\n",
    "\n",
    "from examples.offline.utils import load_buffer_d4rl\n",
    "from torch.utils.data import DataLoader\n",
    "import matplotlib.pyplot as plt"
   ]
  },
  {
   "cell_type": "code",
   "execution_count": 2,
   "metadata": {},
   "outputs": [],
   "source": [
    "device = \"cuda\"\n",
    "learning_rate = 1e-3\n",
    "batch_size = 64\n",
    "epochs = 5\n",
    "hidden_sizes = [128, 256, 128]"
   ]
  },
  {
   "cell_type": "code",
   "execution_count": 3,
   "metadata": {},
   "outputs": [
    {
     "name": "stderr",
     "output_type": "stream",
     "text": [
      "/data/user/R901105/.conda/envs/dev/lib/python3.11/site-packages/gym/envs/mujoco/mujoco_env.py:190: UserWarning: \u001b[33mWARN: This version of the mujoco environments depends on the mujoco-py bindings, which are no longer maintained and may stop working. Please upgrade to the v4 versions of the environments (which depend on the mujoco python bindings instead), unless you are trying to precisely replicate previous works).\u001b[0m\n",
      "  logger.warn(\n",
      "/data/user/R901105/.conda/envs/dev/lib/python3.11/site-packages/gym/spaces/box.py:127: UserWarning: \u001b[33mWARN: Box bound precision lowered by casting to float32\u001b[0m\n",
      "  logger.warn(f\"Box bound precision lowered by casting to {self.dtype}\")\n",
      "load datafile:   0%|          | 0/21 [00:00<?, ?it/s]"
     ]
    },
    {
     "name": "stderr",
     "output_type": "stream",
     "text": [
      "load datafile: 100%|██████████| 21/21 [00:01<00:00, 10.82it/s]\n"
     ]
    }
   ],
   "source": [
    "IDdata = load_buffer_d4rl(\"halfcheetah-medium-v2\")"
   ]
  },
  {
   "cell_type": "code",
   "execution_count": 4,
   "metadata": {},
   "outputs": [
    {
     "name": "stderr",
     "output_type": "stream",
     "text": [
      "load datafile:   0%|          | 0/9 [00:00<?, ?it/s]"
     ]
    },
    {
     "name": "stderr",
     "output_type": "stream",
     "text": [
      "load datafile: 100%|██████████| 9/9 [00:01<00:00,  4.73it/s]\n"
     ]
    }
   ],
   "source": [
    "ODdata = load_buffer_d4rl(\"halfcheetah-random-v2\")"
   ]
  },
  {
   "cell_type": "code",
   "execution_count": 5,
   "metadata": {},
   "outputs": [],
   "source": [
    "class MyModel(nn.Module):\n",
    "    def __init__(self, input_size, hidden_sizes):\n",
    "        super(MyModel, self).__init__()\n",
    "        self.input_layer = nn.Linear(input_size, hidden_sizes[0])\n",
    "        self.hidden_layers = nn.ModuleList([\n",
    "            nn.Linear(hidden_sizes[i], hidden_sizes[i+1])\n",
    "            for i in range(len(hidden_sizes) - 1)\n",
    "        ])\n",
    "        self.output_layer = nn.Linear(hidden_sizes[-1], 1)  # 1 output for energy score\n",
    "    \n",
    "    def forward(self, x):\n",
    "        x = torch.relu(self.input_layer(x))\n",
    "        for hidden_layer in self.hidden_layers:\n",
    "            x = torch.relu(hidden_layer(x))\n",
    "        output = self.output_layer(x)\n",
    "        return torch.sigmoid(output)"
   ]
  },
  {
   "cell_type": "code",
   "execution_count": 6,
   "metadata": {},
   "outputs": [],
   "source": [
    "class MyData(Dataset):\n",
    "    def __init__(self, IDobs, ODobs, device=device):\n",
    "        self.IDobs = torch.from_numpy(IDobs)\n",
    "        self.ODobs = torch.from_numpy(ODobs)\n",
    "        self.X = torch.concatenate((self.IDobs, self.ODobs)).to(device)\n",
    "        self.y = torch.concatenate((torch.ones(len(self.IDobs)), torch.zeros(len(self.ODobs)))).unsqueeze(-1).to(device)\n",
    "\n",
    "    def __len__(self):\n",
    "        return len(self.X)\n",
    "    \n",
    "    def __getitem__(self, index):\n",
    "        return self.X[index], self.y[index]"
   ]
  },
  {
   "cell_type": "code",
   "execution_count": 7,
   "metadata": {},
   "outputs": [],
   "source": [
    "train_ID, test_ID = train_test_split(IDdata.obs, test_size=0.2)\n",
    "train_ID, val_ID = train_test_split(train_ID, test_size=0.2)\n",
    "train_OD, test_OD = train_test_split(ODdata.obs, test_size=0.2)\n",
    "train_OD, val_OD = train_test_split(train_OD, test_size=0.2)"
   ]
  },
  {
   "cell_type": "code",
   "execution_count": 8,
   "metadata": {},
   "outputs": [],
   "source": [
    "train_data = MyData(train_ID, train_OD)\n",
    "val_data = MyData(val_ID, val_OD)\n",
    "test_data = MyData(test_ID, test_OD)"
   ]
  },
  {
   "cell_type": "code",
   "execution_count": 9,
   "metadata": {},
   "outputs": [],
   "source": [
    "train_dataloader = DataLoader(train_data, batch_size=64, shuffle=True)\n",
    "val_dataloader = DataLoader(val_data, batch_size=64, shuffle=True)\n",
    "test_dataloader = DataLoader(test_data, batch_size=64, shuffle=True)"
   ]
  },
  {
   "cell_type": "code",
   "execution_count": 10,
   "metadata": {},
   "outputs": [],
   "source": [
    "train_features, train_labels = next(iter(train_dataloader))"
   ]
  },
  {
   "cell_type": "code",
   "execution_count": 11,
   "metadata": {},
   "outputs": [],
   "source": [
    "input_size = list(train_features[0].shape)[0]"
   ]
  },
  {
   "cell_type": "code",
   "execution_count": 12,
   "metadata": {},
   "outputs": [
    {
     "name": "stdout",
     "output_type": "stream",
     "text": [
      "Model structure: MyModel(\n",
      "  (input_layer): Linear(in_features=17, out_features=128, bias=True)\n",
      "  (hidden_layers): ModuleList(\n",
      "    (0): Linear(in_features=128, out_features=256, bias=True)\n",
      "    (1): Linear(in_features=256, out_features=128, bias=True)\n",
      "  )\n",
      "  (output_layer): Linear(in_features=128, out_features=1, bias=True)\n",
      ")\n",
      "\n",
      "\n"
     ]
    }
   ],
   "source": [
    "model = MyModel(input_size, hidden_sizes).to(device)\n",
    "print(f\"Model structure: {model}\\n\\n\")"
   ]
  },
  {
   "cell_type": "code",
   "execution_count": 13,
   "metadata": {},
   "outputs": [],
   "source": [
    "loss_fn = nn.BCELoss()"
   ]
  },
  {
   "cell_type": "code",
   "execution_count": 14,
   "metadata": {},
   "outputs": [],
   "source": [
    "optimizer = optim.SGD(model.parameters(), lr=learning_rate)"
   ]
  },
  {
   "cell_type": "code",
   "execution_count": 15,
   "metadata": {},
   "outputs": [],
   "source": [
    "def train_loop(dataloader, model, loss_fn, optimizer, val_dataloader=None, epochs=1):\n",
    "    for epoch in range(epochs):\n",
    "        model.train()\n",
    "        total_train_loss = 0\n",
    "        for X, y in dataloader:\n",
    "            optimizer.zero_grad()  # Zero gradients before forward pass\n",
    "            pred = model(X)\n",
    "            loss = loss_fn(pred, y)\n",
    "            loss.backward()\n",
    "            optimizer.step()\n",
    "\n",
    "            total_train_loss += loss.item()\n",
    "\n",
    "        avg_train_loss = total_train_loss / len(dataloader)\n",
    "\n",
    "        if val_dataloader:\n",
    "            model.eval()\n",
    "            total_val_loss = 0\n",
    "            with torch.no_grad():\n",
    "                for X_val, y_val in val_dataloader:\n",
    "                    pred_val = model(X_val)\n",
    "                    val_loss = loss_fn(pred_val, y_val).item()\n",
    "                    total_val_loss += val_loss\n",
    "\n",
    "            avg_val_loss = total_val_loss / len(val_dataloader)\n",
    "            print(f\"Epoch {epoch+1}/{epochs}, Train Loss: {avg_train_loss:.4f}, Validation Loss: {avg_val_loss:.4f}\")\n",
    "\n",
    "    return avg_train_loss, avg_val_loss\n",
    "\n",
    "def plot_losses(train_losses, val_losses):\n",
    "    plt.figure(figsize=(10, 6))\n",
    "    plt.plot(train_losses, label='Training Loss')\n",
    "    plt.plot(val_losses, label='Validation Loss')\n",
    "    plt.title('Training and Validation Losses')\n",
    "    plt.xlabel('Epochs')\n",
    "    plt.ylabel('Loss')\n",
    "    plt.legend()\n",
    "    plt.show()"
   ]
  },
  {
   "cell_type": "code",
   "execution_count": 16,
   "metadata": {},
   "outputs": [
    {
     "name": "stdout",
     "output_type": "stream",
     "text": [
      "loss: 0.683326  [   64/1278720]\n",
      "Validation Loss: 0.690828\n",
      "loss: 0.667142  [ 6464/1278720]\n",
      "Validation Loss: 0.691787\n",
      "loss: 0.651765  [12864/1278720]\n",
      "Validation Loss: 0.649237\n",
      "loss: 0.616587  [19264/1278720]\n",
      "Validation Loss: 0.658497\n",
      "loss: 0.631543  [25664/1278720]\n",
      "Validation Loss: 0.647311\n",
      "loss: 0.630650  [32064/1278720]\n",
      "Validation Loss: 0.608817\n",
      "loss: 0.600752  [38464/1278720]\n",
      "Validation Loss: 0.586184\n",
      "loss: 0.591708  [44864/1278720]\n",
      "Validation Loss: 0.576557\n",
      "loss: 0.557294  [51264/1278720]\n",
      "Validation Loss: 0.555712\n",
      "loss: 0.569211  [57664/1278720]\n",
      "Validation Loss: 0.532264\n",
      "loss: 0.527028  [64064/1278720]\n",
      "Validation Loss: 0.499623\n",
      "loss: 0.511635  [70464/1278720]\n",
      "Validation Loss: 0.493605\n",
      "loss: 0.481784  [76864/1278720]\n",
      "Validation Loss: 0.512860\n",
      "loss: 0.437001  [83264/1278720]\n",
      "Validation Loss: 0.430846\n",
      "loss: 0.417916  [89664/1278720]\n",
      "Validation Loss: 0.434237\n",
      "loss: 0.366937  [96064/1278720]\n",
      "Validation Loss: 0.434463\n",
      "loss: 0.364762  [102464/1278720]\n",
      "Validation Loss: 0.363198\n",
      "loss: 0.331065  [108864/1278720]\n",
      "Validation Loss: 0.310389\n",
      "loss: 0.268785  [115264/1278720]\n",
      "Validation Loss: 0.299662\n",
      "loss: 0.268898  [121664/1278720]\n",
      "Validation Loss: 0.244046\n",
      "loss: 0.291565  [128064/1278720]\n",
      "Validation Loss: 0.271613\n",
      "loss: 0.233862  [134464/1278720]\n",
      "Validation Loss: 0.220690\n",
      "loss: 0.245528  [140864/1278720]\n",
      "Validation Loss: 0.232939\n",
      "loss: 0.222898  [147264/1278720]\n",
      "Validation Loss: 0.209028\n",
      "loss: 0.224608  [153664/1278720]\n",
      "Validation Loss: 0.206369\n",
      "loss: 0.189643  [160064/1278720]\n",
      "Validation Loss: 0.144346\n",
      "loss: 0.156322  [166464/1278720]\n",
      "Validation Loss: 0.185793\n",
      "loss: 0.117295  [172864/1278720]\n",
      "Validation Loss: 0.155298\n",
      "loss: 0.099392  [179264/1278720]\n",
      "Validation Loss: 0.192109\n",
      "loss: 0.126257  [185664/1278720]\n",
      "Validation Loss: 0.211383\n",
      "loss: 0.129607  [192064/1278720]\n",
      "Validation Loss: 0.134554\n",
      "loss: 0.141105  [198464/1278720]\n",
      "Validation Loss: 0.084597\n",
      "loss: 0.107297  [204864/1278720]\n",
      "Validation Loss: 0.130276\n",
      "loss: 0.082203  [211264/1278720]\n",
      "Validation Loss: 0.097645\n",
      "loss: 0.095140  [217664/1278720]\n",
      "Validation Loss: 0.146290\n",
      "loss: 0.098587  [224064/1278720]\n",
      "Validation Loss: 0.065377\n",
      "loss: 0.090907  [230464/1278720]\n",
      "Validation Loss: 0.112774\n",
      "loss: 0.128895  [236864/1278720]\n",
      "Validation Loss: 0.188629\n",
      "loss: 0.133097  [243264/1278720]\n",
      "Validation Loss: 0.106601\n",
      "loss: 0.089884  [249664/1278720]\n",
      "Validation Loss: 0.087419\n",
      "loss: 0.114734  [256064/1278720]\n",
      "Validation Loss: 0.056127\n",
      "loss: 0.038582  [262464/1278720]\n",
      "Validation Loss: 0.087375\n",
      "loss: 0.050264  [268864/1278720]\n",
      "Validation Loss: 0.127411\n",
      "loss: 0.067839  [275264/1278720]\n",
      "Validation Loss: 0.058320\n",
      "loss: 0.081480  [281664/1278720]\n",
      "Validation Loss: 0.111980\n",
      "loss: 0.048958  [288064/1278720]\n",
      "Validation Loss: 0.169892\n",
      "loss: 0.062899  [294464/1278720]\n",
      "Validation Loss: 0.072942\n",
      "loss: 0.053408  [300864/1278720]\n",
      "Validation Loss: 0.126651\n",
      "loss: 0.062333  [307264/1278720]\n",
      "Validation Loss: 0.088064\n",
      "loss: 0.042362  [313664/1278720]\n",
      "Validation Loss: 0.104986\n",
      "loss: 0.063595  [320064/1278720]\n",
      "Validation Loss: 0.074393\n",
      "loss: 0.124294  [326464/1278720]\n",
      "Validation Loss: 0.045702\n",
      "loss: 0.035305  [332864/1278720]\n",
      "Validation Loss: 0.067823\n",
      "loss: 0.079197  [339264/1278720]\n",
      "Validation Loss: 0.153021\n",
      "loss: 0.041938  [345664/1278720]\n",
      "Validation Loss: 0.046900\n",
      "loss: 0.033828  [352064/1278720]\n",
      "Validation Loss: 0.026967\n",
      "loss: 0.134816  [358464/1278720]\n",
      "Validation Loss: 0.024978\n",
      "loss: 0.036473  [364864/1278720]\n",
      "Validation Loss: 0.047966\n",
      "loss: 0.059290  [371264/1278720]\n",
      "Validation Loss: 0.157140\n",
      "loss: 0.038948  [377664/1278720]\n",
      "Validation Loss: 0.071314\n",
      "loss: 0.026745  [384064/1278720]\n",
      "Validation Loss: 0.061884\n",
      "loss: 0.066018  [390464/1278720]\n",
      "Validation Loss: 0.035927\n",
      "loss: 0.040435  [396864/1278720]\n",
      "Validation Loss: 0.156818\n",
      "loss: 0.038626  [403264/1278720]\n",
      "Validation Loss: 0.031817\n",
      "loss: 0.159312  [409664/1278720]\n",
      "Validation Loss: 0.132615\n",
      "loss: 0.078989  [416064/1278720]\n",
      "Validation Loss: 0.123090\n",
      "loss: 0.041021  [422464/1278720]\n",
      "Validation Loss: 0.042877\n",
      "loss: 0.090317  [428864/1278720]\n",
      "Validation Loss: 0.101563\n",
      "loss: 0.148614  [435264/1278720]\n",
      "Validation Loss: 0.046123\n",
      "loss: 0.029690  [441664/1278720]\n",
      "Validation Loss: 0.028125\n",
      "loss: 0.016633  [448064/1278720]\n",
      "Validation Loss: 0.059292\n",
      "loss: 0.039026  [454464/1278720]\n",
      "Validation Loss: 0.126210\n",
      "loss: 0.035430  [460864/1278720]\n",
      "Validation Loss: 0.031664\n",
      "loss: 0.029544  [467264/1278720]\n",
      "Validation Loss: 0.064574\n",
      "loss: 0.256309  [473664/1278720]\n",
      "Validation Loss: 0.057487\n",
      "loss: 0.022389  [480064/1278720]\n",
      "Validation Loss: 0.034142\n",
      "loss: 0.051963  [486464/1278720]\n",
      "Validation Loss: 0.083211\n",
      "loss: 0.012329  [492864/1278720]\n",
      "Validation Loss: 0.030964\n",
      "loss: 0.061912  [499264/1278720]\n",
      "Validation Loss: 0.018003\n",
      "loss: 0.022272  [505664/1278720]\n",
      "Validation Loss: 0.053321\n",
      "loss: 0.072191  [512064/1278720]\n",
      "Validation Loss: 0.025385\n",
      "loss: 0.022263  [518464/1278720]\n",
      "Validation Loss: 0.032124\n",
      "loss: 0.061885  [524864/1278720]\n",
      "Validation Loss: 0.023596\n",
      "loss: 0.041440  [531264/1278720]\n",
      "Validation Loss: 0.013157\n",
      "loss: 0.103496  [537664/1278720]\n",
      "Validation Loss: 0.108100\n",
      "loss: 0.058112  [544064/1278720]\n",
      "Validation Loss: 0.101340\n",
      "loss: 0.149730  [550464/1278720]\n",
      "Validation Loss: 0.134608\n",
      "loss: 0.133931  [556864/1278720]\n",
      "Validation Loss: 0.056760\n",
      "loss: 0.126728  [563264/1278720]\n",
      "Validation Loss: 0.115490\n",
      "loss: 0.019184  [569664/1278720]\n",
      "Validation Loss: 0.023176\n",
      "loss: 0.122604  [576064/1278720]\n",
      "Validation Loss: 0.024068\n",
      "loss: 0.059695  [582464/1278720]\n",
      "Validation Loss: 0.022912\n",
      "loss: 0.144057  [588864/1278720]\n",
      "Validation Loss: 0.018532\n"
     ]
    },
    {
     "ename": "KeyboardInterrupt",
     "evalue": "",
     "output_type": "error",
     "traceback": [
      "\u001b[0;31m---------------------------------------------------------------------------\u001b[0m",
      "\u001b[0;31mKeyboardInterrupt\u001b[0m                         Traceback (most recent call last)",
      "\u001b[1;32m/data/user/R901105/dev/my_fork/tianshou/ebm.ipynb Cell 16\u001b[0m line \u001b[0;36m1\n\u001b[0;32m----> <a href='vscode-notebook-cell://ssh-remote%2B7b22686f73744e616d65223a224f41532d333536227d/data/user/R901105/dev/my_fork/tianshou/ebm.ipynb#X21sdnNjb2RlLXJlbW90ZQ%3D%3D?line=0'>1</a>\u001b[0m train_losses, val_losses \u001b[39m=\u001b[39m train_loop(train_dataloader, model, loss_fn, optimizer, val_dataloader)\n",
      "\u001b[1;32m/data/user/R901105/dev/my_fork/tianshou/ebm.ipynb Cell 16\u001b[0m line \u001b[0;36m2\n\u001b[1;32m     <a href='vscode-notebook-cell://ssh-remote%2B7b22686f73744e616d65223a224f41532d333536227d/data/user/R901105/dev/my_fork/tianshou/ebm.ipynb#X21sdnNjb2RlLXJlbW90ZQ%3D%3D?line=22'>23</a>\u001b[0m model\u001b[39m.\u001b[39meval()\n\u001b[1;32m     <a href='vscode-notebook-cell://ssh-remote%2B7b22686f73744e616d65223a224f41532d333536227d/data/user/R901105/dev/my_fork/tianshou/ebm.ipynb#X21sdnNjb2RlLXJlbW90ZQ%3D%3D?line=23'>24</a>\u001b[0m \u001b[39mwith\u001b[39;00m torch\u001b[39m.\u001b[39mno_grad():\n\u001b[0;32m---> <a href='vscode-notebook-cell://ssh-remote%2B7b22686f73744e616d65223a224f41532d333536227d/data/user/R901105/dev/my_fork/tianshou/ebm.ipynb#X21sdnNjb2RlLXJlbW90ZQ%3D%3D?line=24'>25</a>\u001b[0m     X, y \u001b[39m=\u001b[39m \u001b[39mnext\u001b[39m(\u001b[39miter\u001b[39m(val_dataloader))\n\u001b[1;32m     <a href='vscode-notebook-cell://ssh-remote%2B7b22686f73744e616d65223a224f41532d333536227d/data/user/R901105/dev/my_fork/tianshou/ebm.ipynb#X21sdnNjb2RlLXJlbW90ZQ%3D%3D?line=25'>26</a>\u001b[0m     pred \u001b[39m=\u001b[39m model(X)\n\u001b[1;32m     <a href='vscode-notebook-cell://ssh-remote%2B7b22686f73744e616d65223a224f41532d333536227d/data/user/R901105/dev/my_fork/tianshou/ebm.ipynb#X21sdnNjb2RlLXJlbW90ZQ%3D%3D?line=26'>27</a>\u001b[0m     val_loss \u001b[39m=\u001b[39m loss_fn(pred, y)\u001b[39m.\u001b[39mitem()\n",
      "File \u001b[0;32m/data/user/R901105/.conda/envs/dev/lib/python3.11/site-packages/torch/utils/data/dataloader.py:634\u001b[0m, in \u001b[0;36m_BaseDataLoaderIter.__next__\u001b[0;34m(self)\u001b[0m\n\u001b[1;32m    631\u001b[0m \u001b[39mif\u001b[39;00m \u001b[39mself\u001b[39m\u001b[39m.\u001b[39m_sampler_iter \u001b[39mis\u001b[39;00m \u001b[39mNone\u001b[39;00m:\n\u001b[1;32m    632\u001b[0m     \u001b[39m# TODO(https://github.com/pytorch/pytorch/issues/76750)\u001b[39;00m\n\u001b[1;32m    633\u001b[0m     \u001b[39mself\u001b[39m\u001b[39m.\u001b[39m_reset()  \u001b[39m# type: ignore[call-arg]\u001b[39;00m\n\u001b[0;32m--> 634\u001b[0m data \u001b[39m=\u001b[39m \u001b[39mself\u001b[39;49m\u001b[39m.\u001b[39;49m_next_data()\n\u001b[1;32m    635\u001b[0m \u001b[39mself\u001b[39m\u001b[39m.\u001b[39m_num_yielded \u001b[39m+\u001b[39m\u001b[39m=\u001b[39m \u001b[39m1\u001b[39m\n\u001b[1;32m    636\u001b[0m \u001b[39mif\u001b[39;00m \u001b[39mself\u001b[39m\u001b[39m.\u001b[39m_dataset_kind \u001b[39m==\u001b[39m _DatasetKind\u001b[39m.\u001b[39mIterable \u001b[39mand\u001b[39;00m \\\n\u001b[1;32m    637\u001b[0m         \u001b[39mself\u001b[39m\u001b[39m.\u001b[39m_IterableDataset_len_called \u001b[39mis\u001b[39;00m \u001b[39mnot\u001b[39;00m \u001b[39mNone\u001b[39;00m \u001b[39mand\u001b[39;00m \\\n\u001b[1;32m    638\u001b[0m         \u001b[39mself\u001b[39m\u001b[39m.\u001b[39m_num_yielded \u001b[39m>\u001b[39m \u001b[39mself\u001b[39m\u001b[39m.\u001b[39m_IterableDataset_len_called:\n",
      "File \u001b[0;32m/data/user/R901105/.conda/envs/dev/lib/python3.11/site-packages/torch/utils/data/dataloader.py:677\u001b[0m, in \u001b[0;36m_SingleProcessDataLoaderIter._next_data\u001b[0;34m(self)\u001b[0m\n\u001b[1;32m    676\u001b[0m \u001b[39mdef\u001b[39;00m \u001b[39m_next_data\u001b[39m(\u001b[39mself\u001b[39m):\n\u001b[0;32m--> 677\u001b[0m     index \u001b[39m=\u001b[39m \u001b[39mself\u001b[39;49m\u001b[39m.\u001b[39;49m_next_index()  \u001b[39m# may raise StopIteration\u001b[39;00m\n\u001b[1;32m    678\u001b[0m     data \u001b[39m=\u001b[39m \u001b[39mself\u001b[39m\u001b[39m.\u001b[39m_dataset_fetcher\u001b[39m.\u001b[39mfetch(index)  \u001b[39m# may raise StopIteration\u001b[39;00m\n\u001b[1;32m    679\u001b[0m     \u001b[39mif\u001b[39;00m \u001b[39mself\u001b[39m\u001b[39m.\u001b[39m_pin_memory:\n",
      "File \u001b[0;32m/data/user/R901105/.conda/envs/dev/lib/python3.11/site-packages/torch/utils/data/dataloader.py:624\u001b[0m, in \u001b[0;36m_BaseDataLoaderIter._next_index\u001b[0;34m(self)\u001b[0m\n\u001b[1;32m    623\u001b[0m \u001b[39mdef\u001b[39;00m \u001b[39m_next_index\u001b[39m(\u001b[39mself\u001b[39m):\n\u001b[0;32m--> 624\u001b[0m     \u001b[39mreturn\u001b[39;00m \u001b[39mnext\u001b[39m(\u001b[39mself\u001b[39m\u001b[39m.\u001b[39m_sampler_iter)\n",
      "File \u001b[0;32m/data/user/R901105/.conda/envs/dev/lib/python3.11/site-packages/torch/utils/data/sampler.py:254\u001b[0m, in \u001b[0;36mBatchSampler.__iter__\u001b[0;34m(self)\u001b[0m\n\u001b[1;32m    252\u001b[0m batch \u001b[39m=\u001b[39m [\u001b[39m0\u001b[39m] \u001b[39m*\u001b[39m \u001b[39mself\u001b[39m\u001b[39m.\u001b[39mbatch_size\n\u001b[1;32m    253\u001b[0m idx_in_batch \u001b[39m=\u001b[39m \u001b[39m0\u001b[39m\n\u001b[0;32m--> 254\u001b[0m \u001b[39mfor\u001b[39;00m idx \u001b[39min\u001b[39;00m \u001b[39mself\u001b[39m\u001b[39m.\u001b[39msampler:\n\u001b[1;32m    255\u001b[0m     batch[idx_in_batch] \u001b[39m=\u001b[39m idx\n\u001b[1;32m    256\u001b[0m     idx_in_batch \u001b[39m+\u001b[39m\u001b[39m=\u001b[39m \u001b[39m1\u001b[39m\n",
      "File \u001b[0;32m/data/user/R901105/.conda/envs/dev/lib/python3.11/site-packages/torch/utils/data/sampler.py:132\u001b[0m, in \u001b[0;36mRandomSampler.__iter__\u001b[0;34m(self)\u001b[0m\n\u001b[1;32m    130\u001b[0m \u001b[39melse\u001b[39;00m:\n\u001b[1;32m    131\u001b[0m     \u001b[39mfor\u001b[39;00m _ \u001b[39min\u001b[39;00m \u001b[39mrange\u001b[39m(\u001b[39mself\u001b[39m\u001b[39m.\u001b[39mnum_samples \u001b[39m/\u001b[39m\u001b[39m/\u001b[39m n):\n\u001b[0;32m--> 132\u001b[0m         \u001b[39myield from\u001b[39;00m torch\u001b[39m.\u001b[39;49mrandperm(n, generator\u001b[39m=\u001b[39;49mgenerator)\u001b[39m.\u001b[39mtolist()\n\u001b[1;32m    133\u001b[0m     \u001b[39myield from\u001b[39;00m torch\u001b[39m.\u001b[39mrandperm(n, generator\u001b[39m=\u001b[39mgenerator)\u001b[39m.\u001b[39mtolist()[:\u001b[39mself\u001b[39m\u001b[39m.\u001b[39mnum_samples \u001b[39m%\u001b[39m n]\n",
      "\u001b[0;31mKeyboardInterrupt\u001b[0m: "
     ]
    }
   ],
   "source": [
    "train_losses, val_losses = train_loop(train_dataloader, model, loss_fn, optimizer, val_dataloader, epochs=10)"
   ]
  },
  {
   "cell_type": "code",
   "execution_count": 17,
   "metadata": {},
   "outputs": [
    {
     "data": {
      "image/png": "[encoded data removed]",
      "text/plain": [
       "<Figure size 1000x600 with 1 Axes>"
      ]
     },
     "metadata": {},
     "output_type": "display_data"
    }
   ],
   "source": [
    "plot_losses(train_losses, val_losses)"
   ]
  },
  {
   "cell_type": "code",
   "execution_count": 20,
   "metadata": {},
   "outputs": [],
   "source": [
    "with torch.no_grad():\n",
    "    test_pred = model(test_dataloader.dataset.X).round().cpu()\n",
    "    test_labels = test_dataloader.dataset.y.cpu()\n",
    "\n",
    "cm = confusion_matrix(test_labels, test_pred)"
   ]
  },
  {
   "cell_type": "code",
   "execution_count": 21,
   "metadata": {},
   "outputs": [
    {
     "data": {
      "text/plain": [
       "array([[199438,    362],\n",
       "       [  4230, 195570]])"
      ]
     },
     "execution_count": 21,
     "metadata": {},
     "output_type": "execute_result"
    }
   ],
   "source": [
    "cm"
   ]
  }
 ],
 "metadata": {
  "kernelspec": {
   "display_name": "dev",
   "language": "python",
   "name": "python3"
  },
  "language_info": {
   "codemirror_mode": {
    "name": "ipython",
    "version": 3
   },
   "file_extension": ".py",
   "mimetype": "text/x-python",
   "name": "python",
   "nbconvert_exporter": "python",
   "pygments_lexer": "ipython3",
   "version": "3.11.4"
  }
 },
 "nbformat": 4,
 "nbformat_minor": 2
}
